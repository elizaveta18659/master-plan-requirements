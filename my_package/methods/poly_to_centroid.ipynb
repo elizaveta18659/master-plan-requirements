{
 "cells": [
  {
   "cell_type": "code",
   "execution_count": 1,
   "metadata": {},
   "outputs": [],
   "source": [
    "import geopandas as gpd"
   ]
  },
  {
   "cell_type": "code",
   "execution_count": null,
   "metadata": {},
   "outputs": [],
   "source": [
    "def extract_centroids_from_geojson(input_file, output_file):\n",
    "     # Загружаем GeoJSON файл\n",
    "    gdf = gpd.read_file(input_file)\n",
    "\n",
    "    # Вычисляем центроиды\n",
    "    centroids = gdf.geometry.centroid\n",
    "\n",
    "     # Создаем новый GeoDataFrame для центроидов\n",
    "    centroid_gdf = gpd.GeoDataFrame(geometry=centroids)\n",
    "\n",
    "    # Сохраняем центроиды в новый GeoJSON файл\n",
    "    centroid_gdf.to_file(output_file, driver='GeoJSON')\n",
    "\n",
    "    # Выводим результат\n",
    "    print(centroid_gdf)"
   ]
  },
  {
   "cell_type": "code",
   "execution_count": null,
   "metadata": {},
   "outputs": [],
   "source": [
    "# Пример использования функции\n",
    "extract_centroids_from_geojson('data/name.geojson', '/content/data/name_centroids.geojson')"
   ]
  }
 ],
 "metadata": {
  "kernelspec": {
   "display_name": ".venv",
   "language": "python",
   "name": "python3"
  },
  "language_info": {
   "codemirror_mode": {
    "name": "ipython",
    "version": 3
   },
   "file_extension": ".py",
   "mimetype": "text/x-python",
   "name": "python",
   "nbconvert_exporter": "python",
   "pygments_lexer": "ipython3",
   "version": "3.10.6"
  }
 },
 "nbformat": 4,
 "nbformat_minor": 2
}
