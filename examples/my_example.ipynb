{
 "cells": [
  {
   "cell_type": "markdown",
   "metadata": {},
   "source": [
    "## Категории, группы и теги"
   ]
  },
  {
   "cell_type": "code",
   "execution_count": 1,
   "metadata": {},
   "outputs": [],
   "source": [
    "from my_package.models import Tag, Group, Category, TAG_GROUP, TAG_CATEGORY, CATEGORIES_GROUPS, GROUPS_TAGS"
   ]
  },
  {
   "cell_type": "markdown",
   "metadata": {},
   "source": [
    "Можем для каждой группы/категории вывести дочерние вещи"
   ]
  },
  {
   "cell_type": "code",
   "execution_count": 2,
   "metadata": {},
   "outputs": [
    {
     "name": "stdout",
     "output_type": "stream",
     "text": [
      "Зонирование\n",
      "|- Функциональная зона\n",
      "|  |- Жилая\n",
      "|  |- Коммерческая\n",
      "|  |- Промышленная\n",
      "|  |- Сельскохозяйственная\n",
      "|  |- Социальная\n",
      "|  |- Водно-зеленый каркас\n",
      "По отношению к объекту\n",
      "|- Транспорт\n",
      "|  |- Общегородского значения\n",
      "|  |- Районного значения\n",
      "|  |- Местного значения\n",
      "|- Инфраструктура\n",
      "|  |- Медицинские учреждения\n",
      "|  |- Образовательные учреждения\n",
      "|  |- Спортивные объекты\n",
      "|  |- Коммерческие объекты\n",
      "|  |- Культурные объекты\n",
      "|  |- Рекреационные объекты\n",
      "|- Прибрежные объекты\n",
      "|  |- Водный объект\n",
      "|  |- Городская набережная\n",
      "|  |- Пляж\n",
      "|- Знаковые объекты\n",
      "|  |- Доминанты и видовые объекты\n",
      "|  |- Объекты культурного наследия\n",
      "|  |- Городские достопримечательности\n",
      "Пространственные параметры\n",
      "|- Этажность\n",
      "|  |- Высотная\n",
      "|  |- Многоэтажная\n",
      "|  |- Среднеэтажная\n",
      "|  |- Малоэтажная\n",
      "|- Центральность\n",
      "|  |- Центральный\n",
      "|  |- Не центральный\n",
      "|  |- Потенциально-центральный\n",
      "|- Назначение\n",
      "|  |- Жилая\n",
      "|  |- Нежилая\n",
      "|  |- Смешанная\n",
      "|- Плотность\n",
      "|  |- Плотная\n",
      "|  |- Низкоплотная\n"
     ]
    }
   ],
   "source": [
    "for category in Category:\n",
    "  print(category.value)\n",
    "  for group in CATEGORIES_GROUPS[category]:\n",
    "    print('|- ' + group.value)\n",
    "    for tag in GROUPS_TAGS[group]:\n",
    "      print('|  |- ' + tag.value)"
   ]
  },
  {
   "cell_type": "markdown",
   "metadata": {},
   "source": [
    "Можем для тэга получить его категорию и группу"
   ]
  },
  {
   "cell_type": "code",
   "execution_count": 3,
   "metadata": {},
   "outputs": [
    {
     "name": "stdout",
     "output_type": "stream",
     "text": [
      "Жилая -> Назначение -> Пространственные параметры\n",
      "Коммерческая -> Функциональная зона -> Зонирование\n",
      "Промышленная -> Функциональная зона -> Зонирование\n",
      "Сельскохозяйственная -> Функциональная зона -> Зонирование\n",
      "Социальная -> Функциональная зона -> Зонирование\n",
      "Водно-зеленый каркас -> Функциональная зона -> Зонирование\n",
      "Общегородского значения -> Транспорт -> По отношению к объекту\n",
      "Районного значения -> Транспорт -> По отношению к объекту\n",
      "Местного значения -> Транспорт -> По отношению к объекту\n",
      "Медицинские учреждения -> Инфраструктура -> По отношению к объекту\n",
      "Образовательные учреждения -> Инфраструктура -> По отношению к объекту\n",
      "Спортивные объекты -> Инфраструктура -> По отношению к объекту\n",
      "Коммерческие объекты -> Инфраструктура -> По отношению к объекту\n",
      "Культурные объекты -> Инфраструктура -> По отношению к объекту\n",
      "Рекреационные объекты -> Инфраструктура -> По отношению к объекту\n",
      "Водный объект -> Прибрежные объекты -> По отношению к объекту\n",
      "Городская набережная -> Прибрежные объекты -> По отношению к объекту\n",
      "Пляж -> Прибрежные объекты -> По отношению к объекту\n",
      "Доминанты и видовые объекты -> Знаковые объекты -> По отношению к объекту\n",
      "Объекты культурного наследия -> Знаковые объекты -> По отношению к объекту\n",
      "Городские достопримечательности -> Знаковые объекты -> По отношению к объекту\n",
      "Центральный -> Центральность -> Пространственные параметры\n",
      "Потенциально-центральный -> Центральность -> Пространственные параметры\n",
      "Не центральный -> Центральность -> Пространственные параметры\n",
      "Нежилая -> Назначение -> Пространственные параметры\n",
      "Смешанная -> Назначение -> Пространственные параметры\n",
      "Плотная -> Плотность -> Пространственные параметры\n",
      "Низкоплотная -> Плотность -> Пространственные параметры\n",
      "Высотная -> Этажность -> Пространственные параметры\n",
      "Многоэтажная -> Этажность -> Пространственные параметры\n",
      "Среднеэтажная -> Этажность -> Пространственные параметры\n",
      "Малоэтажная -> Этажность -> Пространственные параметры\n"
     ]
    }
   ],
   "source": [
    "for tag in Tag:\n",
    "  group = TAG_GROUP[tag]\n",
    "  category = TAG_CATEGORY[tag]\n",
    "  print(f'{tag.value} -> {group.value} -> {category.value}')"
   ]
  },
  {
   "cell_type": "markdown",
   "metadata": {},
   "source": [
    "## Матрица перехода"
   ]
  },
  {
   "cell_type": "code",
   "execution_count": 4,
   "metadata": {},
   "outputs": [
    {
     "data": {
      "text/html": [
       "<div>\n",
       "<style scoped>\n",
       "    .dataframe tbody tr th:only-of-type {\n",
       "        vertical-align: middle;\n",
       "    }\n",
       "\n",
       "    .dataframe tbody tr th {\n",
       "        vertical-align: top;\n",
       "    }\n",
       "\n",
       "    .dataframe thead th {\n",
       "        text-align: right;\n",
       "    }\n",
       "</style>\n",
       "<table border=\"1\" class=\"dataframe\">\n",
       "  <thead>\n",
       "    <tr style=\"text-align: right;\">\n",
       "      <th></th>\n",
       "      <th>Tag.RESIDENTIAL</th>\n",
       "      <th>Tag.COMMERCIAL</th>\n",
       "      <th>Tag.INDUSTRIAL</th>\n",
       "      <th>Tag.AGRICULTURE</th>\n",
       "      <th>Tag.SOCIAL</th>\n",
       "      <th>Tag.RECREATION</th>\n",
       "    </tr>\n",
       "  </thead>\n",
       "  <tbody>\n",
       "    <tr>\n",
       "      <th>Tag.RESIDENTIAL</th>\n",
       "      <td>1.0</td>\n",
       "      <td>0.0</td>\n",
       "      <td>0.0</td>\n",
       "      <td>0.0</td>\n",
       "      <td>0.0</td>\n",
       "      <td>0.0</td>\n",
       "    </tr>\n",
       "    <tr>\n",
       "      <th>Tag.COMMERCIAL</th>\n",
       "      <td>0.0</td>\n",
       "      <td>0.5</td>\n",
       "      <td>0.0</td>\n",
       "      <td>0.0</td>\n",
       "      <td>0.0</td>\n",
       "      <td>0.5</td>\n",
       "    </tr>\n",
       "    <tr>\n",
       "      <th>Tag.INDUSTRIAL</th>\n",
       "      <td>0.1</td>\n",
       "      <td>0.3</td>\n",
       "      <td>0.5</td>\n",
       "      <td>0.0</td>\n",
       "      <td>0.1</td>\n",
       "      <td>0.0</td>\n",
       "    </tr>\n",
       "    <tr>\n",
       "      <th>Tag.AGRICULTURE</th>\n",
       "      <td>0.0</td>\n",
       "      <td>0.0</td>\n",
       "      <td>0.0</td>\n",
       "      <td>0.0</td>\n",
       "      <td>0.5</td>\n",
       "      <td>0.5</td>\n",
       "    </tr>\n",
       "    <tr>\n",
       "      <th>Tag.SOCIAL</th>\n",
       "      <td>0.0</td>\n",
       "      <td>0.0</td>\n",
       "      <td>0.0</td>\n",
       "      <td>0.0</td>\n",
       "      <td>1.0</td>\n",
       "      <td>0.0</td>\n",
       "    </tr>\n",
       "    <tr>\n",
       "      <th>Tag.RECREATION</th>\n",
       "      <td>0.0</td>\n",
       "      <td>0.0</td>\n",
       "      <td>0.0</td>\n",
       "      <td>0.0</td>\n",
       "      <td>0.0</td>\n",
       "      <td>1.0</td>\n",
       "    </tr>\n",
       "  </tbody>\n",
       "</table>\n",
       "</div>"
      ],
      "text/plain": [
       "                 Tag.RESIDENTIAL  Tag.COMMERCIAL  Tag.INDUSTRIAL  \\\n",
       "Tag.RESIDENTIAL              1.0             0.0             0.0   \n",
       "Tag.COMMERCIAL               0.0             0.5             0.0   \n",
       "Tag.INDUSTRIAL               0.1             0.3             0.5   \n",
       "Tag.AGRICULTURE              0.0             0.0             0.0   \n",
       "Tag.SOCIAL                   0.0             0.0             0.0   \n",
       "Tag.RECREATION               0.0             0.0             0.0   \n",
       "\n",
       "                 Tag.AGRICULTURE  Tag.SOCIAL  Tag.RECREATION  \n",
       "Tag.RESIDENTIAL              0.0         0.0             0.0  \n",
       "Tag.COMMERCIAL               0.0         0.0             0.5  \n",
       "Tag.INDUSTRIAL               0.0         0.1             0.0  \n",
       "Tag.AGRICULTURE              0.0         0.5             0.5  \n",
       "Tag.SOCIAL                   0.0         1.0             0.0  \n",
       "Tag.RECREATION               0.0         0.0             1.0  "
      ]
     },
     "execution_count": 4,
     "metadata": {},
     "output_type": "execute_result"
    }
   ],
   "source": [
    "from my_package.models.transition_matrix import TRANSITION_MATRIX\n",
    "\n",
    "TRANSITION_MATRIX"
   ]
  }
 ],
 "metadata": {
  "kernelspec": {
   "display_name": "Python 3.10.12 ('.venv': venv)",
   "language": "python",
   "name": "python3"
  },
  "language_info": {
   "codemirror_mode": {
    "name": "ipython",
    "version": 3
   },
   "file_extension": ".py",
   "mimetype": "text/x-python",
   "name": "python",
   "nbconvert_exporter": "python",
   "pygments_lexer": "ipython3",
   "version": "3.10.12"
  },
  "vscode": {
   "interpreter": {
    "hash": "f0a471422e49afcde9a951e2c84e78ade2aed222b230e1085483a621479a094e"
   }
  }
 },
 "nbformat": 4,
 "nbformat_minor": 2
}
