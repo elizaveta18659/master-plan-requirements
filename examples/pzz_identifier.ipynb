{
 "cells": [
  {
   "cell_type": "markdown",
   "metadata": {},
   "source": [
    " метод который слою кварталов и землепользования назначает тег из группы zoning"
   ]
  },
  {
   "cell_type": "code",
   "execution_count": 2,
   "metadata": {},
   "outputs": [],
   "source": [
    "from my_package.models import Tag, Group, GROUPS_TAGS"
   ]
  },
  {
   "cell_type": "code",
   "execution_count": 3,
   "metadata": {},
   "outputs": [
    {
     "data": {
      "text/plain": [
       "<Group.FUNCTIONAL_ZONE: 'Функциональная зона'>"
      ]
     },
     "execution_count": 3,
     "metadata": {},
     "output_type": "execute_result"
    }
   ],
   "source": [
    "Group.FUNCTIONAL_ZONE"
   ]
  },
  {
   "cell_type": "code",
   "execution_count": 4,
   "metadata": {},
   "outputs": [
    {
     "data": {
      "text/plain": [
       "[<Tag.RESIDENTIAL: 'Жилая зона'>,\n",
       " <Tag.PUBLIC_AND_BUSINESS: 'Общественно-деловая'>,\n",
       " <Tag.INDUSTRIAL: 'Производственная'>,\n",
       " <Tag.ENGINEERING_AND_TRANSPORTATION: 'Инженерная и транспортная инфраструктуры'>,\n",
       " <Tag.AGRICULTURAL: 'Сельскохозяйсвенного использования'>,\n",
       " <Tag.RECREATIONAL: 'Рекреационная'>,\n",
       " <Tag.SPETIAL_PURPOSE: 'Специального назначения'>]"
      ]
     },
     "execution_count": 4,
     "metadata": {},
     "output_type": "execute_result"
    }
   ],
   "source": [
    "GROUPS_TAGS[Group.FUNCTIONAL_ZONE]"
   ]
  }
 ],
 "metadata": {
  "kernelspec": {
   "display_name": ".venv",
   "language": "python",
   "name": "python3"
  },
  "language_info": {
   "codemirror_mode": {
    "name": "ipython",
    "version": 3
   },
   "file_extension": ".py",
   "mimetype": "text/x-python",
   "name": "python",
   "nbconvert_exporter": "python",
   "pygments_lexer": "ipython3",
   "version": "3.10.6"
  }
 },
 "nbformat": 4,
 "nbformat_minor": 2
}
