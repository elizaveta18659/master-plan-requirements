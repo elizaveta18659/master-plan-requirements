{
 "cells": [
  {
   "cell_type": "code",
   "execution_count": 1,
   "metadata": {},
   "outputs": [
    {
     "data": {
      "text/html": [
       "<div>\n",
       "<style scoped>\n",
       "    .dataframe tbody tr th:only-of-type {\n",
       "        vertical-align: middle;\n",
       "    }\n",
       "\n",
       "    .dataframe tbody tr th {\n",
       "        vertical-align: top;\n",
       "    }\n",
       "\n",
       "    .dataframe thead th {\n",
       "        text-align: right;\n",
       "    }\n",
       "</style>\n",
       "<table border=\"1\" class=\"dataframe\">\n",
       "  <thead>\n",
       "    <tr style=\"text-align: right;\">\n",
       "      <th></th>\n",
       "      <th>geometry</th>\n",
       "    </tr>\n",
       "  </thead>\n",
       "  <tbody>\n",
       "    <tr>\n",
       "      <th>0</th>\n",
       "      <td>POLYGON ((354918.622 6625258.829, 354901.464 6...</td>\n",
       "    </tr>\n",
       "    <tr>\n",
       "      <th>1</th>\n",
       "      <td>POLYGON ((355412.142 6623378.149, 355411.700 6...</td>\n",
       "    </tr>\n",
       "    <tr>\n",
       "      <th>2</th>\n",
       "      <td>POLYGON ((353934.329 6625429.433, 353923.453 6...</td>\n",
       "    </tr>\n",
       "    <tr>\n",
       "      <th>3</th>\n",
       "      <td>POLYGON ((355099.099 6623847.765, 355074.808 6...</td>\n",
       "    </tr>\n",
       "    <tr>\n",
       "      <th>4</th>\n",
       "      <td>POLYGON ((352766.168 6621954.748, 352744.412 6...</td>\n",
       "    </tr>\n",
       "  </tbody>\n",
       "</table>\n",
       "</div>"
      ],
      "text/plain": [
       "                                            geometry\n",
       "0  POLYGON ((354918.622 6625258.829, 354901.464 6...\n",
       "1  POLYGON ((355412.142 6623378.149, 355411.700 6...\n",
       "2  POLYGON ((353934.329 6625429.433, 353923.453 6...\n",
       "3  POLYGON ((355099.099 6623847.765, 355074.808 6...\n",
       "4  POLYGON ((352766.168 6621954.748, 352744.412 6..."
      ]
     },
     "execution_count": 1,
     "metadata": {},
     "output_type": "execute_result"
    }
   ],
   "source": [
    "import geopandas as gpd\n",
    "\n",
    "blocks_gdf = gpd.read_parquet('./data/blocks.parquet')[['geometry']]\n",
    "blocks_gdf.head()"
   ]
  },
  {
   "cell_type": "code",
   "execution_count": 2,
   "metadata": {},
   "outputs": [
    {
     "name": "stderr",
     "output_type": "stream",
     "text": [
      "\u001b[32m2025-01-23 05:36:53.673\u001b[0m | \u001b[33m\u001b[1mWARNING \u001b[0m | \u001b[36mmy_package.methods.zoning_tagger\u001b[0m:\u001b[36mrun\u001b[0m:\u001b[36m75\u001b[0m - \u001b[33m\u001b[1mNo landuse data is provided\u001b[0m\n",
      "\u001b[32m2025-01-23 05:36:53.673\u001b[0m | \u001b[1mINFO    \u001b[0m | \u001b[36mmy_package.methods.zoning_tagger\u001b[0m:\u001b[36mfetch_osm\u001b[0m:\u001b[36m30\u001b[0m - \u001b[1mFetching OSM data\u001b[0m\n",
      "\u001b[32m2025-01-23 05:37:06.236\u001b[0m | \u001b[32m\u001b[1mSUCCESS \u001b[0m | \u001b[36mmy_package.methods.zoning_tagger\u001b[0m:\u001b[36mfetch_osm\u001b[0m:\u001b[36m35\u001b[0m - \u001b[32m\u001b[1mOSM data fetched\u001b[0m\n",
      "\u001b[32m2025-01-23 05:37:06.273\u001b[0m | \u001b[1mINFO    \u001b[0m | \u001b[36mmy_package.methods.zoning_tagger\u001b[0m:\u001b[36m_process_data\u001b[0m:\u001b[36m39\u001b[0m - \u001b[1mProcessing data\u001b[0m\n",
      "\u001b[32m2025-01-23 05:37:06.340\u001b[0m | \u001b[32m\u001b[1mSUCCESS \u001b[0m | \u001b[36mmy_package.methods.zoning_tagger\u001b[0m:\u001b[36m_process_data\u001b[0m:\u001b[36m44\u001b[0m - \u001b[32m\u001b[1mData processed\u001b[0m\n",
      "\u001b[32m2025-01-23 05:37:06.375\u001b[0m | \u001b[1mINFO    \u001b[0m | \u001b[36mmy_package.methods.zoning_tagger\u001b[0m:\u001b[36m_get_probabilities\u001b[0m:\u001b[36m48\u001b[0m - \u001b[1mCalculating probabilities\u001b[0m\n",
      "\u001b[32m2025-01-23 05:37:12.175\u001b[0m | \u001b[32m\u001b[1mSUCCESS \u001b[0m | \u001b[36mmy_package.methods.zoning_tagger\u001b[0m:\u001b[36m_get_probabilities\u001b[0m:\u001b[36m69\u001b[0m - \u001b[32m\u001b[1mProbabilities calculated\u001b[0m\n"
     ]
    }
   ],
   "source": [
    "from my_package.methods.zoning_tagger import ZoningTagger\n",
    "\n",
    "zt = ZoningTagger(blocks_gdf)\n",
    "zoning_gdf = zt.run()"
   ]
  },
  {
   "cell_type": "code",
   "execution_count": 3,
   "metadata": {},
   "outputs": [
    {
     "name": "stderr",
     "output_type": "stream",
     "text": [
      "\u001b[32m2025-01-23 05:37:13.787\u001b[0m | \u001b[1mINFO    \u001b[0m | \u001b[36mmy_package.methods.spatial_tagger\u001b[0m:\u001b[36m_fetch_osm\u001b[0m:\u001b[36m35\u001b[0m - \u001b[1mFetching OSM data\u001b[0m\n",
      "\u001b[32m2025-01-23 05:38:07.239\u001b[0m | \u001b[32m\u001b[1mSUCCESS \u001b[0m | \u001b[36mmy_package.methods.spatial_tagger\u001b[0m:\u001b[36m_fetch_osm\u001b[0m:\u001b[36m40\u001b[0m - \u001b[32m\u001b[1mOSM data fetched\u001b[0m\n",
      "\u001b[32m2025-01-23 05:38:07.538\u001b[0m | \u001b[1mINFO    \u001b[0m | \u001b[36mmy_package.methods.spatial_tagger\u001b[0m:\u001b[36m_process_osm\u001b[0m:\u001b[36m85\u001b[0m - \u001b[1mProcessing OSM data\u001b[0m\n",
      "100%|██████████| 4/4 [00:05<00:00,  1.46s/it]\n",
      "\u001b[32m2025-01-23 05:38:13.395\u001b[0m | \u001b[32m\u001b[1mSUCCESS \u001b[0m | \u001b[36mmy_package.methods.spatial_tagger\u001b[0m:\u001b[36m_process_osm\u001b[0m:\u001b[36m103\u001b[0m - \u001b[32m\u001b[1mOSM data processed\u001b[0m\n",
      "\u001b[32m2025-01-23 05:38:13.463\u001b[0m | \u001b[1mINFO    \u001b[0m | \u001b[36mmy_package.methods.spatial_tagger\u001b[0m:\u001b[36m_get_tags\u001b[0m:\u001b[36m140\u001b[0m - \u001b[1mGetting tags\u001b[0m\n",
      "100%|██████████| 3/3 [00:00<00:00, 13.02it/s]\n",
      "\u001b[32m2025-01-23 05:38:15.115\u001b[0m | \u001b[32m\u001b[1mSUCCESS \u001b[0m | \u001b[36mmy_package.methods.spatial_tagger\u001b[0m:\u001b[36m_get_tags\u001b[0m:\u001b[36m169\u001b[0m - \u001b[32m\u001b[1mTags obtained\u001b[0m\n"
     ]
    }
   ],
   "source": [
    "from my_package.methods.spatial_tagger import SpatialTagger\n",
    "\n",
    "st = SpatialTagger(blocks_gdf)\n",
    "spatial_gdf = st.run()"
   ]
  },
  {
   "cell_type": "code",
   "execution_count": null,
   "metadata": {},
   "outputs": [],
   "source": [
    "spatial_gdf"
   ]
  },
  {
   "cell_type": "code",
   "execution_count": 5,
   "metadata": {},
   "outputs": [
    {
     "name": "stderr",
     "output_type": "stream",
     "text": [
      "\u001b[32m2025-01-23 06:58:12.899\u001b[0m | \u001b[32m\u001b[1mSUCCESS \u001b[0m | \u001b[36mmy_package.methods.relation_tagger_change\u001b[0m:\u001b[36m_read_objects_gdf\u001b[0m:\u001b[36m174\u001b[0m - \u001b[32m\u001b[1mFile read ./data/serv\\aerodrome.geojson\u001b[0m\n",
      "\u001b[32m2025-01-23 06:58:12.904\u001b[0m | \u001b[32m\u001b[1mSUCCESS \u001b[0m | \u001b[36mmy_package.methods.relation_tagger_change\u001b[0m:\u001b[36m_read_objects_gdf\u001b[0m:\u001b[36m174\u001b[0m - \u001b[32m\u001b[1mFile read ./data/serv\\heliport.geojson\u001b[0m\n",
      "\u001b[32m2025-01-23 06:58:12.986\u001b[0m | \u001b[32m\u001b[1mSUCCESS \u001b[0m | \u001b[36mmy_package.methods.relation_tagger_change\u001b[0m:\u001b[36m_read_objects_gdf\u001b[0m:\u001b[36m174\u001b[0m - \u001b[32m\u001b[1mFile read ./data/serv\\train_station.geojson\u001b[0m\n",
      "\u001b[32m2025-01-23 06:58:12.997\u001b[0m | \u001b[32m\u001b[1mSUCCESS \u001b[0m | \u001b[36mmy_package.methods.relation_tagger_change\u001b[0m:\u001b[36m_read_objects_gdf\u001b[0m:\u001b[36m174\u001b[0m - \u001b[32m\u001b[1mFile read ./data/serv\\bus_station.geojson\u001b[0m\n",
      "\u001b[32m2025-01-23 06:58:13.004\u001b[0m | \u001b[32m\u001b[1mSUCCESS \u001b[0m | \u001b[36mmy_package.methods.relation_tagger_change\u001b[0m:\u001b[36m_read_objects_gdf\u001b[0m:\u001b[36m174\u001b[0m - \u001b[32m\u001b[1mFile read ./data/serv\\marina.geojson\u001b[0m\n",
      "\u001b[32m2025-01-23 06:58:13.019\u001b[0m | \u001b[32m\u001b[1mSUCCESS \u001b[0m | \u001b[36mmy_package.methods.relation_tagger_change\u001b[0m:\u001b[36m_read_objects_gdf\u001b[0m:\u001b[36m174\u001b[0m - \u001b[32m\u001b[1mFile read ./data/serv\\parking.geojson\u001b[0m\n",
      "\u001b[32m2025-01-23 06:58:13.744\u001b[0m | \u001b[32m\u001b[1mSUCCESS \u001b[0m | \u001b[36mmy_package.methods.relation_tagger_change\u001b[0m:\u001b[36m_read_objects_gdf\u001b[0m:\u001b[36m174\u001b[0m - \u001b[32m\u001b[1mFile read ./data/serv\\bus_stop.geojson\u001b[0m\n",
      "\u001b[32m2025-01-23 06:58:13.758\u001b[0m | \u001b[32m\u001b[1mSUCCESS \u001b[0m | \u001b[36mmy_package.methods.relation_tagger_change\u001b[0m:\u001b[36m_read_objects_gdf\u001b[0m:\u001b[36m174\u001b[0m - \u001b[32m\u001b[1mFile read ./data/serv\\subway_entrance.geojson\u001b[0m\n",
      "\u001b[32m2025-01-23 06:58:14.765\u001b[0m | \u001b[32m\u001b[1mSUCCESS \u001b[0m | \u001b[36mmy_package.methods.relation_tagger_change\u001b[0m:\u001b[36m_read_objects_gdf\u001b[0m:\u001b[36m174\u001b[0m - \u001b[32m\u001b[1mFile read ./data/serv\\tram.geojson\u001b[0m\n",
      "\u001b[32m2025-01-23 06:58:14.771\u001b[0m | \u001b[32m\u001b[1mSUCCESS \u001b[0m | \u001b[36mmy_package.methods.relation_tagger_change\u001b[0m:\u001b[36m_read_objects_gdf\u001b[0m:\u001b[36m174\u001b[0m - \u001b[32m\u001b[1mFile read ./data/serv\\change_dist_tr.geojson\u001b[0m\n",
      "\u001b[32m2025-01-23 06:58:14.785\u001b[0m | \u001b[32m\u001b[1mSUCCESS \u001b[0m | \u001b[36mmy_package.methods.relation_tagger_change\u001b[0m:\u001b[36m_read_objects_gdf\u001b[0m:\u001b[36m174\u001b[0m - \u001b[32m\u001b[1mFile read ./data/serv\\cycleway.geojson\u001b[0m\n",
      "\u001b[32m2025-01-23 06:58:14.949\u001b[0m | \u001b[32m\u001b[1mSUCCESS \u001b[0m | \u001b[36mmy_package.methods.relation_tagger_change\u001b[0m:\u001b[36m_read_objects_gdf\u001b[0m:\u001b[36m174\u001b[0m - \u001b[32m\u001b[1mFile read ./data/serv\\bicycle_parking.geojson\u001b[0m\n",
      "\u001b[32m2025-01-23 06:58:14.952\u001b[0m | \u001b[32m\u001b[1mSUCCESS \u001b[0m | \u001b[36mmy_package.methods.relation_tagger_change\u001b[0m:\u001b[36m_read_objects_gdf\u001b[0m:\u001b[36m174\u001b[0m - \u001b[32m\u001b[1mFile read ./data/serv\\kick-scooter_parking.geojson\u001b[0m\n",
      "\u001b[32m2025-01-23 06:58:14.956\u001b[0m | \u001b[32m\u001b[1mSUCCESS \u001b[0m | \u001b[36mmy_package.methods.relation_tagger_change\u001b[0m:\u001b[36m_read_objects_gdf\u001b[0m:\u001b[36m174\u001b[0m - \u001b[32m\u001b[1mFile read ./data/serv\\change_local_tr.geojson\u001b[0m\n",
      "\u001b[32m2025-01-23 06:58:14.966\u001b[0m | \u001b[32m\u001b[1mSUCCESS \u001b[0m | \u001b[36mmy_package.methods.relation_tagger_change\u001b[0m:\u001b[36m_read_objects_gdf\u001b[0m:\u001b[36m174\u001b[0m - \u001b[32m\u001b[1mFile read ./data/serv\\child_hospital.geojson\u001b[0m\n",
      "\u001b[32m2025-01-23 06:58:14.988\u001b[0m | \u001b[32m\u001b[1mSUCCESS \u001b[0m | \u001b[36mmy_package.methods.relation_tagger_change\u001b[0m:\u001b[36m_read_objects_gdf\u001b[0m:\u001b[36m174\u001b[0m - \u001b[32m\u001b[1mFile read ./data/serv\\child_polyclinic.geojson\u001b[0m\n",
      "\u001b[32m2025-01-23 06:58:15.258\u001b[0m | \u001b[32m\u001b[1mSUCCESS \u001b[0m | \u001b[36mmy_package.methods.relation_tagger_change\u001b[0m:\u001b[36m_read_objects_gdf\u001b[0m:\u001b[36m174\u001b[0m - \u001b[32m\u001b[1mFile read ./data/serv\\dentist.geojson\u001b[0m\n",
      "\u001b[32m2025-01-23 06:58:15.269\u001b[0m | \u001b[32m\u001b[1mSUCCESS \u001b[0m | \u001b[36mmy_package.methods.relation_tagger_change\u001b[0m:\u001b[36m_read_objects_gdf\u001b[0m:\u001b[36m174\u001b[0m - \u001b[32m\u001b[1mFile read ./data/serv\\hospital.geojson\u001b[0m\n",
      "\u001b[32m2025-01-23 06:58:15.299\u001b[0m | \u001b[32m\u001b[1mSUCCESS \u001b[0m | \u001b[36mmy_package.methods.relation_tagger_change\u001b[0m:\u001b[36m_read_objects_gdf\u001b[0m:\u001b[36m174\u001b[0m - \u001b[32m\u001b[1mFile read ./data/serv\\polyclinic.geojson\u001b[0m\n",
      "\u001b[32m2025-01-23 06:58:15.308\u001b[0m | \u001b[32m\u001b[1mSUCCESS \u001b[0m | \u001b[36mmy_package.methods.relation_tagger_change\u001b[0m:\u001b[36m_read_objects_gdf\u001b[0m:\u001b[36m174\u001b[0m - \u001b[32m\u001b[1mFile read ./data/serv\\roddom.geojson\u001b[0m\n",
      "\u001b[32m2025-01-23 06:58:15.326\u001b[0m | \u001b[32m\u001b[1mSUCCESS \u001b[0m | \u001b[36mmy_package.methods.relation_tagger_change\u001b[0m:\u001b[36m_read_objects_gdf\u001b[0m:\u001b[36m174\u001b[0m - \u001b[32m\u001b[1mFile read ./data/serv\\trauma.geojson\u001b[0m\n",
      "\u001b[32m2025-01-23 06:58:15.340\u001b[0m | \u001b[32m\u001b[1mSUCCESS \u001b[0m | \u001b[36mmy_package.methods.relation_tagger_change\u001b[0m:\u001b[36m_read_objects_gdf\u001b[0m:\u001b[36m174\u001b[0m - \u001b[32m\u001b[1mFile read ./data/serv\\morgue.geojson\u001b[0m\n",
      "\u001b[32m2025-01-23 06:58:15.360\u001b[0m | \u001b[32m\u001b[1mSUCCESS \u001b[0m | \u001b[36mmy_package.methods.relation_tagger_change\u001b[0m:\u001b[36m_read_objects_gdf\u001b[0m:\u001b[36m174\u001b[0m - \u001b[32m\u001b[1mFile read ./data/serv\\ambulance_station.geojson\u001b[0m\n",
      "\u001b[32m2025-01-23 06:58:15.560\u001b[0m | \u001b[32m\u001b[1mSUCCESS \u001b[0m | \u001b[36mmy_package.methods.relation_tagger_change\u001b[0m:\u001b[36m_read_objects_gdf\u001b[0m:\u001b[36m174\u001b[0m - \u001b[32m\u001b[1mFile read ./data/serv\\kindergarten.geojson\u001b[0m\n",
      "\u001b[32m2025-01-23 06:58:15.683\u001b[0m | \u001b[32m\u001b[1mSUCCESS \u001b[0m | \u001b[36mmy_package.methods.relation_tagger_change\u001b[0m:\u001b[36m_read_objects_gdf\u001b[0m:\u001b[36m174\u001b[0m - \u001b[32m\u001b[1mFile read ./data/serv\\school.geojson\u001b[0m\n",
      "\u001b[32m2025-01-23 06:58:15.705\u001b[0m | \u001b[32m\u001b[1mSUCCESS \u001b[0m | \u001b[36mmy_package.methods.relation_tagger_change\u001b[0m:\u001b[36m_read_objects_gdf\u001b[0m:\u001b[36m174\u001b[0m - \u001b[32m\u001b[1mFile read ./data/serv\\college.geojson\u001b[0m\n",
      "\u001b[32m2025-01-23 06:58:15.750\u001b[0m | \u001b[32m\u001b[1mSUCCESS \u001b[0m | \u001b[36mmy_package.methods.relation_tagger_change\u001b[0m:\u001b[36m_read_objects_gdf\u001b[0m:\u001b[36m174\u001b[0m - \u001b[32m\u001b[1mFile read ./data/serv\\university.geojson\u001b[0m\n",
      "\u001b[32m2025-01-23 06:58:15.757\u001b[0m | \u001b[32m\u001b[1mSUCCESS \u001b[0m | \u001b[36mmy_package.methods.relation_tagger_change\u001b[0m:\u001b[36m_read_objects_gdf\u001b[0m:\u001b[36m174\u001b[0m - \u001b[32m\u001b[1mFile read ./data/serv\\research_institute.geojson\u001b[0m\n",
      "\u001b[32m2025-01-23 06:58:15.761\u001b[0m | \u001b[32m\u001b[1mSUCCESS \u001b[0m | \u001b[36mmy_package.methods.relation_tagger_change\u001b[0m:\u001b[36m_read_objects_gdf\u001b[0m:\u001b[36m174\u001b[0m - \u001b[32m\u001b[1mFile read ./data/serv\\change_education.geojson\u001b[0m\n",
      "\u001b[32m2025-01-23 06:58:15.765\u001b[0m | \u001b[32m\u001b[1mSUCCESS \u001b[0m | \u001b[36mmy_package.methods.relation_tagger_change\u001b[0m:\u001b[36m_read_objects_gdf\u001b[0m:\u001b[36m174\u001b[0m - \u001b[32m\u001b[1mFile read ./data/serv\\grandstand.geojson\u001b[0m\n",
      "\u001b[32m2025-01-23 06:58:15.769\u001b[0m | \u001b[32m\u001b[1mSUCCESS \u001b[0m | \u001b[36mmy_package.methods.relation_tagger_change\u001b[0m:\u001b[36m_read_objects_gdf\u001b[0m:\u001b[36m174\u001b[0m - \u001b[32m\u001b[1mFile read ./data/serv\\sports_hall.geojson\u001b[0m\n",
      "\u001b[32m2025-01-23 06:58:15.777\u001b[0m | \u001b[32m\u001b[1mSUCCESS \u001b[0m | \u001b[36mmy_package.methods.relation_tagger_change\u001b[0m:\u001b[36m_read_objects_gdf\u001b[0m:\u001b[36m174\u001b[0m - \u001b[32m\u001b[1mFile read ./data/serv\\stadium.geojson\u001b[0m\n",
      "\u001b[32m2025-01-23 06:58:15.825\u001b[0m | \u001b[32m\u001b[1mSUCCESS \u001b[0m | \u001b[36mmy_package.methods.relation_tagger_change\u001b[0m:\u001b[36m_read_objects_gdf\u001b[0m:\u001b[36m174\u001b[0m - \u001b[32m\u001b[1mFile read ./data/serv\\fitness_centre.geojson\u001b[0m\n",
      "\u001b[32m2025-01-23 06:58:15.938\u001b[0m | \u001b[32m\u001b[1mSUCCESS \u001b[0m | \u001b[36mmy_package.methods.relation_tagger_change\u001b[0m:\u001b[36m_read_objects_gdf\u001b[0m:\u001b[36m174\u001b[0m - \u001b[32m\u001b[1mFile read ./data/serv\\pitch_centroids.geojson\u001b[0m\n",
      "\u001b[32m2025-01-23 06:58:15.957\u001b[0m | \u001b[32m\u001b[1mSUCCESS \u001b[0m | \u001b[36mmy_package.methods.relation_tagger_change\u001b[0m:\u001b[36m_read_objects_gdf\u001b[0m:\u001b[36m174\u001b[0m - \u001b[32m\u001b[1mFile read ./data/serv\\swimming_pool.geojson\u001b[0m\n",
      "\u001b[32m2025-01-23 06:58:15.960\u001b[0m | \u001b[32m\u001b[1mSUCCESS \u001b[0m | \u001b[36mmy_package.methods.relation_tagger_change\u001b[0m:\u001b[36m_read_objects_gdf\u001b[0m:\u001b[36m174\u001b[0m - \u001b[32m\u001b[1mFile read ./data/serv\\change_sport.geojson\u001b[0m\n",
      "\u001b[32m2025-01-23 06:58:19.379\u001b[0m | \u001b[32m\u001b[1mSUCCESS \u001b[0m | \u001b[36mmy_package.methods.relation_tagger_change\u001b[0m:\u001b[36m_read_objects_gdf\u001b[0m:\u001b[36m174\u001b[0m - \u001b[32m\u001b[1mFile read ./data/serv\\office.geojson\u001b[0m\n",
      "\u001b[32m2025-01-23 06:58:19.764\u001b[0m | \u001b[32m\u001b[1mSUCCESS \u001b[0m | \u001b[36mmy_package.methods.relation_tagger_change\u001b[0m:\u001b[36m_read_objects_gdf\u001b[0m:\u001b[36m174\u001b[0m - \u001b[32m\u001b[1mFile read ./data/serv\\retail.geojson\u001b[0m\n",
      "\u001b[32m2025-01-23 06:58:19.874\u001b[0m | \u001b[32m\u001b[1mSUCCESS \u001b[0m | \u001b[36mmy_package.methods.relation_tagger_change\u001b[0m:\u001b[36m_read_objects_gdf\u001b[0m:\u001b[36m174\u001b[0m - \u001b[32m\u001b[1mFile read ./data/serv\\bank.geojson\u001b[0m\n",
      "\u001b[32m2025-01-23 06:58:19.885\u001b[0m | \u001b[32m\u001b[1mSUCCESS \u001b[0m | \u001b[36mmy_package.methods.relation_tagger_change\u001b[0m:\u001b[36m_read_objects_gdf\u001b[0m:\u001b[36m174\u001b[0m - \u001b[32m\u001b[1mFile read ./data/serv\\marketplace.geojson\u001b[0m\n",
      "\u001b[32m2025-01-23 06:58:19.997\u001b[0m | \u001b[32m\u001b[1mSUCCESS \u001b[0m | \u001b[36mmy_package.methods.relation_tagger_change\u001b[0m:\u001b[36m_read_objects_gdf\u001b[0m:\u001b[36m174\u001b[0m - \u001b[32m\u001b[1mFile read ./data/serv\\convenience.geojson\u001b[0m\n",
      "\u001b[32m2025-01-23 06:58:20.237\u001b[0m | \u001b[32m\u001b[1mSUCCESS \u001b[0m | \u001b[36mmy_package.methods.relation_tagger_change\u001b[0m:\u001b[36m_read_objects_gdf\u001b[0m:\u001b[36m174\u001b[0m - \u001b[32m\u001b[1mFile read ./data/serv\\supermarket.geojson\u001b[0m\n",
      "\u001b[32m2025-01-23 06:58:20.345\u001b[0m | \u001b[32m\u001b[1mSUCCESS \u001b[0m | \u001b[36mmy_package.methods.relation_tagger_change\u001b[0m:\u001b[36m_read_objects_gdf\u001b[0m:\u001b[36m174\u001b[0m - \u001b[32m\u001b[1mFile read ./data/serv\\shop_pets.geojson\u001b[0m\n",
      "\u001b[32m2025-01-23 06:58:20.387\u001b[0m | \u001b[32m\u001b[1mSUCCESS \u001b[0m | \u001b[36mmy_package.methods.relation_tagger_change\u001b[0m:\u001b[36m_read_objects_gdf\u001b[0m:\u001b[36m174\u001b[0m - \u001b[32m\u001b[1mFile read ./data/serv\\books.geojson\u001b[0m\n",
      "\u001b[32m2025-01-23 06:58:20.898\u001b[0m | \u001b[32m\u001b[1mSUCCESS \u001b[0m | \u001b[36mmy_package.methods.relation_tagger_change\u001b[0m:\u001b[36m_read_objects_gdf\u001b[0m:\u001b[36m174\u001b[0m - \u001b[32m\u001b[1mFile read ./data/serv\\clothes.geojson\u001b[0m\n",
      "\u001b[32m2025-01-23 06:58:20.931\u001b[0m | \u001b[32m\u001b[1mSUCCESS \u001b[0m | \u001b[36mmy_package.methods.relation_tagger_change\u001b[0m:\u001b[36m_read_objects_gdf\u001b[0m:\u001b[36m174\u001b[0m - \u001b[32m\u001b[1mFile read ./data/serv\\craft.geojson\u001b[0m\n",
      "\u001b[32m2025-01-23 06:58:21.037\u001b[0m | \u001b[32m\u001b[1mSUCCESS \u001b[0m | \u001b[36mmy_package.methods.relation_tagger_change\u001b[0m:\u001b[36m_read_objects_gdf\u001b[0m:\u001b[36m174\u001b[0m - \u001b[32m\u001b[1mFile read ./data/serv\\electronic.geojson\u001b[0m\n",
      "\u001b[32m2025-01-23 06:58:21.350\u001b[0m | \u001b[32m\u001b[1mSUCCESS \u001b[0m | \u001b[36mmy_package.methods.relation_tagger_change\u001b[0m:\u001b[36m_read_objects_gdf\u001b[0m:\u001b[36m174\u001b[0m - \u001b[32m\u001b[1mFile read ./data/serv\\florist.geojson\u001b[0m\n",
      "\u001b[32m2025-01-23 06:58:21.470\u001b[0m | \u001b[32m\u001b[1mSUCCESS \u001b[0m | \u001b[36mmy_package.methods.relation_tagger_change\u001b[0m:\u001b[36m_read_objects_gdf\u001b[0m:\u001b[36m174\u001b[0m - \u001b[32m\u001b[1mFile read ./data/serv\\houseware.geojson\u001b[0m\n",
      "\u001b[32m2025-01-23 06:58:21.517\u001b[0m | \u001b[32m\u001b[1mSUCCESS \u001b[0m | \u001b[36mmy_package.methods.relation_tagger_change\u001b[0m:\u001b[36m_read_objects_gdf\u001b[0m:\u001b[36m174\u001b[0m - \u001b[32m\u001b[1mFile read ./data/serv\\shop_sport.geojson\u001b[0m\n",
      "\u001b[32m2025-01-23 06:58:21.663\u001b[0m | \u001b[32m\u001b[1mSUCCESS \u001b[0m | \u001b[36mmy_package.methods.relation_tagger_change\u001b[0m:\u001b[36m_read_objects_gdf\u001b[0m:\u001b[36m174\u001b[0m - \u001b[32m\u001b[1mFile read ./data/serv\\pharmacy.geojson\u001b[0m\n",
      "\u001b[32m2025-01-23 06:58:21.716\u001b[0m | \u001b[32m\u001b[1mSUCCESS \u001b[0m | \u001b[36mmy_package.methods.relation_tagger_change\u001b[0m:\u001b[36m_read_objects_gdf\u001b[0m:\u001b[36m174\u001b[0m - \u001b[32m\u001b[1mFile read ./data/serv\\bakery.geojson\u001b[0m\n",
      "\u001b[32m2025-01-23 06:58:21.892\u001b[0m | \u001b[32m\u001b[1mSUCCESS \u001b[0m | \u001b[36mmy_package.methods.relation_tagger_change\u001b[0m:\u001b[36m_read_objects_gdf\u001b[0m:\u001b[36m174\u001b[0m - \u001b[32m\u001b[1mFile read ./data/serv\\cafe.geojson\u001b[0m\n",
      "\u001b[32m2025-01-23 06:58:22.623\u001b[0m | \u001b[32m\u001b[1mSUCCESS \u001b[0m | \u001b[36mmy_package.methods.relation_tagger_change\u001b[0m:\u001b[36m_read_objects_gdf\u001b[0m:\u001b[36m174\u001b[0m - \u001b[32m\u001b[1mFile read ./data/serv\\restaurant.geojson\u001b[0m\n",
      "\u001b[32m2025-01-23 06:58:22.848\u001b[0m | \u001b[32m\u001b[1mSUCCESS \u001b[0m | \u001b[36mmy_package.methods.relation_tagger_change\u001b[0m:\u001b[36m_read_objects_gdf\u001b[0m:\u001b[36m174\u001b[0m - \u001b[32m\u001b[1mFile read ./data/serv\\bar.geojson\u001b[0m\n",
      "\u001b[32m2025-01-23 06:58:22.873\u001b[0m | \u001b[32m\u001b[1mSUCCESS \u001b[0m | \u001b[36mmy_package.methods.relation_tagger_change\u001b[0m:\u001b[36m_read_objects_gdf\u001b[0m:\u001b[36m174\u001b[0m - \u001b[32m\u001b[1mFile read ./data/serv\\shop_car.geojson\u001b[0m\n",
      "\u001b[32m2025-01-23 06:58:22.922\u001b[0m | \u001b[32m\u001b[1mSUCCESS \u001b[0m | \u001b[36mmy_package.methods.relation_tagger_change\u001b[0m:\u001b[36m_read_objects_gdf\u001b[0m:\u001b[36m174\u001b[0m - \u001b[32m\u001b[1mFile read ./data/serv\\museum.geojson\u001b[0m\n",
      "\u001b[32m2025-01-23 06:58:22.928\u001b[0m | \u001b[32m\u001b[1mSUCCESS \u001b[0m | \u001b[36mmy_package.methods.relation_tagger_change\u001b[0m:\u001b[36m_read_objects_gdf\u001b[0m:\u001b[36m174\u001b[0m - \u001b[32m\u001b[1mFile read ./data/serv\\arts_centre.geojson\u001b[0m\n",
      "\u001b[32m2025-01-23 06:58:22.941\u001b[0m | \u001b[32m\u001b[1mSUCCESS \u001b[0m | \u001b[36mmy_package.methods.relation_tagger_change\u001b[0m:\u001b[36m_read_objects_gdf\u001b[0m:\u001b[36m174\u001b[0m - \u001b[32m\u001b[1mFile read ./data/serv\\cinema.geojson\u001b[0m\n",
      "\u001b[32m2025-01-23 06:58:23.014\u001b[0m | \u001b[32m\u001b[1mSUCCESS \u001b[0m | \u001b[36mmy_package.methods.relation_tagger_change\u001b[0m:\u001b[36m_read_objects_gdf\u001b[0m:\u001b[36m174\u001b[0m - \u001b[32m\u001b[1mFile read ./data/serv\\community_centre.geojson\u001b[0m\n",
      "\u001b[32m2025-01-23 06:58:23.018\u001b[0m | \u001b[32m\u001b[1mSUCCESS \u001b[0m | \u001b[36mmy_package.methods.relation_tagger_change\u001b[0m:\u001b[36m_read_objects_gdf\u001b[0m:\u001b[36m174\u001b[0m - \u001b[32m\u001b[1mFile read ./data/serv\\exhibition_centre.geojson\u001b[0m\n",
      "\u001b[32m2025-01-23 06:58:23.022\u001b[0m | \u001b[32m\u001b[1mSUCCESS \u001b[0m | \u001b[36mmy_package.methods.relation_tagger_change\u001b[0m:\u001b[36m_read_objects_gdf\u001b[0m:\u001b[36m174\u001b[0m - \u001b[32m\u001b[1mFile read ./data/serv\\planetarium.geojson\u001b[0m\n",
      "\u001b[32m2025-01-23 06:58:23.060\u001b[0m | \u001b[32m\u001b[1mSUCCESS \u001b[0m | \u001b[36mmy_package.methods.relation_tagger_change\u001b[0m:\u001b[36m_read_objects_gdf\u001b[0m:\u001b[36m174\u001b[0m - \u001b[32m\u001b[1mFile read ./data/serv\\theatre.geojson\u001b[0m\n",
      "\u001b[32m2025-01-23 06:58:23.084\u001b[0m | \u001b[32m\u001b[1mSUCCESS \u001b[0m | \u001b[36mmy_package.methods.relation_tagger_change\u001b[0m:\u001b[36m_read_objects_gdf\u001b[0m:\u001b[36m174\u001b[0m - \u001b[32m\u001b[1mFile read ./data/serv\\gallery.geojson\u001b[0m\n",
      "\u001b[32m2025-01-23 06:58:23.132\u001b[0m | \u001b[32m\u001b[1mSUCCESS \u001b[0m | \u001b[36mmy_package.methods.relation_tagger_change\u001b[0m:\u001b[36m_read_objects_gdf\u001b[0m:\u001b[36m174\u001b[0m - \u001b[32m\u001b[1mFile read ./data/serv\\place_of_worship.geojson\u001b[0m\n",
      "\u001b[32m2025-01-23 06:58:23.248\u001b[0m | \u001b[32m\u001b[1mSUCCESS \u001b[0m | \u001b[36mmy_package.methods.relation_tagger_change\u001b[0m:\u001b[36m_read_objects_gdf\u001b[0m:\u001b[36m174\u001b[0m - \u001b[32m\u001b[1mFile read ./data/serv\\religion.geojson\u001b[0m\n",
      "\u001b[32m2025-01-23 06:58:23.258\u001b[0m | \u001b[32m\u001b[1mSUCCESS \u001b[0m | \u001b[36mmy_package.methods.relation_tagger_change\u001b[0m:\u001b[36m_read_objects_gdf\u001b[0m:\u001b[36m174\u001b[0m - \u001b[32m\u001b[1mFile read ./data/serv\\dog_park.geojson\u001b[0m\n",
      "\u001b[32m2025-01-23 06:58:23.266\u001b[0m | \u001b[32m\u001b[1mSUCCESS \u001b[0m | \u001b[36mmy_package.methods.relation_tagger_change\u001b[0m:\u001b[36m_read_objects_gdf\u001b[0m:\u001b[36m174\u001b[0m - \u001b[32m\u001b[1mFile read ./data/serv\\resort.geojson\u001b[0m\n",
      "\u001b[32m2025-01-23 06:58:23.289\u001b[0m | \u001b[32m\u001b[1mSUCCESS \u001b[0m | \u001b[36mmy_package.methods.relation_tagger_change\u001b[0m:\u001b[36m_read_objects_gdf\u001b[0m:\u001b[36m174\u001b[0m - \u001b[32m\u001b[1mFile read ./data/serv\\sauna.geojson\u001b[0m\n",
      "\u001b[32m2025-01-23 06:58:23.293\u001b[0m | \u001b[32m\u001b[1mSUCCESS \u001b[0m | \u001b[36mmy_package.methods.relation_tagger_change\u001b[0m:\u001b[36m_read_objects_gdf\u001b[0m:\u001b[36m174\u001b[0m - \u001b[32m\u001b[1mFile read ./data/serv\\water_park.geojson\u001b[0m\n",
      "\u001b[32m2025-01-23 06:58:23.310\u001b[0m | \u001b[32m\u001b[1mSUCCESS \u001b[0m | \u001b[36mmy_package.methods.relation_tagger_change\u001b[0m:\u001b[36m_read_objects_gdf\u001b[0m:\u001b[36m174\u001b[0m - \u001b[32m\u001b[1mFile read ./data/serv\\theme_park.geojson\u001b[0m\n",
      "\u001b[32m2025-01-23 06:58:23.316\u001b[0m | \u001b[32m\u001b[1mSUCCESS \u001b[0m | \u001b[36mmy_package.methods.relation_tagger_change\u001b[0m:\u001b[36m_read_objects_gdf\u001b[0m:\u001b[36m174\u001b[0m - \u001b[32m\u001b[1mFile read ./data/serv\\zoo.geojson\u001b[0m\n",
      "\u001b[32m2025-01-23 06:58:24.091\u001b[0m | \u001b[32m\u001b[1mSUCCESS \u001b[0m | \u001b[36mmy_package.methods.relation_tagger_change\u001b[0m:\u001b[36m_read_objects_gdf\u001b[0m:\u001b[36m174\u001b[0m - \u001b[32m\u001b[1mFile read ./data/serv\\playground.geojson\u001b[0m\n",
      "\u001b[32m2025-01-23 06:58:24.143\u001b[0m | \u001b[32m\u001b[1mSUCCESS \u001b[0m | \u001b[36mmy_package.methods.relation_tagger_change\u001b[0m:\u001b[36m_read_objects_gdf\u001b[0m:\u001b[36m174\u001b[0m - \u001b[32m\u001b[1mFile read ./data/serv\\mall.geojson\u001b[0m\n",
      "\u001b[32m2025-01-23 06:58:24.148\u001b[0m | \u001b[32m\u001b[1mSUCCESS \u001b[0m | \u001b[36mmy_package.methods.relation_tagger_change\u001b[0m:\u001b[36m_read_objects_gdf\u001b[0m:\u001b[36m174\u001b[0m - \u001b[32m\u001b[1mFile read ./data/serv\\circus.geojson\u001b[0m\n",
      "\u001b[32m2025-01-23 06:58:24.190\u001b[0m | \u001b[32m\u001b[1mSUCCESS \u001b[0m | \u001b[36mmy_package.methods.relation_tagger_change\u001b[0m:\u001b[36m_read_objects_gdf\u001b[0m:\u001b[36m174\u001b[0m - \u001b[32m\u001b[1mFile read ./data/serv\\hostel.geojson\u001b[0m\n",
      "\u001b[32m2025-01-23 06:58:24.473\u001b[0m | \u001b[32m\u001b[1mSUCCESS \u001b[0m | \u001b[36mmy_package.methods.relation_tagger_change\u001b[0m:\u001b[36m_read_objects_gdf\u001b[0m:\u001b[36m174\u001b[0m - \u001b[32m\u001b[1mFile read ./data/serv\\hotel.geojson\u001b[0m\n",
      "\u001b[32m2025-01-23 06:58:33.331\u001b[0m | \u001b[32m\u001b[1mSUCCESS \u001b[0m | \u001b[36mmy_package.methods.relation_tagger_change\u001b[0m:\u001b[36m_read_objects_gdf\u001b[0m:\u001b[36m174\u001b[0m - \u001b[32m\u001b[1mFile read ./data/serv\\water.geojson\u001b[0m\n",
      "\u001b[32m2025-01-23 06:58:33.339\u001b[0m | \u001b[31m\u001b[1mERROR   \u001b[0m | \u001b[36mmy_package.methods.relation_tagger_change\u001b[0m:\u001b[36m_read_objects_gdf\u001b[0m:\u001b[36m176\u001b[0m - \u001b[31m\u001b[1m Can't read file ./data/serv\\embankment.geojson\u001b[0m\n",
      "\u001b[32m2025-01-23 06:58:33.382\u001b[0m | \u001b[32m\u001b[1mSUCCESS \u001b[0m | \u001b[36mmy_package.methods.relation_tagger_change\u001b[0m:\u001b[36m_read_objects_gdf\u001b[0m:\u001b[36m174\u001b[0m - \u001b[32m\u001b[1mFile read ./data/serv\\beach.geojson\u001b[0m\n",
      "\u001b[32m2025-01-23 06:58:33.384\u001b[0m | \u001b[31m\u001b[1mERROR   \u001b[0m | \u001b[36mmy_package.methods.relation_tagger_change\u001b[0m:\u001b[36m_read_objects_gdf\u001b[0m:\u001b[36m176\u001b[0m - \u001b[31m\u001b[1m Can't read file ./data/serv\\forest.geojson\u001b[0m\n",
      "\u001b[32m2025-01-23 06:58:33.400\u001b[0m | \u001b[32m\u001b[1mSUCCESS \u001b[0m | \u001b[36mmy_package.methods.relation_tagger_change\u001b[0m:\u001b[36m_read_objects_gdf\u001b[0m:\u001b[36m174\u001b[0m - \u001b[32m\u001b[1mFile read ./data/serv\\nature_reserve.geojson\u001b[0m\n",
      "\u001b[32m2025-01-23 06:58:34.117\u001b[0m | \u001b[32m\u001b[1mSUCCESS \u001b[0m | \u001b[36mmy_package.methods.relation_tagger_change\u001b[0m:\u001b[36m_read_objects_gdf\u001b[0m:\u001b[36m174\u001b[0m - \u001b[32m\u001b[1mFile read ./data/serv\\city_park.geojson\u001b[0m\n",
      "\u001b[32m2025-01-23 06:58:34.779\u001b[0m | \u001b[32m\u001b[1mSUCCESS \u001b[0m | \u001b[36mmy_package.methods.relation_tagger_change\u001b[0m:\u001b[36m_read_objects_gdf\u001b[0m:\u001b[36m174\u001b[0m - \u001b[32m\u001b[1mFile read ./data/serv\\park.geojson\u001b[0m\n",
      "\u001b[32m2025-01-23 06:58:34.845\u001b[0m | \u001b[32m\u001b[1mSUCCESS \u001b[0m | \u001b[36mmy_package.methods.relation_tagger_change\u001b[0m:\u001b[36m_read_objects_gdf\u001b[0m:\u001b[36m174\u001b[0m - \u001b[32m\u001b[1mFile read ./data/serv\\garden.geojson\u001b[0m\n",
      "\u001b[32m2025-01-23 06:58:34.865\u001b[0m | \u001b[32m\u001b[1mSUCCESS \u001b[0m | \u001b[36mmy_package.methods.relation_tagger_change\u001b[0m:\u001b[36m_read_objects_gdf\u001b[0m:\u001b[36m174\u001b[0m - \u001b[32m\u001b[1mFile read ./data/serv\\shrubbery.geojson\u001b[0m\n",
      "\u001b[32m2025-01-23 06:58:47.494\u001b[0m | \u001b[32m\u001b[1mSUCCESS \u001b[0m | \u001b[36mmy_package.methods.relation_tagger_change\u001b[0m:\u001b[36m_read_objects_gdf\u001b[0m:\u001b[36m174\u001b[0m - \u001b[32m\u001b[1mFile read ./data/serv\\grass.geojson\u001b[0m\n",
      "\u001b[32m2025-01-23 06:58:47.729\u001b[0m | \u001b[32m\u001b[1mSUCCESS \u001b[0m | \u001b[36mmy_package.methods.relation_tagger_change\u001b[0m:\u001b[36m_read_objects_gdf\u001b[0m:\u001b[36m174\u001b[0m - \u001b[32m\u001b[1mFile read ./data/serv\\wetland.geojson\u001b[0m\n",
      "\u001b[32m2025-01-23 06:58:50.000\u001b[0m | \u001b[32m\u001b[1mSUCCESS \u001b[0m | \u001b[36mmy_package.methods.relation_tagger_change\u001b[0m:\u001b[36m_read_objects_gdf\u001b[0m:\u001b[36m174\u001b[0m - \u001b[32m\u001b[1mFile read ./data/serv\\historic.geojson\u001b[0m\n",
      "\u001b[32m2025-01-23 06:58:50.968\u001b[0m | \u001b[32m\u001b[1mSUCCESS \u001b[0m | \u001b[36mmy_package.methods.relation_tagger_change\u001b[0m:\u001b[36m_read_objects_gdf\u001b[0m:\u001b[36m174\u001b[0m - \u001b[32m\u001b[1mFile read ./data/serv\\ZON_OKN.geojson\u001b[0m\n",
      "\u001b[32m2025-01-23 06:58:51.303\u001b[0m | \u001b[32m\u001b[1mSUCCESS \u001b[0m | \u001b[36mmy_package.methods.relation_tagger_change\u001b[0m:\u001b[36m_read_objects_gdf\u001b[0m:\u001b[36m174\u001b[0m - \u001b[32m\u001b[1mFile read ./data/serv\\artwork.geojson\u001b[0m\n",
      "\u001b[32m2025-01-23 06:58:51.667\u001b[0m | \u001b[32m\u001b[1mSUCCESS \u001b[0m | \u001b[36mmy_package.methods.relation_tagger_change\u001b[0m:\u001b[36m_read_objects_gdf\u001b[0m:\u001b[36m174\u001b[0m - \u001b[32m\u001b[1mFile read ./data/serv\\attraction.geojson\u001b[0m\n",
      "\u001b[32m2025-01-23 06:58:51.669\u001b[0m | \u001b[31m\u001b[1mERROR   \u001b[0m | \u001b[36mmy_package.methods.relation_tagger_change\u001b[0m:\u001b[36m_read_objects_gdf\u001b[0m:\u001b[36m176\u001b[0m - \u001b[31m\u001b[1m Can't read file ./data/serv\\viewpoint.geojson\u001b[0m\n",
      "100%|██████████| 17/17 [00:15<00:00,  1.07it/s]\n"
     ]
    }
   ],
   "source": [
    "from my_package.methods.relation_tagger_change import RelationTaggerCHANGE\n",
    "\n",
    "gdfs = RelationTaggerCHANGE.read_objects_gdfs('./data/serv')\n",
    "\n",
    "rt = RelationTaggerCHANGE(blocks_gdf, gdfs)\n",
    "relation_gdf = rt.run()"
   ]
  },
  {
   "cell_type": "code",
   "execution_count": null,
   "metadata": {},
   "outputs": [],
   "source": [
    "relation_gdf"
   ]
  },
  {
   "cell_type": "code",
   "execution_count": null,
   "metadata": {},
   "outputs": [],
   "source": []
  },
  {
   "cell_type": "code",
   "execution_count": 13,
   "metadata": {},
   "outputs": [
    {
     "name": "stderr",
     "output_type": "stream",
     "text": [
      "\u001b[32m2025-01-23 05:16:21.954\u001b[0m | \u001b[32m\u001b[1mSUCCESS \u001b[0m | \u001b[36mmy_package.methods.relation_tagger_change\u001b[0m:\u001b[36m_read_objects_gdf\u001b[0m:\u001b[36m170\u001b[0m - \u001b[32m\u001b[1mFile read ./data/serv\\aerodrome.geojson\u001b[0m\n",
      "\u001b[32m2025-01-23 05:16:21.961\u001b[0m | \u001b[32m\u001b[1mSUCCESS \u001b[0m | \u001b[36mmy_package.methods.relation_tagger_change\u001b[0m:\u001b[36m_read_objects_gdf\u001b[0m:\u001b[36m170\u001b[0m - \u001b[32m\u001b[1mFile read ./data/serv\\heliport.geojson\u001b[0m\n",
      "\u001b[32m2025-01-23 05:16:22.029\u001b[0m | \u001b[32m\u001b[1mSUCCESS \u001b[0m | \u001b[36mmy_package.methods.relation_tagger_change\u001b[0m:\u001b[36m_read_objects_gdf\u001b[0m:\u001b[36m170\u001b[0m - \u001b[32m\u001b[1mFile read ./data/serv\\train_station.geojson\u001b[0m\n",
      "\u001b[32m2025-01-23 05:16:22.043\u001b[0m | \u001b[32m\u001b[1mSUCCESS \u001b[0m | \u001b[36mmy_package.methods.relation_tagger_change\u001b[0m:\u001b[36m_read_objects_gdf\u001b[0m:\u001b[36m170\u001b[0m - \u001b[32m\u001b[1mFile read ./data/serv\\bus_station.geojson\u001b[0m\n",
      "\u001b[32m2025-01-23 05:16:22.052\u001b[0m | \u001b[32m\u001b[1mSUCCESS \u001b[0m | \u001b[36mmy_package.methods.relation_tagger_change\u001b[0m:\u001b[36m_read_objects_gdf\u001b[0m:\u001b[36m170\u001b[0m - \u001b[32m\u001b[1mFile read ./data/serv\\marina.geojson\u001b[0m\n",
      "\u001b[32m2025-01-23 05:16:22.073\u001b[0m | \u001b[32m\u001b[1mSUCCESS \u001b[0m | \u001b[36mmy_package.methods.relation_tagger_change\u001b[0m:\u001b[36m_read_objects_gdf\u001b[0m:\u001b[36m170\u001b[0m - \u001b[32m\u001b[1mFile read ./data/serv\\parking.geojson\u001b[0m\n",
      "\u001b[32m2025-01-23 05:16:22.817\u001b[0m | \u001b[32m\u001b[1mSUCCESS \u001b[0m | \u001b[36mmy_package.methods.relation_tagger_change\u001b[0m:\u001b[36m_read_objects_gdf\u001b[0m:\u001b[36m170\u001b[0m - \u001b[32m\u001b[1mFile read ./data/serv\\bus_stop.geojson\u001b[0m\n",
      "\u001b[32m2025-01-23 05:16:22.832\u001b[0m | \u001b[32m\u001b[1mSUCCESS \u001b[0m | \u001b[36mmy_package.methods.relation_tagger_change\u001b[0m:\u001b[36m_read_objects_gdf\u001b[0m:\u001b[36m170\u001b[0m - \u001b[32m\u001b[1mFile read ./data/serv\\subway_entrance.geojson\u001b[0m\n",
      "\u001b[32m2025-01-23 05:16:23.881\u001b[0m | \u001b[32m\u001b[1mSUCCESS \u001b[0m | \u001b[36mmy_package.methods.relation_tagger_change\u001b[0m:\u001b[36m_read_objects_gdf\u001b[0m:\u001b[36m170\u001b[0m - \u001b[32m\u001b[1mFile read ./data/serv\\tram.geojson\u001b[0m\n",
      "\u001b[32m2025-01-23 05:16:23.898\u001b[0m | \u001b[32m\u001b[1mSUCCESS \u001b[0m | \u001b[36mmy_package.methods.relation_tagger_change\u001b[0m:\u001b[36m_read_objects_gdf\u001b[0m:\u001b[36m170\u001b[0m - \u001b[32m\u001b[1mFile read ./data/serv\\cycleway.geojson\u001b[0m\n",
      "\u001b[32m2025-01-23 05:16:24.070\u001b[0m | \u001b[32m\u001b[1mSUCCESS \u001b[0m | \u001b[36mmy_package.methods.relation_tagger_change\u001b[0m:\u001b[36m_read_objects_gdf\u001b[0m:\u001b[36m170\u001b[0m - \u001b[32m\u001b[1mFile read ./data/serv\\bicycle_parking.geojson\u001b[0m\n",
      "\u001b[32m2025-01-23 05:16:24.075\u001b[0m | \u001b[32m\u001b[1mSUCCESS \u001b[0m | \u001b[36mmy_package.methods.relation_tagger_change\u001b[0m:\u001b[36m_read_objects_gdf\u001b[0m:\u001b[36m170\u001b[0m - \u001b[32m\u001b[1mFile read ./data/serv\\kick-scooter_parking.geojson\u001b[0m\n",
      "\u001b[32m2025-01-23 05:16:24.086\u001b[0m | \u001b[32m\u001b[1mSUCCESS \u001b[0m | \u001b[36mmy_package.methods.relation_tagger_change\u001b[0m:\u001b[36m_read_objects_gdf\u001b[0m:\u001b[36m170\u001b[0m - \u001b[32m\u001b[1mFile read ./data/serv\\child_hospital.geojson\u001b[0m\n",
      "\u001b[32m2025-01-23 05:16:24.107\u001b[0m | \u001b[32m\u001b[1mSUCCESS \u001b[0m | \u001b[36mmy_package.methods.relation_tagger_change\u001b[0m:\u001b[36m_read_objects_gdf\u001b[0m:\u001b[36m170\u001b[0m - \u001b[32m\u001b[1mFile read ./data/serv\\child_polyclinic.geojson\u001b[0m\n",
      "\u001b[32m2025-01-23 05:16:24.365\u001b[0m | \u001b[32m\u001b[1mSUCCESS \u001b[0m | \u001b[36mmy_package.methods.relation_tagger_change\u001b[0m:\u001b[36m_read_objects_gdf\u001b[0m:\u001b[36m170\u001b[0m - \u001b[32m\u001b[1mFile read ./data/serv\\dentist.geojson\u001b[0m\n",
      "\u001b[32m2025-01-23 05:16:24.375\u001b[0m | \u001b[32m\u001b[1mSUCCESS \u001b[0m | \u001b[36mmy_package.methods.relation_tagger_change\u001b[0m:\u001b[36m_read_objects_gdf\u001b[0m:\u001b[36m170\u001b[0m - \u001b[32m\u001b[1mFile read ./data/serv\\hospital.geojson\u001b[0m\n",
      "\u001b[32m2025-01-23 05:16:24.406\u001b[0m | \u001b[32m\u001b[1mSUCCESS \u001b[0m | \u001b[36mmy_package.methods.relation_tagger_change\u001b[0m:\u001b[36m_read_objects_gdf\u001b[0m:\u001b[36m170\u001b[0m - \u001b[32m\u001b[1mFile read ./data/serv\\polyclinic.geojson\u001b[0m\n",
      "\u001b[32m2025-01-23 05:16:24.414\u001b[0m | \u001b[32m\u001b[1mSUCCESS \u001b[0m | \u001b[36mmy_package.methods.relation_tagger_change\u001b[0m:\u001b[36m_read_objects_gdf\u001b[0m:\u001b[36m170\u001b[0m - \u001b[32m\u001b[1mFile read ./data/serv\\roddom.geojson\u001b[0m\n",
      "\u001b[32m2025-01-23 05:16:24.427\u001b[0m | \u001b[32m\u001b[1mSUCCESS \u001b[0m | \u001b[36mmy_package.methods.relation_tagger_change\u001b[0m:\u001b[36m_read_objects_gdf\u001b[0m:\u001b[36m170\u001b[0m - \u001b[32m\u001b[1mFile read ./data/serv\\trauma.geojson\u001b[0m\n",
      "\u001b[32m2025-01-23 05:16:24.441\u001b[0m | \u001b[32m\u001b[1mSUCCESS \u001b[0m | \u001b[36mmy_package.methods.relation_tagger_change\u001b[0m:\u001b[36m_read_objects_gdf\u001b[0m:\u001b[36m170\u001b[0m - \u001b[32m\u001b[1mFile read ./data/serv\\morgue.geojson\u001b[0m\n",
      "\u001b[32m2025-01-23 05:16:24.461\u001b[0m | \u001b[32m\u001b[1mSUCCESS \u001b[0m | \u001b[36mmy_package.methods.relation_tagger_change\u001b[0m:\u001b[36m_read_objects_gdf\u001b[0m:\u001b[36m170\u001b[0m - \u001b[32m\u001b[1mFile read ./data/serv\\ambulance_station.geojson\u001b[0m\n",
      "\u001b[32m2025-01-23 05:16:24.663\u001b[0m | \u001b[32m\u001b[1mSUCCESS \u001b[0m | \u001b[36mmy_package.methods.relation_tagger_change\u001b[0m:\u001b[36m_read_objects_gdf\u001b[0m:\u001b[36m170\u001b[0m - \u001b[32m\u001b[1mFile read ./data/serv\\kindergarten.geojson\u001b[0m\n",
      "\u001b[32m2025-01-23 05:16:24.782\u001b[0m | \u001b[32m\u001b[1mSUCCESS \u001b[0m | \u001b[36mmy_package.methods.relation_tagger_change\u001b[0m:\u001b[36m_read_objects_gdf\u001b[0m:\u001b[36m170\u001b[0m - \u001b[32m\u001b[1mFile read ./data/serv\\school.geojson\u001b[0m\n",
      "\u001b[32m2025-01-23 05:16:24.804\u001b[0m | \u001b[32m\u001b[1mSUCCESS \u001b[0m | \u001b[36mmy_package.methods.relation_tagger_change\u001b[0m:\u001b[36m_read_objects_gdf\u001b[0m:\u001b[36m170\u001b[0m - \u001b[32m\u001b[1mFile read ./data/serv\\college.geojson\u001b[0m\n",
      "\u001b[32m2025-01-23 05:16:24.862\u001b[0m | \u001b[32m\u001b[1mSUCCESS \u001b[0m | \u001b[36mmy_package.methods.relation_tagger_change\u001b[0m:\u001b[36m_read_objects_gdf\u001b[0m:\u001b[36m170\u001b[0m - \u001b[32m\u001b[1mFile read ./data/serv\\university.geojson\u001b[0m\n",
      "\u001b[32m2025-01-23 05:16:24.875\u001b[0m | \u001b[32m\u001b[1mSUCCESS \u001b[0m | \u001b[36mmy_package.methods.relation_tagger_change\u001b[0m:\u001b[36m_read_objects_gdf\u001b[0m:\u001b[36m170\u001b[0m - \u001b[32m\u001b[1mFile read ./data/serv\\research_institute.geojson\u001b[0m\n",
      "\u001b[32m2025-01-23 05:16:24.881\u001b[0m | \u001b[32m\u001b[1mSUCCESS \u001b[0m | \u001b[36mmy_package.methods.relation_tagger_change\u001b[0m:\u001b[36m_read_objects_gdf\u001b[0m:\u001b[36m170\u001b[0m - \u001b[32m\u001b[1mFile read ./data/serv\\grandstand.geojson\u001b[0m\n",
      "\u001b[32m2025-01-23 05:16:24.885\u001b[0m | \u001b[32m\u001b[1mSUCCESS \u001b[0m | \u001b[36mmy_package.methods.relation_tagger_change\u001b[0m:\u001b[36m_read_objects_gdf\u001b[0m:\u001b[36m170\u001b[0m - \u001b[32m\u001b[1mFile read ./data/serv\\sports_hall.geojson\u001b[0m\n",
      "\u001b[32m2025-01-23 05:16:24.892\u001b[0m | \u001b[32m\u001b[1mSUCCESS \u001b[0m | \u001b[36mmy_package.methods.relation_tagger_change\u001b[0m:\u001b[36m_read_objects_gdf\u001b[0m:\u001b[36m170\u001b[0m - \u001b[32m\u001b[1mFile read ./data/serv\\stadium.geojson\u001b[0m\n",
      "\u001b[32m2025-01-23 05:16:24.945\u001b[0m | \u001b[32m\u001b[1mSUCCESS \u001b[0m | \u001b[36mmy_package.methods.relation_tagger_change\u001b[0m:\u001b[36m_read_objects_gdf\u001b[0m:\u001b[36m170\u001b[0m - \u001b[32m\u001b[1mFile read ./data/serv\\fitness_centre.geojson\u001b[0m\n",
      "\u001b[32m2025-01-23 05:16:25.060\u001b[0m | \u001b[32m\u001b[1mSUCCESS \u001b[0m | \u001b[36mmy_package.methods.relation_tagger_change\u001b[0m:\u001b[36m_read_objects_gdf\u001b[0m:\u001b[36m170\u001b[0m - \u001b[32m\u001b[1mFile read ./data/serv\\pitch_centroids.geojson\u001b[0m\n",
      "\u001b[32m2025-01-23 05:16:25.079\u001b[0m | \u001b[32m\u001b[1mSUCCESS \u001b[0m | \u001b[36mmy_package.methods.relation_tagger_change\u001b[0m:\u001b[36m_read_objects_gdf\u001b[0m:\u001b[36m170\u001b[0m - \u001b[32m\u001b[1mFile read ./data/serv\\swimming_pool.geojson\u001b[0m\n",
      "\u001b[32m2025-01-23 05:16:28.411\u001b[0m | \u001b[32m\u001b[1mSUCCESS \u001b[0m | \u001b[36mmy_package.methods.relation_tagger_change\u001b[0m:\u001b[36m_read_objects_gdf\u001b[0m:\u001b[36m170\u001b[0m - \u001b[32m\u001b[1mFile read ./data/serv\\office.geojson\u001b[0m\n",
      "\u001b[32m2025-01-23 05:16:28.817\u001b[0m | \u001b[32m\u001b[1mSUCCESS \u001b[0m | \u001b[36mmy_package.methods.relation_tagger_change\u001b[0m:\u001b[36m_read_objects_gdf\u001b[0m:\u001b[36m170\u001b[0m - \u001b[32m\u001b[1mFile read ./data/serv\\retail.geojson\u001b[0m\n",
      "\u001b[32m2025-01-23 05:16:28.972\u001b[0m | \u001b[32m\u001b[1mSUCCESS \u001b[0m | \u001b[36mmy_package.methods.relation_tagger_change\u001b[0m:\u001b[36m_read_objects_gdf\u001b[0m:\u001b[36m170\u001b[0m - \u001b[32m\u001b[1mFile read ./data/serv\\bank.geojson\u001b[0m\n",
      "\u001b[32m2025-01-23 05:16:28.988\u001b[0m | \u001b[32m\u001b[1mSUCCESS \u001b[0m | \u001b[36mmy_package.methods.relation_tagger_change\u001b[0m:\u001b[36m_read_objects_gdf\u001b[0m:\u001b[36m170\u001b[0m - \u001b[32m\u001b[1mFile read ./data/serv\\marketplace.geojson\u001b[0m\n",
      "\u001b[32m2025-01-23 05:16:29.111\u001b[0m | \u001b[32m\u001b[1mSUCCESS \u001b[0m | \u001b[36mmy_package.methods.relation_tagger_change\u001b[0m:\u001b[36m_read_objects_gdf\u001b[0m:\u001b[36m170\u001b[0m - \u001b[32m\u001b[1mFile read ./data/serv\\convenience.geojson\u001b[0m\n",
      "\u001b[32m2025-01-23 05:16:29.351\u001b[0m | \u001b[32m\u001b[1mSUCCESS \u001b[0m | \u001b[36mmy_package.methods.relation_tagger_change\u001b[0m:\u001b[36m_read_objects_gdf\u001b[0m:\u001b[36m170\u001b[0m - \u001b[32m\u001b[1mFile read ./data/serv\\supermarket.geojson\u001b[0m\n",
      "\u001b[32m2025-01-23 05:16:29.461\u001b[0m | \u001b[32m\u001b[1mSUCCESS \u001b[0m | \u001b[36mmy_package.methods.relation_tagger_change\u001b[0m:\u001b[36m_read_objects_gdf\u001b[0m:\u001b[36m170\u001b[0m - \u001b[32m\u001b[1mFile read ./data/serv\\shop_pets.geojson\u001b[0m\n",
      "\u001b[32m2025-01-23 05:16:29.506\u001b[0m | \u001b[32m\u001b[1mSUCCESS \u001b[0m | \u001b[36mmy_package.methods.relation_tagger_change\u001b[0m:\u001b[36m_read_objects_gdf\u001b[0m:\u001b[36m170\u001b[0m - \u001b[32m\u001b[1mFile read ./data/serv\\books.geojson\u001b[0m\n",
      "\u001b[32m2025-01-23 05:16:30.023\u001b[0m | \u001b[32m\u001b[1mSUCCESS \u001b[0m | \u001b[36mmy_package.methods.relation_tagger_change\u001b[0m:\u001b[36m_read_objects_gdf\u001b[0m:\u001b[36m170\u001b[0m - \u001b[32m\u001b[1mFile read ./data/serv\\clothes.geojson\u001b[0m\n",
      "\u001b[32m2025-01-23 05:16:30.053\u001b[0m | \u001b[32m\u001b[1mSUCCESS \u001b[0m | \u001b[36mmy_package.methods.relation_tagger_change\u001b[0m:\u001b[36m_read_objects_gdf\u001b[0m:\u001b[36m170\u001b[0m - \u001b[32m\u001b[1mFile read ./data/serv\\craft.geojson\u001b[0m\n",
      "\u001b[32m2025-01-23 05:16:30.157\u001b[0m | \u001b[32m\u001b[1mSUCCESS \u001b[0m | \u001b[36mmy_package.methods.relation_tagger_change\u001b[0m:\u001b[36m_read_objects_gdf\u001b[0m:\u001b[36m170\u001b[0m - \u001b[32m\u001b[1mFile read ./data/serv\\electronic.geojson\u001b[0m\n",
      "\u001b[32m2025-01-23 05:16:30.467\u001b[0m | \u001b[32m\u001b[1mSUCCESS \u001b[0m | \u001b[36mmy_package.methods.relation_tagger_change\u001b[0m:\u001b[36m_read_objects_gdf\u001b[0m:\u001b[36m170\u001b[0m - \u001b[32m\u001b[1mFile read ./data/serv\\florist.geojson\u001b[0m\n",
      "\u001b[32m2025-01-23 05:16:30.586\u001b[0m | \u001b[32m\u001b[1mSUCCESS \u001b[0m | \u001b[36mmy_package.methods.relation_tagger_change\u001b[0m:\u001b[36m_read_objects_gdf\u001b[0m:\u001b[36m170\u001b[0m - \u001b[32m\u001b[1mFile read ./data/serv\\houseware.geojson\u001b[0m\n",
      "\u001b[32m2025-01-23 05:16:30.638\u001b[0m | \u001b[32m\u001b[1mSUCCESS \u001b[0m | \u001b[36mmy_package.methods.relation_tagger_change\u001b[0m:\u001b[36m_read_objects_gdf\u001b[0m:\u001b[36m170\u001b[0m - \u001b[32m\u001b[1mFile read ./data/serv\\shop_sport.geojson\u001b[0m\n",
      "\u001b[32m2025-01-23 05:16:30.763\u001b[0m | \u001b[32m\u001b[1mSUCCESS \u001b[0m | \u001b[36mmy_package.methods.relation_tagger_change\u001b[0m:\u001b[36m_read_objects_gdf\u001b[0m:\u001b[36m170\u001b[0m - \u001b[32m\u001b[1mFile read ./data/serv\\pharmacy.geojson\u001b[0m\n",
      "\u001b[32m2025-01-23 05:16:30.816\u001b[0m | \u001b[32m\u001b[1mSUCCESS \u001b[0m | \u001b[36mmy_package.methods.relation_tagger_change\u001b[0m:\u001b[36m_read_objects_gdf\u001b[0m:\u001b[36m170\u001b[0m - \u001b[32m\u001b[1mFile read ./data/serv\\bakery.geojson\u001b[0m\n",
      "\u001b[32m2025-01-23 05:16:30.975\u001b[0m | \u001b[32m\u001b[1mSUCCESS \u001b[0m | \u001b[36mmy_package.methods.relation_tagger_change\u001b[0m:\u001b[36m_read_objects_gdf\u001b[0m:\u001b[36m170\u001b[0m - \u001b[32m\u001b[1mFile read ./data/serv\\cafe.geojson\u001b[0m\n",
      "\u001b[32m2025-01-23 05:16:31.654\u001b[0m | \u001b[32m\u001b[1mSUCCESS \u001b[0m | \u001b[36mmy_package.methods.relation_tagger_change\u001b[0m:\u001b[36m_read_objects_gdf\u001b[0m:\u001b[36m170\u001b[0m - \u001b[32m\u001b[1mFile read ./data/serv\\restaurant.geojson\u001b[0m\n",
      "\u001b[32m2025-01-23 05:16:31.882\u001b[0m | \u001b[32m\u001b[1mSUCCESS \u001b[0m | \u001b[36mmy_package.methods.relation_tagger_change\u001b[0m:\u001b[36m_read_objects_gdf\u001b[0m:\u001b[36m170\u001b[0m - \u001b[32m\u001b[1mFile read ./data/serv\\bar.geojson\u001b[0m\n",
      "\u001b[32m2025-01-23 05:16:31.917\u001b[0m | \u001b[32m\u001b[1mSUCCESS \u001b[0m | \u001b[36mmy_package.methods.relation_tagger_change\u001b[0m:\u001b[36m_read_objects_gdf\u001b[0m:\u001b[36m170\u001b[0m - \u001b[32m\u001b[1mFile read ./data/serv\\shop_car.geojson\u001b[0m\n",
      "\u001b[32m2025-01-23 05:16:31.986\u001b[0m | \u001b[32m\u001b[1mSUCCESS \u001b[0m | \u001b[36mmy_package.methods.relation_tagger_change\u001b[0m:\u001b[36m_read_objects_gdf\u001b[0m:\u001b[36m170\u001b[0m - \u001b[32m\u001b[1mFile read ./data/serv\\museum.geojson\u001b[0m\n",
      "\u001b[32m2025-01-23 05:16:31.992\u001b[0m | \u001b[32m\u001b[1mSUCCESS \u001b[0m | \u001b[36mmy_package.methods.relation_tagger_change\u001b[0m:\u001b[36m_read_objects_gdf\u001b[0m:\u001b[36m170\u001b[0m - \u001b[32m\u001b[1mFile read ./data/serv\\arts_centre.geojson\u001b[0m\n",
      "\u001b[32m2025-01-23 05:16:32.004\u001b[0m | \u001b[32m\u001b[1mSUCCESS \u001b[0m | \u001b[36mmy_package.methods.relation_tagger_change\u001b[0m:\u001b[36m_read_objects_gdf\u001b[0m:\u001b[36m170\u001b[0m - \u001b[32m\u001b[1mFile read ./data/serv\\cinema.geojson\u001b[0m\n",
      "\u001b[32m2025-01-23 05:16:32.082\u001b[0m | \u001b[32m\u001b[1mSUCCESS \u001b[0m | \u001b[36mmy_package.methods.relation_tagger_change\u001b[0m:\u001b[36m_read_objects_gdf\u001b[0m:\u001b[36m170\u001b[0m - \u001b[32m\u001b[1mFile read ./data/serv\\community_centre.geojson\u001b[0m\n",
      "\u001b[32m2025-01-23 05:16:32.087\u001b[0m | \u001b[32m\u001b[1mSUCCESS \u001b[0m | \u001b[36mmy_package.methods.relation_tagger_change\u001b[0m:\u001b[36m_read_objects_gdf\u001b[0m:\u001b[36m170\u001b[0m - \u001b[32m\u001b[1mFile read ./data/serv\\exhibition_centre.geojson\u001b[0m\n",
      "\u001b[32m2025-01-23 05:16:32.092\u001b[0m | \u001b[32m\u001b[1mSUCCESS \u001b[0m | \u001b[36mmy_package.methods.relation_tagger_change\u001b[0m:\u001b[36m_read_objects_gdf\u001b[0m:\u001b[36m170\u001b[0m - \u001b[32m\u001b[1mFile read ./data/serv\\planetarium.geojson\u001b[0m\n",
      "\u001b[32m2025-01-23 05:16:32.134\u001b[0m | \u001b[32m\u001b[1mSUCCESS \u001b[0m | \u001b[36mmy_package.methods.relation_tagger_change\u001b[0m:\u001b[36m_read_objects_gdf\u001b[0m:\u001b[36m170\u001b[0m - \u001b[32m\u001b[1mFile read ./data/serv\\theatre.geojson\u001b[0m\n",
      "\u001b[32m2025-01-23 05:16:32.158\u001b[0m | \u001b[32m\u001b[1mSUCCESS \u001b[0m | \u001b[36mmy_package.methods.relation_tagger_change\u001b[0m:\u001b[36m_read_objects_gdf\u001b[0m:\u001b[36m170\u001b[0m - \u001b[32m\u001b[1mFile read ./data/serv\\gallery.geojson\u001b[0m\n",
      "\u001b[32m2025-01-23 05:16:32.207\u001b[0m | \u001b[32m\u001b[1mSUCCESS \u001b[0m | \u001b[36mmy_package.methods.relation_tagger_change\u001b[0m:\u001b[36m_read_objects_gdf\u001b[0m:\u001b[36m170\u001b[0m - \u001b[32m\u001b[1mFile read ./data/serv\\place_of_worship.geojson\u001b[0m\n",
      "\u001b[32m2025-01-23 05:16:32.324\u001b[0m | \u001b[32m\u001b[1mSUCCESS \u001b[0m | \u001b[36mmy_package.methods.relation_tagger_change\u001b[0m:\u001b[36m_read_objects_gdf\u001b[0m:\u001b[36m170\u001b[0m - \u001b[32m\u001b[1mFile read ./data/serv\\religion.geojson\u001b[0m\n",
      "\u001b[32m2025-01-23 05:16:32.335\u001b[0m | \u001b[32m\u001b[1mSUCCESS \u001b[0m | \u001b[36mmy_package.methods.relation_tagger_change\u001b[0m:\u001b[36m_read_objects_gdf\u001b[0m:\u001b[36m170\u001b[0m - \u001b[32m\u001b[1mFile read ./data/serv\\dog_park.geojson\u001b[0m\n",
      "\u001b[32m2025-01-23 05:16:32.347\u001b[0m | \u001b[32m\u001b[1mSUCCESS \u001b[0m | \u001b[36mmy_package.methods.relation_tagger_change\u001b[0m:\u001b[36m_read_objects_gdf\u001b[0m:\u001b[36m170\u001b[0m - \u001b[32m\u001b[1mFile read ./data/serv\\resort.geojson\u001b[0m\n",
      "\u001b[32m2025-01-23 05:16:32.370\u001b[0m | \u001b[32m\u001b[1mSUCCESS \u001b[0m | \u001b[36mmy_package.methods.relation_tagger_change\u001b[0m:\u001b[36m_read_objects_gdf\u001b[0m:\u001b[36m170\u001b[0m - \u001b[32m\u001b[1mFile read ./data/serv\\sauna.geojson\u001b[0m\n",
      "\u001b[32m2025-01-23 05:16:32.374\u001b[0m | \u001b[32m\u001b[1mSUCCESS \u001b[0m | \u001b[36mmy_package.methods.relation_tagger_change\u001b[0m:\u001b[36m_read_objects_gdf\u001b[0m:\u001b[36m170\u001b[0m - \u001b[32m\u001b[1mFile read ./data/serv\\water_park.geojson\u001b[0m\n",
      "\u001b[32m2025-01-23 05:16:32.393\u001b[0m | \u001b[32m\u001b[1mSUCCESS \u001b[0m | \u001b[36mmy_package.methods.relation_tagger_change\u001b[0m:\u001b[36m_read_objects_gdf\u001b[0m:\u001b[36m170\u001b[0m - \u001b[32m\u001b[1mFile read ./data/serv\\theme_park.geojson\u001b[0m\n",
      "\u001b[32m2025-01-23 05:16:32.399\u001b[0m | \u001b[32m\u001b[1mSUCCESS \u001b[0m | \u001b[36mmy_package.methods.relation_tagger_change\u001b[0m:\u001b[36m_read_objects_gdf\u001b[0m:\u001b[36m170\u001b[0m - \u001b[32m\u001b[1mFile read ./data/serv\\zoo.geojson\u001b[0m\n",
      "\u001b[32m2025-01-23 05:16:33.211\u001b[0m | \u001b[32m\u001b[1mSUCCESS \u001b[0m | \u001b[36mmy_package.methods.relation_tagger_change\u001b[0m:\u001b[36m_read_objects_gdf\u001b[0m:\u001b[36m170\u001b[0m - \u001b[32m\u001b[1mFile read ./data/serv\\playground.geojson\u001b[0m\n",
      "\u001b[32m2025-01-23 05:16:33.264\u001b[0m | \u001b[32m\u001b[1mSUCCESS \u001b[0m | \u001b[36mmy_package.methods.relation_tagger_change\u001b[0m:\u001b[36m_read_objects_gdf\u001b[0m:\u001b[36m170\u001b[0m - \u001b[32m\u001b[1mFile read ./data/serv\\mall.geojson\u001b[0m\n",
      "\u001b[32m2025-01-23 05:16:33.269\u001b[0m | \u001b[32m\u001b[1mSUCCESS \u001b[0m | \u001b[36mmy_package.methods.relation_tagger_change\u001b[0m:\u001b[36m_read_objects_gdf\u001b[0m:\u001b[36m170\u001b[0m - \u001b[32m\u001b[1mFile read ./data/serv\\circus.geojson\u001b[0m\n",
      "\u001b[32m2025-01-23 05:16:33.312\u001b[0m | \u001b[32m\u001b[1mSUCCESS \u001b[0m | \u001b[36mmy_package.methods.relation_tagger_change\u001b[0m:\u001b[36m_read_objects_gdf\u001b[0m:\u001b[36m170\u001b[0m - \u001b[32m\u001b[1mFile read ./data/serv\\hostel.geojson\u001b[0m\n",
      "\u001b[32m2025-01-23 05:16:33.572\u001b[0m | \u001b[32m\u001b[1mSUCCESS \u001b[0m | \u001b[36mmy_package.methods.relation_tagger_change\u001b[0m:\u001b[36m_read_objects_gdf\u001b[0m:\u001b[36m170\u001b[0m - \u001b[32m\u001b[1mFile read ./data/serv\\hotel.geojson\u001b[0m\n",
      "\u001b[32m2025-01-23 05:16:42.584\u001b[0m | \u001b[32m\u001b[1mSUCCESS \u001b[0m | \u001b[36mmy_package.methods.relation_tagger_change\u001b[0m:\u001b[36m_read_objects_gdf\u001b[0m:\u001b[36m170\u001b[0m - \u001b[32m\u001b[1mFile read ./data/serv\\water.geojson\u001b[0m\n",
      "\u001b[32m2025-01-23 05:16:42.591\u001b[0m | \u001b[31m\u001b[1mERROR   \u001b[0m | \u001b[36mmy_package.methods.relation_tagger_change\u001b[0m:\u001b[36m_read_objects_gdf\u001b[0m:\u001b[36m172\u001b[0m - \u001b[31m\u001b[1m Can't read file ./data/serv\\embankment.geojson\u001b[0m\n",
      "\u001b[32m2025-01-23 05:16:42.635\u001b[0m | \u001b[32m\u001b[1mSUCCESS \u001b[0m | \u001b[36mmy_package.methods.relation_tagger_change\u001b[0m:\u001b[36m_read_objects_gdf\u001b[0m:\u001b[36m170\u001b[0m - \u001b[32m\u001b[1mFile read ./data/serv\\beach.geojson\u001b[0m\n",
      "\u001b[32m2025-01-23 05:16:42.638\u001b[0m | \u001b[31m\u001b[1mERROR   \u001b[0m | \u001b[36mmy_package.methods.relation_tagger_change\u001b[0m:\u001b[36m_read_objects_gdf\u001b[0m:\u001b[36m172\u001b[0m - \u001b[31m\u001b[1m Can't read file ./data/serv\\forest.geojson\u001b[0m\n",
      "\u001b[32m2025-01-23 05:16:42.655\u001b[0m | \u001b[32m\u001b[1mSUCCESS \u001b[0m | \u001b[36mmy_package.methods.relation_tagger_change\u001b[0m:\u001b[36m_read_objects_gdf\u001b[0m:\u001b[36m170\u001b[0m - \u001b[32m\u001b[1mFile read ./data/serv\\nature_reserve.geojson\u001b[0m\n",
      "\u001b[32m2025-01-23 05:16:43.396\u001b[0m | \u001b[32m\u001b[1mSUCCESS \u001b[0m | \u001b[36mmy_package.methods.relation_tagger_change\u001b[0m:\u001b[36m_read_objects_gdf\u001b[0m:\u001b[36m170\u001b[0m - \u001b[32m\u001b[1mFile read ./data/serv\\city_park.geojson\u001b[0m\n",
      "\u001b[32m2025-01-23 05:16:44.039\u001b[0m | \u001b[32m\u001b[1mSUCCESS \u001b[0m | \u001b[36mmy_package.methods.relation_tagger_change\u001b[0m:\u001b[36m_read_objects_gdf\u001b[0m:\u001b[36m170\u001b[0m - \u001b[32m\u001b[1mFile read ./data/serv\\park.geojson\u001b[0m\n",
      "\u001b[32m2025-01-23 05:16:44.107\u001b[0m | \u001b[32m\u001b[1mSUCCESS \u001b[0m | \u001b[36mmy_package.methods.relation_tagger_change\u001b[0m:\u001b[36m_read_objects_gdf\u001b[0m:\u001b[36m170\u001b[0m - \u001b[32m\u001b[1mFile read ./data/serv\\garden.geojson\u001b[0m\n",
      "\u001b[32m2025-01-23 05:16:44.126\u001b[0m | \u001b[32m\u001b[1mSUCCESS \u001b[0m | \u001b[36mmy_package.methods.relation_tagger_change\u001b[0m:\u001b[36m_read_objects_gdf\u001b[0m:\u001b[36m170\u001b[0m - \u001b[32m\u001b[1mFile read ./data/serv\\shrubbery.geojson\u001b[0m\n",
      "\u001b[32m2025-01-23 05:16:56.784\u001b[0m | \u001b[32m\u001b[1mSUCCESS \u001b[0m | \u001b[36mmy_package.methods.relation_tagger_change\u001b[0m:\u001b[36m_read_objects_gdf\u001b[0m:\u001b[36m170\u001b[0m - \u001b[32m\u001b[1mFile read ./data/serv\\grass.geojson\u001b[0m\n",
      "\u001b[32m2025-01-23 05:16:57.016\u001b[0m | \u001b[32m\u001b[1mSUCCESS \u001b[0m | \u001b[36mmy_package.methods.relation_tagger_change\u001b[0m:\u001b[36m_read_objects_gdf\u001b[0m:\u001b[36m170\u001b[0m - \u001b[32m\u001b[1mFile read ./data/serv\\wetland.geojson\u001b[0m\n",
      "\u001b[32m2025-01-23 05:16:59.247\u001b[0m | \u001b[32m\u001b[1mSUCCESS \u001b[0m | \u001b[36mmy_package.methods.relation_tagger_change\u001b[0m:\u001b[36m_read_objects_gdf\u001b[0m:\u001b[36m170\u001b[0m - \u001b[32m\u001b[1mFile read ./data/serv\\historic.geojson\u001b[0m\n",
      "\u001b[32m2025-01-23 05:17:00.112\u001b[0m | \u001b[32m\u001b[1mSUCCESS \u001b[0m | \u001b[36mmy_package.methods.relation_tagger_change\u001b[0m:\u001b[36m_read_objects_gdf\u001b[0m:\u001b[36m170\u001b[0m - \u001b[32m\u001b[1mFile read ./data/serv\\ZON_OKN.geojson\u001b[0m\n",
      "\u001b[32m2025-01-23 05:17:00.439\u001b[0m | \u001b[32m\u001b[1mSUCCESS \u001b[0m | \u001b[36mmy_package.methods.relation_tagger_change\u001b[0m:\u001b[36m_read_objects_gdf\u001b[0m:\u001b[36m170\u001b[0m - \u001b[32m\u001b[1mFile read ./data/serv\\artwork.geojson\u001b[0m\n",
      "\u001b[32m2025-01-23 05:17:00.783\u001b[0m | \u001b[32m\u001b[1mSUCCESS \u001b[0m | \u001b[36mmy_package.methods.relation_tagger_change\u001b[0m:\u001b[36m_read_objects_gdf\u001b[0m:\u001b[36m170\u001b[0m - \u001b[32m\u001b[1mFile read ./data/serv\\attraction.geojson\u001b[0m\n",
      "\u001b[32m2025-01-23 05:17:00.785\u001b[0m | \u001b[31m\u001b[1mERROR   \u001b[0m | \u001b[36mmy_package.methods.relation_tagger_change\u001b[0m:\u001b[36m_read_objects_gdf\u001b[0m:\u001b[36m172\u001b[0m - \u001b[31m\u001b[1m Can't read file ./data/serv\\viewpoint.geojson\u001b[0m\n",
      "100%|██████████| 17/17 [00:09<00:00,  1.73it/s]\n"
     ]
    }
   ],
   "source": [
    "from my_package.methods.relation_tagger_change import RelationTaggerCHANGE\n",
    "\n",
    "gdfs = RelationTaggerCHANGE.read_objects_gdfs('./data/serv')\n",
    "\n",
    "rt = RelationTaggerCHANGE(blocks_gdf, gdfs)\n",
    "relation_CHANGE_gdf = rt.run()"
   ]
  },
  {
   "cell_type": "code",
   "execution_count": null,
   "metadata": {},
   "outputs": [],
   "source": [
    "relation_CHANGE_gdf"
   ]
  },
  {
   "cell_type": "code",
   "execution_count": 8,
   "metadata": {},
   "outputs": [
    {
     "name": "stdout",
     "output_type": "stream",
     "text": [
      "Index(['geometry', 'tags_probabilities', 'zoning_tag', 'tags'], dtype='object')\n"
     ]
    }
   ],
   "source": [
    "print(zoning_gdf.keys()) "
   ]
  },
  {
   "cell_type": "code",
   "execution_count": 6,
   "metadata": {},
   "outputs": [
    {
     "ename": "KeyError",
     "evalue": "\"[<Tag.RESIDENTIAL: 'Жилая зона'>] not in index\"",
     "output_type": "error",
     "traceback": [
      "\u001b[1;31m---------------------------------------------------------------------------\u001b[0m",
      "\u001b[1;31mKeyError\u001b[0m                                  Traceback (most recent call last)",
      "Cell \u001b[1;32mIn[6], line 4\u001b[0m\n\u001b[0;32m      1\u001b[0m \u001b[38;5;28;01mfrom\u001b[39;00m \u001b[38;5;21;01mmy_package\u001b[39;00m\u001b[38;5;21;01m.\u001b[39;00m\u001b[38;5;21;01mmethods\u001b[39;00m\u001b[38;5;21;01m.\u001b[39;00m\u001b[38;5;21;01mmatrix_solver\u001b[39;00m \u001b[38;5;28;01mimport\u001b[39;00m MatrixSolver\n\u001b[0;32m      3\u001b[0m ms \u001b[38;5;241m=\u001b[39m MatrixSolver(blocks_gdf, [zoning_gdf, spatial_gdf, relation_gdf])\n\u001b[1;32m----> 4\u001b[0m requirements_gdf \u001b[38;5;241m=\u001b[39m \u001b[43mms\u001b[49m\u001b[38;5;241;43m.\u001b[39;49m\u001b[43mrun\u001b[49m\u001b[43m(\u001b[49m\u001b[43m)\u001b[49m\n",
      "File \u001b[1;32mC:\\repos\\master-plan-requirements\\my_package\\methods\\matrix_solver.py:49\u001b[0m, in \u001b[0;36mMatrixSolver.run\u001b[1;34m(self)\u001b[0m\n\u001b[0;32m     47\u001b[0m blocks_gdf \u001b[38;5;241m=\u001b[39m \u001b[38;5;28mself\u001b[39m\u001b[38;5;241m.\u001b[39m_concatenate_tags(blocks_gdf)\n\u001b[0;32m     48\u001b[0m \u001b[38;5;66;03m# prepare requirements\u001b[39;00m\n\u001b[1;32m---> 49\u001b[0m blocks_gdf[\u001b[38;5;124m'\u001b[39m\u001b[38;5;124mrequirements\u001b[39m\u001b[38;5;124m'\u001b[39m] \u001b[38;5;241m=\u001b[39m \u001b[43mblocks_gdf\u001b[49m\u001b[43m[\u001b[49m\u001b[38;5;124;43m'\u001b[39;49m\u001b[38;5;124;43mtags\u001b[39;49m\u001b[38;5;124;43m'\u001b[39;49m\u001b[43m]\u001b[49m\u001b[38;5;241;43m.\u001b[39;49m\u001b[43mapply\u001b[49m\u001b[43m(\u001b[49m\u001b[38;5;28;43mself\u001b[39;49m\u001b[38;5;241;43m.\u001b[39;49m\u001b[43m_get_requirements\u001b[49m\u001b[43m)\u001b[49m\n\u001b[0;32m     50\u001b[0m requirements_gdf \u001b[38;5;241m=\u001b[39m pd\u001b[38;5;241m.\u001b[39mjson_normalize(blocks_gdf[\u001b[38;5;124m'\u001b[39m\u001b[38;5;124mrequirements\u001b[39m\u001b[38;5;124m'\u001b[39m])\n\u001b[0;32m     51\u001b[0m \u001b[38;5;28;01mreturn\u001b[39;00m blocks_gdf[[\u001b[38;5;124m'\u001b[39m\u001b[38;5;124mgeometry\u001b[39m\u001b[38;5;124m'\u001b[39m, \u001b[38;5;124m'\u001b[39m\u001b[38;5;124mtags\u001b[39m\u001b[38;5;124m'\u001b[39m]]\u001b[38;5;241m.\u001b[39mmerge(requirements_gdf, left_index\u001b[38;5;241m=\u001b[39m\u001b[38;5;28;01mTrue\u001b[39;00m, right_index\u001b[38;5;241m=\u001b[39m\u001b[38;5;28;01mTrue\u001b[39;00m)\n",
      "File \u001b[1;32mc:\\repos\\master-plan-requirements\\.venv\\lib\\site-packages\\pandas\\core\\series.py:4924\u001b[0m, in \u001b[0;36mSeries.apply\u001b[1;34m(self, func, convert_dtype, args, by_row, **kwargs)\u001b[0m\n\u001b[0;32m   4789\u001b[0m \u001b[38;5;28;01mdef\u001b[39;00m \u001b[38;5;21mapply\u001b[39m(\n\u001b[0;32m   4790\u001b[0m     \u001b[38;5;28mself\u001b[39m,\n\u001b[0;32m   4791\u001b[0m     func: AggFuncType,\n\u001b[1;32m   (...)\u001b[0m\n\u001b[0;32m   4796\u001b[0m     \u001b[38;5;241m*\u001b[39m\u001b[38;5;241m*\u001b[39mkwargs,\n\u001b[0;32m   4797\u001b[0m ) \u001b[38;5;241m-\u001b[39m\u001b[38;5;241m>\u001b[39m DataFrame \u001b[38;5;241m|\u001b[39m Series:\n\u001b[0;32m   4798\u001b[0m \u001b[38;5;250m    \u001b[39m\u001b[38;5;124;03m\"\"\"\u001b[39;00m\n\u001b[0;32m   4799\u001b[0m \u001b[38;5;124;03m    Invoke function on values of Series.\u001b[39;00m\n\u001b[0;32m   4800\u001b[0m \n\u001b[1;32m   (...)\u001b[0m\n\u001b[0;32m   4915\u001b[0m \u001b[38;5;124;03m    dtype: float64\u001b[39;00m\n\u001b[0;32m   4916\u001b[0m \u001b[38;5;124;03m    \"\"\"\u001b[39;00m\n\u001b[0;32m   4917\u001b[0m     \u001b[38;5;28;01mreturn\u001b[39;00m \u001b[43mSeriesApply\u001b[49m\u001b[43m(\u001b[49m\n\u001b[0;32m   4918\u001b[0m \u001b[43m        \u001b[49m\u001b[38;5;28;43mself\u001b[39;49m\u001b[43m,\u001b[49m\n\u001b[0;32m   4919\u001b[0m \u001b[43m        \u001b[49m\u001b[43mfunc\u001b[49m\u001b[43m,\u001b[49m\n\u001b[0;32m   4920\u001b[0m \u001b[43m        \u001b[49m\u001b[43mconvert_dtype\u001b[49m\u001b[38;5;241;43m=\u001b[39;49m\u001b[43mconvert_dtype\u001b[49m\u001b[43m,\u001b[49m\n\u001b[0;32m   4921\u001b[0m \u001b[43m        \u001b[49m\u001b[43mby_row\u001b[49m\u001b[38;5;241;43m=\u001b[39;49m\u001b[43mby_row\u001b[49m\u001b[43m,\u001b[49m\n\u001b[0;32m   4922\u001b[0m \u001b[43m        \u001b[49m\u001b[43margs\u001b[49m\u001b[38;5;241;43m=\u001b[39;49m\u001b[43margs\u001b[49m\u001b[43m,\u001b[49m\n\u001b[0;32m   4923\u001b[0m \u001b[43m        \u001b[49m\u001b[43mkwargs\u001b[49m\u001b[38;5;241;43m=\u001b[39;49m\u001b[43mkwargs\u001b[49m\u001b[43m,\u001b[49m\n\u001b[1;32m-> 4924\u001b[0m \u001b[43m    \u001b[49m\u001b[43m)\u001b[49m\u001b[38;5;241;43m.\u001b[39;49m\u001b[43mapply\u001b[49m\u001b[43m(\u001b[49m\u001b[43m)\u001b[49m\n",
      "File \u001b[1;32mc:\\repos\\master-plan-requirements\\.venv\\lib\\site-packages\\pandas\\core\\apply.py:1427\u001b[0m, in \u001b[0;36mSeriesApply.apply\u001b[1;34m(self)\u001b[0m\n\u001b[0;32m   1424\u001b[0m     \u001b[38;5;28;01mreturn\u001b[39;00m \u001b[38;5;28mself\u001b[39m\u001b[38;5;241m.\u001b[39mapply_compat()\n\u001b[0;32m   1426\u001b[0m \u001b[38;5;66;03m# self.func is Callable\u001b[39;00m\n\u001b[1;32m-> 1427\u001b[0m \u001b[38;5;28;01mreturn\u001b[39;00m \u001b[38;5;28;43mself\u001b[39;49m\u001b[38;5;241;43m.\u001b[39;49m\u001b[43mapply_standard\u001b[49m\u001b[43m(\u001b[49m\u001b[43m)\u001b[49m\n",
      "File \u001b[1;32mc:\\repos\\master-plan-requirements\\.venv\\lib\\site-packages\\pandas\\core\\apply.py:1507\u001b[0m, in \u001b[0;36mSeriesApply.apply_standard\u001b[1;34m(self)\u001b[0m\n\u001b[0;32m   1501\u001b[0m \u001b[38;5;66;03m# row-wise access\u001b[39;00m\n\u001b[0;32m   1502\u001b[0m \u001b[38;5;66;03m# apply doesn't have a `na_action` keyword and for backward compat reasons\u001b[39;00m\n\u001b[0;32m   1503\u001b[0m \u001b[38;5;66;03m# we need to give `na_action=\"ignore\"` for categorical data.\u001b[39;00m\n\u001b[0;32m   1504\u001b[0m \u001b[38;5;66;03m# TODO: remove the `na_action=\"ignore\"` when that default has been changed in\u001b[39;00m\n\u001b[0;32m   1505\u001b[0m \u001b[38;5;66;03m#  Categorical (GH51645).\u001b[39;00m\n\u001b[0;32m   1506\u001b[0m action \u001b[38;5;241m=\u001b[39m \u001b[38;5;124m\"\u001b[39m\u001b[38;5;124mignore\u001b[39m\u001b[38;5;124m\"\u001b[39m \u001b[38;5;28;01mif\u001b[39;00m \u001b[38;5;28misinstance\u001b[39m(obj\u001b[38;5;241m.\u001b[39mdtype, CategoricalDtype) \u001b[38;5;28;01melse\u001b[39;00m \u001b[38;5;28;01mNone\u001b[39;00m\n\u001b[1;32m-> 1507\u001b[0m mapped \u001b[38;5;241m=\u001b[39m \u001b[43mobj\u001b[49m\u001b[38;5;241;43m.\u001b[39;49m\u001b[43m_map_values\u001b[49m\u001b[43m(\u001b[49m\n\u001b[0;32m   1508\u001b[0m \u001b[43m    \u001b[49m\u001b[43mmapper\u001b[49m\u001b[38;5;241;43m=\u001b[39;49m\u001b[43mcurried\u001b[49m\u001b[43m,\u001b[49m\u001b[43m \u001b[49m\u001b[43mna_action\u001b[49m\u001b[38;5;241;43m=\u001b[39;49m\u001b[43maction\u001b[49m\u001b[43m,\u001b[49m\u001b[43m \u001b[49m\u001b[43mconvert\u001b[49m\u001b[38;5;241;43m=\u001b[39;49m\u001b[38;5;28;43mself\u001b[39;49m\u001b[38;5;241;43m.\u001b[39;49m\u001b[43mconvert_dtype\u001b[49m\n\u001b[0;32m   1509\u001b[0m \u001b[43m\u001b[49m\u001b[43m)\u001b[49m\n\u001b[0;32m   1511\u001b[0m \u001b[38;5;28;01mif\u001b[39;00m \u001b[38;5;28mlen\u001b[39m(mapped) \u001b[38;5;129;01mand\u001b[39;00m \u001b[38;5;28misinstance\u001b[39m(mapped[\u001b[38;5;241m0\u001b[39m], ABCSeries):\n\u001b[0;32m   1512\u001b[0m     \u001b[38;5;66;03m# GH#43986 Need to do list(mapped) in order to get treated as nested\u001b[39;00m\n\u001b[0;32m   1513\u001b[0m     \u001b[38;5;66;03m#  See also GH#25959 regarding EA support\u001b[39;00m\n\u001b[0;32m   1514\u001b[0m     \u001b[38;5;28;01mreturn\u001b[39;00m obj\u001b[38;5;241m.\u001b[39m_constructor_expanddim(\u001b[38;5;28mlist\u001b[39m(mapped), index\u001b[38;5;241m=\u001b[39mobj\u001b[38;5;241m.\u001b[39mindex)\n",
      "File \u001b[1;32mc:\\repos\\master-plan-requirements\\.venv\\lib\\site-packages\\pandas\\core\\base.py:921\u001b[0m, in \u001b[0;36mIndexOpsMixin._map_values\u001b[1;34m(self, mapper, na_action, convert)\u001b[0m\n\u001b[0;32m    918\u001b[0m \u001b[38;5;28;01mif\u001b[39;00m \u001b[38;5;28misinstance\u001b[39m(arr, ExtensionArray):\n\u001b[0;32m    919\u001b[0m     \u001b[38;5;28;01mreturn\u001b[39;00m arr\u001b[38;5;241m.\u001b[39mmap(mapper, na_action\u001b[38;5;241m=\u001b[39mna_action)\n\u001b[1;32m--> 921\u001b[0m \u001b[38;5;28;01mreturn\u001b[39;00m \u001b[43malgorithms\u001b[49m\u001b[38;5;241;43m.\u001b[39;49m\u001b[43mmap_array\u001b[49m\u001b[43m(\u001b[49m\u001b[43marr\u001b[49m\u001b[43m,\u001b[49m\u001b[43m \u001b[49m\u001b[43mmapper\u001b[49m\u001b[43m,\u001b[49m\u001b[43m \u001b[49m\u001b[43mna_action\u001b[49m\u001b[38;5;241;43m=\u001b[39;49m\u001b[43mna_action\u001b[49m\u001b[43m,\u001b[49m\u001b[43m \u001b[49m\u001b[43mconvert\u001b[49m\u001b[38;5;241;43m=\u001b[39;49m\u001b[43mconvert\u001b[49m\u001b[43m)\u001b[49m\n",
      "File \u001b[1;32mc:\\repos\\master-plan-requirements\\.venv\\lib\\site-packages\\pandas\\core\\algorithms.py:1743\u001b[0m, in \u001b[0;36mmap_array\u001b[1;34m(arr, mapper, na_action, convert)\u001b[0m\n\u001b[0;32m   1741\u001b[0m values \u001b[38;5;241m=\u001b[39m arr\u001b[38;5;241m.\u001b[39mastype(\u001b[38;5;28mobject\u001b[39m, copy\u001b[38;5;241m=\u001b[39m\u001b[38;5;28;01mFalse\u001b[39;00m)\n\u001b[0;32m   1742\u001b[0m \u001b[38;5;28;01mif\u001b[39;00m na_action \u001b[38;5;129;01mis\u001b[39;00m \u001b[38;5;28;01mNone\u001b[39;00m:\n\u001b[1;32m-> 1743\u001b[0m     \u001b[38;5;28;01mreturn\u001b[39;00m \u001b[43mlib\u001b[49m\u001b[38;5;241;43m.\u001b[39;49m\u001b[43mmap_infer\u001b[49m\u001b[43m(\u001b[49m\u001b[43mvalues\u001b[49m\u001b[43m,\u001b[49m\u001b[43m \u001b[49m\u001b[43mmapper\u001b[49m\u001b[43m,\u001b[49m\u001b[43m \u001b[49m\u001b[43mconvert\u001b[49m\u001b[38;5;241;43m=\u001b[39;49m\u001b[43mconvert\u001b[49m\u001b[43m)\u001b[49m\n\u001b[0;32m   1744\u001b[0m \u001b[38;5;28;01melse\u001b[39;00m:\n\u001b[0;32m   1745\u001b[0m     \u001b[38;5;28;01mreturn\u001b[39;00m lib\u001b[38;5;241m.\u001b[39mmap_infer_mask(\n\u001b[0;32m   1746\u001b[0m         values, mapper, mask\u001b[38;5;241m=\u001b[39misna(values)\u001b[38;5;241m.\u001b[39mview(np\u001b[38;5;241m.\u001b[39muint8), convert\u001b[38;5;241m=\u001b[39mconvert\n\u001b[0;32m   1747\u001b[0m     )\n",
      "File \u001b[1;32mlib.pyx:2972\u001b[0m, in \u001b[0;36mpandas._libs.lib.map_infer\u001b[1;34m()\u001b[0m\n",
      "File \u001b[1;32mC:\\repos\\master-plan-requirements\\my_package\\methods\\matrix_solver.py:41\u001b[0m, in \u001b[0;36mMatrixSolver._get_requirements\u001b[1;34m(self, tags)\u001b[0m\n\u001b[0;32m     40\u001b[0m \u001b[38;5;28;01mdef\u001b[39;00m \u001b[38;5;21m_get_requirements\u001b[39m(\u001b[38;5;28mself\u001b[39m, tags : \u001b[38;5;28mlist\u001b[39m[Tag]) \u001b[38;5;241m-\u001b[39m\u001b[38;5;241m>\u001b[39m \u001b[38;5;28mlist\u001b[39m[Requirement]:\n\u001b[1;32m---> 41\u001b[0m     submatrix \u001b[38;5;241m=\u001b[39m \u001b[38;5;28;43mself\u001b[39;49m\u001b[38;5;241;43m.\u001b[39;49m\u001b[43m_get_requirements_submatrix\u001b[49m\u001b[43m(\u001b[49m\u001b[43mtags\u001b[49m\u001b[43m)\u001b[49m\n\u001b[0;32m     42\u001b[0m     \u001b[38;5;28;01mreturn\u001b[39;00m \u001b[38;5;28mself\u001b[39m\u001b[38;5;241m.\u001b[39m_solve_requirements_submatrix(submatrix)\n",
      "File \u001b[1;32mC:\\repos\\master-plan-requirements\\my_package\\methods\\matrix_solver.py:22\u001b[0m, in \u001b[0;36mMatrixSolver._get_requirements_submatrix\u001b[1;34m(tags)\u001b[0m\n\u001b[0;32m     20\u001b[0m \u001b[38;5;129m@staticmethod\u001b[39m\n\u001b[0;32m     21\u001b[0m \u001b[38;5;28;01mdef\u001b[39;00m \u001b[38;5;21m_get_requirements_submatrix\u001b[39m(tags : \u001b[38;5;28mlist\u001b[39m[Tag]) \u001b[38;5;241m-\u001b[39m\u001b[38;5;241m>\u001b[39m pd\u001b[38;5;241m.\u001b[39mDataFrame:\n\u001b[1;32m---> 22\u001b[0m     \u001b[38;5;28;01mreturn\u001b[39;00m \u001b[43mREQUIREMENTS_MATRIX\u001b[49m\u001b[38;5;241;43m.\u001b[39;49m\u001b[43mloc\u001b[49m\u001b[43m[\u001b[49m\u001b[43mtags\u001b[49m\u001b[43m]\u001b[49m\n",
      "File \u001b[1;32mc:\\repos\\master-plan-requirements\\.venv\\lib\\site-packages\\pandas\\core\\indexing.py:1191\u001b[0m, in \u001b[0;36m_LocationIndexer.__getitem__\u001b[1;34m(self, key)\u001b[0m\n\u001b[0;32m   1189\u001b[0m maybe_callable \u001b[38;5;241m=\u001b[39m com\u001b[38;5;241m.\u001b[39mapply_if_callable(key, \u001b[38;5;28mself\u001b[39m\u001b[38;5;241m.\u001b[39mobj)\n\u001b[0;32m   1190\u001b[0m maybe_callable \u001b[38;5;241m=\u001b[39m \u001b[38;5;28mself\u001b[39m\u001b[38;5;241m.\u001b[39m_check_deprecated_callable_usage(key, maybe_callable)\n\u001b[1;32m-> 1191\u001b[0m \u001b[38;5;28;01mreturn\u001b[39;00m \u001b[38;5;28;43mself\u001b[39;49m\u001b[38;5;241;43m.\u001b[39;49m\u001b[43m_getitem_axis\u001b[49m\u001b[43m(\u001b[49m\u001b[43mmaybe_callable\u001b[49m\u001b[43m,\u001b[49m\u001b[43m \u001b[49m\u001b[43maxis\u001b[49m\u001b[38;5;241;43m=\u001b[39;49m\u001b[43maxis\u001b[49m\u001b[43m)\u001b[49m\n",
      "File \u001b[1;32mc:\\repos\\master-plan-requirements\\.venv\\lib\\site-packages\\pandas\\core\\indexing.py:1420\u001b[0m, in \u001b[0;36m_LocIndexer._getitem_axis\u001b[1;34m(self, key, axis)\u001b[0m\n\u001b[0;32m   1417\u001b[0m     \u001b[38;5;28;01mif\u001b[39;00m \u001b[38;5;28mhasattr\u001b[39m(key, \u001b[38;5;124m\"\u001b[39m\u001b[38;5;124mndim\u001b[39m\u001b[38;5;124m\"\u001b[39m) \u001b[38;5;129;01mand\u001b[39;00m key\u001b[38;5;241m.\u001b[39mndim \u001b[38;5;241m>\u001b[39m \u001b[38;5;241m1\u001b[39m:\n\u001b[0;32m   1418\u001b[0m         \u001b[38;5;28;01mraise\u001b[39;00m \u001b[38;5;167;01mValueError\u001b[39;00m(\u001b[38;5;124m\"\u001b[39m\u001b[38;5;124mCannot index with multidimensional key\u001b[39m\u001b[38;5;124m\"\u001b[39m)\n\u001b[1;32m-> 1420\u001b[0m     \u001b[38;5;28;01mreturn\u001b[39;00m \u001b[38;5;28;43mself\u001b[39;49m\u001b[38;5;241;43m.\u001b[39;49m\u001b[43m_getitem_iterable\u001b[49m\u001b[43m(\u001b[49m\u001b[43mkey\u001b[49m\u001b[43m,\u001b[49m\u001b[43m \u001b[49m\u001b[43maxis\u001b[49m\u001b[38;5;241;43m=\u001b[39;49m\u001b[43maxis\u001b[49m\u001b[43m)\u001b[49m\n\u001b[0;32m   1422\u001b[0m \u001b[38;5;66;03m# nested tuple slicing\u001b[39;00m\n\u001b[0;32m   1423\u001b[0m \u001b[38;5;28;01mif\u001b[39;00m is_nested_tuple(key, labels):\n",
      "File \u001b[1;32mc:\\repos\\master-plan-requirements\\.venv\\lib\\site-packages\\pandas\\core\\indexing.py:1360\u001b[0m, in \u001b[0;36m_LocIndexer._getitem_iterable\u001b[1;34m(self, key, axis)\u001b[0m\n\u001b[0;32m   1357\u001b[0m \u001b[38;5;28mself\u001b[39m\u001b[38;5;241m.\u001b[39m_validate_key(key, axis)\n\u001b[0;32m   1359\u001b[0m \u001b[38;5;66;03m# A collection of keys\u001b[39;00m\n\u001b[1;32m-> 1360\u001b[0m keyarr, indexer \u001b[38;5;241m=\u001b[39m \u001b[38;5;28;43mself\u001b[39;49m\u001b[38;5;241;43m.\u001b[39;49m\u001b[43m_get_listlike_indexer\u001b[49m\u001b[43m(\u001b[49m\u001b[43mkey\u001b[49m\u001b[43m,\u001b[49m\u001b[43m \u001b[49m\u001b[43maxis\u001b[49m\u001b[43m)\u001b[49m\n\u001b[0;32m   1361\u001b[0m \u001b[38;5;28;01mreturn\u001b[39;00m \u001b[38;5;28mself\u001b[39m\u001b[38;5;241m.\u001b[39mobj\u001b[38;5;241m.\u001b[39m_reindex_with_indexers(\n\u001b[0;32m   1362\u001b[0m     {axis: [keyarr, indexer]}, copy\u001b[38;5;241m=\u001b[39m\u001b[38;5;28;01mTrue\u001b[39;00m, allow_dups\u001b[38;5;241m=\u001b[39m\u001b[38;5;28;01mTrue\u001b[39;00m\n\u001b[0;32m   1363\u001b[0m )\n",
      "File \u001b[1;32mc:\\repos\\master-plan-requirements\\.venv\\lib\\site-packages\\pandas\\core\\indexing.py:1558\u001b[0m, in \u001b[0;36m_LocIndexer._get_listlike_indexer\u001b[1;34m(self, key, axis)\u001b[0m\n\u001b[0;32m   1555\u001b[0m ax \u001b[38;5;241m=\u001b[39m \u001b[38;5;28mself\u001b[39m\u001b[38;5;241m.\u001b[39mobj\u001b[38;5;241m.\u001b[39m_get_axis(axis)\n\u001b[0;32m   1556\u001b[0m axis_name \u001b[38;5;241m=\u001b[39m \u001b[38;5;28mself\u001b[39m\u001b[38;5;241m.\u001b[39mobj\u001b[38;5;241m.\u001b[39m_get_axis_name(axis)\n\u001b[1;32m-> 1558\u001b[0m keyarr, indexer \u001b[38;5;241m=\u001b[39m \u001b[43max\u001b[49m\u001b[38;5;241;43m.\u001b[39;49m\u001b[43m_get_indexer_strict\u001b[49m\u001b[43m(\u001b[49m\u001b[43mkey\u001b[49m\u001b[43m,\u001b[49m\u001b[43m \u001b[49m\u001b[43maxis_name\u001b[49m\u001b[43m)\u001b[49m\n\u001b[0;32m   1560\u001b[0m \u001b[38;5;28;01mreturn\u001b[39;00m keyarr, indexer\n",
      "File \u001b[1;32mc:\\repos\\master-plan-requirements\\.venv\\lib\\site-packages\\pandas\\core\\indexes\\base.py:6200\u001b[0m, in \u001b[0;36mIndex._get_indexer_strict\u001b[1;34m(self, key, axis_name)\u001b[0m\n\u001b[0;32m   6197\u001b[0m \u001b[38;5;28;01melse\u001b[39;00m:\n\u001b[0;32m   6198\u001b[0m     keyarr, indexer, new_indexer \u001b[38;5;241m=\u001b[39m \u001b[38;5;28mself\u001b[39m\u001b[38;5;241m.\u001b[39m_reindex_non_unique(keyarr)\n\u001b[1;32m-> 6200\u001b[0m \u001b[38;5;28;43mself\u001b[39;49m\u001b[38;5;241;43m.\u001b[39;49m\u001b[43m_raise_if_missing\u001b[49m\u001b[43m(\u001b[49m\u001b[43mkeyarr\u001b[49m\u001b[43m,\u001b[49m\u001b[43m \u001b[49m\u001b[43mindexer\u001b[49m\u001b[43m,\u001b[49m\u001b[43m \u001b[49m\u001b[43maxis_name\u001b[49m\u001b[43m)\u001b[49m\n\u001b[0;32m   6202\u001b[0m keyarr \u001b[38;5;241m=\u001b[39m \u001b[38;5;28mself\u001b[39m\u001b[38;5;241m.\u001b[39mtake(indexer)\n\u001b[0;32m   6203\u001b[0m \u001b[38;5;28;01mif\u001b[39;00m \u001b[38;5;28misinstance\u001b[39m(key, Index):\n\u001b[0;32m   6204\u001b[0m     \u001b[38;5;66;03m# GH 42790 - Preserve name from an Index\u001b[39;00m\n",
      "File \u001b[1;32mc:\\repos\\master-plan-requirements\\.venv\\lib\\site-packages\\pandas\\core\\indexes\\base.py:6252\u001b[0m, in \u001b[0;36mIndex._raise_if_missing\u001b[1;34m(self, key, indexer, axis_name)\u001b[0m\n\u001b[0;32m   6249\u001b[0m     \u001b[38;5;28;01mraise\u001b[39;00m \u001b[38;5;167;01mKeyError\u001b[39;00m(\u001b[38;5;124mf\u001b[39m\u001b[38;5;124m\"\u001b[39m\u001b[38;5;124mNone of [\u001b[39m\u001b[38;5;132;01m{\u001b[39;00mkey\u001b[38;5;132;01m}\u001b[39;00m\u001b[38;5;124m] are in the [\u001b[39m\u001b[38;5;132;01m{\u001b[39;00maxis_name\u001b[38;5;132;01m}\u001b[39;00m\u001b[38;5;124m]\u001b[39m\u001b[38;5;124m\"\u001b[39m)\n\u001b[0;32m   6251\u001b[0m not_found \u001b[38;5;241m=\u001b[39m \u001b[38;5;28mlist\u001b[39m(ensure_index(key)[missing_mask\u001b[38;5;241m.\u001b[39mnonzero()[\u001b[38;5;241m0\u001b[39m]]\u001b[38;5;241m.\u001b[39munique())\n\u001b[1;32m-> 6252\u001b[0m \u001b[38;5;28;01mraise\u001b[39;00m \u001b[38;5;167;01mKeyError\u001b[39;00m(\u001b[38;5;124mf\u001b[39m\u001b[38;5;124m\"\u001b[39m\u001b[38;5;132;01m{\u001b[39;00mnot_found\u001b[38;5;132;01m}\u001b[39;00m\u001b[38;5;124m not in index\u001b[39m\u001b[38;5;124m\"\u001b[39m)\n",
      "\u001b[1;31mKeyError\u001b[0m: \"[<Tag.RESIDENTIAL: 'Жилая зона'>] not in index\""
     ]
    }
   ],
   "source": [
    "from my_package.methods.matrix_solver import MatrixSolver\n",
    "\n",
    "ms = MatrixSolver(blocks_gdf, [zoning_gdf, spatial_gdf, relation_gdf])\n",
    "requirements_gdf = ms.run()"
   ]
  },
  {
   "cell_type": "code",
   "execution_count": null,
   "metadata": {},
   "outputs": [],
   "source": [
    "requirements_gdf"
   ]
  }
 ],
 "metadata": {
  "kernelspec": {
   "display_name": ".venv",
   "language": "python",
   "name": "python3"
  },
  "language_info": {
   "codemirror_mode": {
    "name": "ipython",
    "version": 3
   },
   "file_extension": ".py",
   "mimetype": "text/x-python",
   "name": "python",
   "nbconvert_exporter": "python",
   "pygments_lexer": "ipython3",
   "version": "3.10.6"
  }
 },
 "nbformat": 4,
 "nbformat_minor": 2
}
