{
 "cells": [
  {
   "cell_type": "code",
   "execution_count": 1,
   "metadata": {},
   "outputs": [
    {
     "data": {
      "text/html": [
       "<div>\n",
       "<style scoped>\n",
       "    .dataframe tbody tr th:only-of-type {\n",
       "        vertical-align: middle;\n",
       "    }\n",
       "\n",
       "    .dataframe tbody tr th {\n",
       "        vertical-align: top;\n",
       "    }\n",
       "\n",
       "    .dataframe thead th {\n",
       "        text-align: right;\n",
       "    }\n",
       "</style>\n",
       "<table border=\"1\" class=\"dataframe\">\n",
       "  <thead>\n",
       "    <tr style=\"text-align: right;\">\n",
       "      <th></th>\n",
       "      <th>geometry</th>\n",
       "    </tr>\n",
       "  </thead>\n",
       "  <tbody>\n",
       "    <tr>\n",
       "      <th>0</th>\n",
       "      <td>POLYGON ((354918.622 6625258.829, 354901.464 6...</td>\n",
       "    </tr>\n",
       "    <tr>\n",
       "      <th>1</th>\n",
       "      <td>POLYGON ((355412.142 6623378.149, 355411.700 6...</td>\n",
       "    </tr>\n",
       "    <tr>\n",
       "      <th>2</th>\n",
       "      <td>POLYGON ((353934.329 6625429.433, 353923.453 6...</td>\n",
       "    </tr>\n",
       "    <tr>\n",
       "      <th>3</th>\n",
       "      <td>POLYGON ((355099.099 6623847.765, 355074.808 6...</td>\n",
       "    </tr>\n",
       "    <tr>\n",
       "      <th>4</th>\n",
       "      <td>POLYGON ((352766.168 6621954.748, 352744.412 6...</td>\n",
       "    </tr>\n",
       "  </tbody>\n",
       "</table>\n",
       "</div>"
      ],
      "text/plain": [
       "                                            geometry\n",
       "0  POLYGON ((354918.622 6625258.829, 354901.464 6...\n",
       "1  POLYGON ((355412.142 6623378.149, 355411.700 6...\n",
       "2  POLYGON ((353934.329 6625429.433, 353923.453 6...\n",
       "3  POLYGON ((355099.099 6623847.765, 355074.808 6...\n",
       "4  POLYGON ((352766.168 6621954.748, 352744.412 6..."
      ]
     },
     "execution_count": 1,
     "metadata": {},
     "output_type": "execute_result"
    }
   ],
   "source": [
    "import geopandas as gpd\n",
    "\n",
    "blocks_gdf = gpd.read_parquet('./data/blocks.parquet')[['geometry']]\n",
    "blocks_gdf.head()"
   ]
  },
  {
   "cell_type": "code",
   "execution_count": 3,
   "metadata": {},
   "outputs": [
    {
     "name": "stderr",
     "output_type": "stream",
     "text": [
      "\u001b[32m2025-01-23 02:40:40.309\u001b[0m | \u001b[33m\u001b[1mWARNING \u001b[0m | \u001b[36mmy_package.methods.zoning_tagger\u001b[0m:\u001b[36mrun\u001b[0m:\u001b[36m75\u001b[0m - \u001b[33m\u001b[1mNo landuse data is provided\u001b[0m\n",
      "\u001b[32m2025-01-23 02:40:40.310\u001b[0m | \u001b[1mINFO    \u001b[0m | \u001b[36mmy_package.methods.zoning_tagger\u001b[0m:\u001b[36mfetch_osm\u001b[0m:\u001b[36m30\u001b[0m - \u001b[1mFetching OSM data\u001b[0m\n",
      "\u001b[32m2025-01-23 02:41:08.582\u001b[0m | \u001b[32m\u001b[1mSUCCESS \u001b[0m | \u001b[36mmy_package.methods.zoning_tagger\u001b[0m:\u001b[36mfetch_osm\u001b[0m:\u001b[36m35\u001b[0m - \u001b[32m\u001b[1mOSM data fetched\u001b[0m\n",
      "\u001b[32m2025-01-23 02:41:08.620\u001b[0m | \u001b[1mINFO    \u001b[0m | \u001b[36mmy_package.methods.zoning_tagger\u001b[0m:\u001b[36m_process_data\u001b[0m:\u001b[36m39\u001b[0m - \u001b[1mProcessing data\u001b[0m\n",
      "\u001b[32m2025-01-23 02:41:08.693\u001b[0m | \u001b[32m\u001b[1mSUCCESS \u001b[0m | \u001b[36mmy_package.methods.zoning_tagger\u001b[0m:\u001b[36m_process_data\u001b[0m:\u001b[36m44\u001b[0m - \u001b[32m\u001b[1mData processed\u001b[0m\n",
      "\u001b[32m2025-01-23 02:41:08.728\u001b[0m | \u001b[1mINFO    \u001b[0m | \u001b[36mmy_package.methods.zoning_tagger\u001b[0m:\u001b[36m_get_probabilities\u001b[0m:\u001b[36m48\u001b[0m - \u001b[1mCalculating probabilities\u001b[0m\n",
      "\u001b[32m2025-01-23 02:41:14.561\u001b[0m | \u001b[32m\u001b[1mSUCCESS \u001b[0m | \u001b[36mmy_package.methods.zoning_tagger\u001b[0m:\u001b[36m_get_probabilities\u001b[0m:\u001b[36m69\u001b[0m - \u001b[32m\u001b[1mProbabilities calculated\u001b[0m\n"
     ]
    }
   ],
   "source": [
    "from my_package.methods.zoning_tagger import ZoningTagger\n",
    "\n",
    "zt = ZoningTagger(blocks_gdf)\n",
    "zoning_gdf = zt.run()"
   ]
  }
 ],
 "metadata": {
  "kernelspec": {
   "display_name": ".venv",
   "language": "python",
   "name": "python3"
  },
  "language_info": {
   "codemirror_mode": {
    "name": "ipython",
    "version": 3
   },
   "file_extension": ".py",
   "mimetype": "text/x-python",
   "name": "python",
   "nbconvert_exporter": "python",
   "pygments_lexer": "ipython3",
   "version": "3.10.6"
  }
 },
 "nbformat": 4,
 "nbformat_minor": 2
}
