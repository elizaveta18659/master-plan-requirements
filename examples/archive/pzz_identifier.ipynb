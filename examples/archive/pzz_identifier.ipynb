{
 "cells": [
  {
   "cell_type": "markdown",
   "metadata": {},
   "source": [
    " метод который слою кварталов и землепользования назначает тег из группы zoning"
   ]
  },
  {
   "cell_type": "code",
   "execution_count": 1,
   "metadata": {},
   "outputs": [],
   "source": [
    "import geopandas as gpd\n",
    "from collections import defaultdict\n",
    "from tqdm import tqdm"
   ]
  },
  {
   "cell_type": "code",
   "execution_count": 3,
   "metadata": {},
   "outputs": [],
   "source": [
    "PZZ_gdf = gpd.read_file(\"./data/PZZ/PZZ.geojson\")"
   ]
  },
  {
   "cell_type": "code",
   "execution_count": 4,
   "metadata": {},
   "outputs": [],
   "source": [
    "PZZ_gdf = PZZ_gdf.to_crs(epsg=3857)"
   ]
  },
  {
   "cell_type": "code",
   "execution_count": 5,
   "metadata": {},
   "outputs": [],
   "source": [
    "def filter_columns(PZZ):\n",
    "    # Оставляем только нужные столбцы: геометрия, вид, наименование вида\n",
    "    filtered_gdf = PZZ[['geometry', 'Зона']]    \n",
    "    return filtered_gdf"
   ]
  },
  {
   "cell_type": "code",
   "execution_count": 6,
   "metadata": {},
   "outputs": [],
   "source": [
    "PZZ_type_gdf = filter_columns(PZZ_gdf)"
   ]
  },
  {
   "cell_type": "code",
   "execution_count": null,
   "metadata": {},
   "outputs": [],
   "source": [
    "PZZ_type_gdf "
   ]
  },
  {
   "cell_type": "code",
   "execution_count": 7,
   "metadata": {},
   "outputs": [],
   "source": [
    "def add_zonning_tag(PZZ_zoning_gdf):\n",
    "    # Словарь для сопоставления зоны с тегом\n",
    "    zone_mapping = {\n",
    "        \"RESIDENTIAL\": ['Т1Ж1', 'Т1Ж2-1', 'Т1Ж2-2', 'Т2Ж1', 'Т2ЖД2', 'Т3Ж1', 'Т3Ж2', 'Т3ЖД3'],\n",
    "        \"PUBLIC_AND_BUSINESS\" : ['ТД1-1_1', 'ТД1-1_2', 'ТД1-2_1', 'ТД1-2_2', 'ТД1-3', 'ТД2_1', 'ТД2_2', 'ТД3'],\n",
    "        \"INDUSTRIAL\" : ['ТИП1', 'ТИ2', 'ТИП3', 'ТИП4', 'ТПД1_1', 'ТПД1_2', 'ТПД1_3', 'ТПД2_1', 'ТПД2_2', 'ТПД2_3', 'ТОЭЗ'],\n",
    "        \"ENGINEERING_AND_TRANSPORTATION\" : ['ТИ1-1', 'ТИ1-2', 'ТИ2', 'ТИ3', 'ТИ4-1', 'ТИ4-2', 'ТУ'],\n",
    "        \"AGRICULTURAL\" : ['ТС1', 'ТС2'],\n",
    "        \"RECREATIONAL\" : ['ТР0-1', 'ТР0-2', 'ТР1', 'ТР2', 'ТР3-1', 'ТР3-2', 'ТР3-3', 'ТР4', 'ТР5-1', 'ТР5-2'],\n",
    "        \"SPETIAL_PURPOSE\" : ['ТК1', 'ТК2', 'ТК3']\n",
    "    }\n",
    "\n",
    "    # Функция для назначения тега на основе значения в столбце \"Зона\"\n",
    "    def get_zonning_tag(zone_value):\n",
    "        for tag, zone_list in zone_mapping.items():\n",
    "            if zone_value in zone_list:\n",
    "                return tag\n",
    "        return 'Unknown'  # Если совпадение не найдено\n",
    "\n",
    "    # Проверим наличие столбца 'Зона' в данных\n",
    "    if 'Зона' not in PZZ_zoning_gdf.columns:\n",
    "        raise ValueError(\"Столбец 'Зона' не найден в GeoDataFrame\")\n",
    "\n",
    "    # Применяем функцию ко всем строкам в столбце 'Зона' и создаем новый столбец 'ZONING_tag'\n",
    "    # Используем .loc[] для безопасного изменения\n",
    "    PZZ_zoning_gdf.loc[:, 'ZONING_tag'] = PZZ_zoning_gdf['Зона'].apply(get_zonning_tag)\n",
    "\n",
    "    return PZZ_zoning_gdf"
   ]
  },
  {
   "cell_type": "code",
   "execution_count": 8,
   "metadata": {},
   "outputs": [
    {
     "name": "stderr",
     "output_type": "stream",
     "text": [
      "c:\\repos\\master-plan-requirements\\.venv\\lib\\site-packages\\geopandas\\geodataframe.py:1528: SettingWithCopyWarning: \n",
      "A value is trying to be set on a copy of a slice from a DataFrame.\n",
      "Try using .loc[row_indexer,col_indexer] = value instead\n",
      "\n",
      "See the caveats in the documentation: https://pandas.pydata.org/pandas-docs/stable/user_guide/indexing.html#returning-a-view-versus-a-copy\n",
      "  super().__setitem__(key, value)\n"
     ]
    }
   ],
   "source": [
    "PZZ_zoning_gdf = add_zonning_tag(PZZ_type_gdf)"
   ]
  },
  {
   "cell_type": "code",
   "execution_count": 9,
   "metadata": {},
   "outputs": [],
   "source": [
    "#PZZ_zoning_gdf.to_file(\"PZZ_zoning_gdf.geojson\", driver=\"GeoJSON\")"
   ]
  },
  {
   "cell_type": "code",
   "execution_count": 122,
   "metadata": {},
   "outputs": [
    {
     "data": {
      "text/html": [
       "<div>\n",
       "<style scoped>\n",
       "    .dataframe tbody tr th:only-of-type {\n",
       "        vertical-align: middle;\n",
       "    }\n",
       "\n",
       "    .dataframe tbody tr th {\n",
       "        vertical-align: top;\n",
       "    }\n",
       "\n",
       "    .dataframe thead th {\n",
       "        text-align: right;\n",
       "    }\n",
       "</style>\n",
       "<table border=\"1\" class=\"dataframe\">\n",
       "  <thead>\n",
       "    <tr style=\"text-align: right;\">\n",
       "      <th></th>\n",
       "      <th>geometry</th>\n",
       "      <th>Зона</th>\n",
       "      <th>ZONING_tag</th>\n",
       "    </tr>\n",
       "  </thead>\n",
       "  <tbody>\n",
       "    <tr>\n",
       "      <th>0</th>\n",
       "      <td>POLYGON ((3368210.843 8378494.833, 3368224.245...</td>\n",
       "      <td></td>\n",
       "      <td>Unknown</td>\n",
       "    </tr>\n",
       "    <tr>\n",
       "      <th>1</th>\n",
       "      <td>POLYGON ((3368297.001 8378654.669, 3368307.295...</td>\n",
       "      <td></td>\n",
       "      <td>Unknown</td>\n",
       "    </tr>\n",
       "    <tr>\n",
       "      <th>2</th>\n",
       "      <td>POLYGON ((3376792.279 8380567.984, 3376804.641...</td>\n",
       "      <td></td>\n",
       "      <td>Unknown</td>\n",
       "    </tr>\n",
       "    <tr>\n",
       "      <th>3</th>\n",
       "      <td>POLYGON ((3376889.367 8380638.420, 3377002.782...</td>\n",
       "      <td></td>\n",
       "      <td>Unknown</td>\n",
       "    </tr>\n",
       "    <tr>\n",
       "      <th>4</th>\n",
       "      <td>POLYGON ((3376607.073 8380435.761, 3376626.740...</td>\n",
       "      <td></td>\n",
       "      <td>Unknown</td>\n",
       "    </tr>\n",
       "    <tr>\n",
       "      <th>...</th>\n",
       "      <td>...</td>\n",
       "      <td>...</td>\n",
       "      <td>...</td>\n",
       "    </tr>\n",
       "    <tr>\n",
       "      <th>8422</th>\n",
       "      <td>POLYGON ((3358227.095 8396511.354, 3358276.054...</td>\n",
       "      <td></td>\n",
       "      <td>Unknown</td>\n",
       "    </tr>\n",
       "    <tr>\n",
       "      <th>8423</th>\n",
       "      <td>MULTIPOLYGON (((3358542.015 8396548.875, 33585...</td>\n",
       "      <td></td>\n",
       "      <td>Unknown</td>\n",
       "    </tr>\n",
       "    <tr>\n",
       "      <th>8424</th>\n",
       "      <td>POLYGON ((3357707.823 8396612.299, 3357726.983...</td>\n",
       "      <td></td>\n",
       "      <td>Unknown</td>\n",
       "    </tr>\n",
       "    <tr>\n",
       "      <th>8425</th>\n",
       "      <td>POLYGON ((3359348.393 8401121.685, 3359358.978...</td>\n",
       "      <td>ТР1</td>\n",
       "      <td>RECREATIONAL</td>\n",
       "    </tr>\n",
       "    <tr>\n",
       "      <th>8426</th>\n",
       "      <td>MULTIPOLYGON (((3378053.143 8413616.163, 33780...</td>\n",
       "      <td>ТПД2_3</td>\n",
       "      <td>INDUSTRIAL</td>\n",
       "    </tr>\n",
       "  </tbody>\n",
       "</table>\n",
       "<p>8427 rows × 3 columns</p>\n",
       "</div>"
      ],
      "text/plain": [
       "                                               geometry    Зона    ZONING_tag\n",
       "0     POLYGON ((3368210.843 8378494.833, 3368224.245...               Unknown\n",
       "1     POLYGON ((3368297.001 8378654.669, 3368307.295...               Unknown\n",
       "2     POLYGON ((3376792.279 8380567.984, 3376804.641...               Unknown\n",
       "3     POLYGON ((3376889.367 8380638.420, 3377002.782...               Unknown\n",
       "4     POLYGON ((3376607.073 8380435.761, 3376626.740...               Unknown\n",
       "...                                                 ...     ...           ...\n",
       "8422  POLYGON ((3358227.095 8396511.354, 3358276.054...               Unknown\n",
       "8423  MULTIPOLYGON (((3358542.015 8396548.875, 33585...               Unknown\n",
       "8424  POLYGON ((3357707.823 8396612.299, 3357726.983...               Unknown\n",
       "8425  POLYGON ((3359348.393 8401121.685, 3359358.978...     ТР1  RECREATIONAL\n",
       "8426  MULTIPOLYGON (((3378053.143 8413616.163, 33780...  ТПД2_3    INDUSTRIAL\n",
       "\n",
       "[8427 rows x 3 columns]"
      ]
     },
     "execution_count": 122,
     "metadata": {},
     "output_type": "execute_result"
    }
   ],
   "source": [
    "PZZ_zoning_gdf"
   ]
  },
  {
   "cell_type": "markdown",
   "metadata": {},
   "source": [
    "КВАРТАЛЫ"
   ]
  },
  {
   "cell_type": "code",
   "execution_count": 15,
   "metadata": {},
   "outputs": [],
   "source": [
    "#загружаем геометрию кварталов\n",
    "blocks_gdf = gpd.read_file(\"./data/blocks_relation_tagger.geojson\")"
   ]
  },
  {
   "cell_type": "code",
   "execution_count": 16,
   "metadata": {},
   "outputs": [],
   "source": [
    "blocks_gdf  = blocks_gdf.to_crs(epsg=3857)"
   ]
  },
  {
   "cell_type": "code",
   "execution_count": null,
   "metadata": {},
   "outputs": [],
   "source": [
    "blocks_gdf"
   ]
  },
  {
   "cell_type": "code",
   "execution_count": 17,
   "metadata": {},
   "outputs": [
    {
     "name": "stdout",
     "output_type": "stream",
     "text": [
      "Index(['geometry', 'Зона', 'ZONING_tag', 'ZONE'], dtype='object')\n"
     ]
    }
   ],
   "source": [
    "print(PZZ_zoning_gdf.columns)"
   ]
  },
  {
   "cell_type": "code",
   "execution_count": 18,
   "metadata": {},
   "outputs": [],
   "source": [
    "def intersect(blocks_gdf, PZZ_zoning_gdf):\n",
    "    # Создаем новый столбец для добавления информации о зоне\n",
    "    blocks_gdf['ZONE'] = None\n",
    "\n",
    "    # Создаем словарь для хранения зон для каждого квартала\n",
    "    zoning_dict = defaultdict(list)\n",
    "\n",
    "    # Используем tqdm для отображения прогресса\n",
    "    for idx, block in tqdm(blocks_gdf.iterrows(), total=len(blocks_gdf), desc=\"Processing blocks\"):\n",
    "        # Получаем геометрию квартала\n",
    "        block_geometry = block['geometry']\n",
    "        \n",
    "        # Находим пересечения с геометриями зон\n",
    "        intersecting_zones = PZZ_zoning_gdf[PZZ_zoning_gdf.geometry.intersects(block_geometry)]\n",
    "        \n",
    "        # Если есть пересечения, то собираем все соответствующие теги\n",
    "        if not intersecting_zones.empty:\n",
    "            for _, zone in intersecting_zones.iterrows():\n",
    "                zoning_tag = zone['ZONING_tag']\n",
    "                zoning_dict[idx].append(zoning_tag)\n",
    "    \n",
    "    # Теперь заполняем столбец ZONE в блоках\n",
    "    for idx, zoning_tags in zoning_dict.items():\n",
    "        if len(zoning_tags) == 1:\n",
    "            blocks_gdf.at[idx, 'ZONE'] = zoning_tags[0]\n",
    "        else:\n",
    "            blocks_gdf.at[idx, 'ZONE'] = dict.fromkeys(zoning_tags)  # Записываем как словарь\n",
    "\n",
    "    return blocks_gdf"
   ]
  },
  {
   "cell_type": "code",
   "execution_count": 14,
   "metadata": {},
   "outputs": [
    {
     "name": "stderr",
     "output_type": "stream",
     "text": [
      "c:\\repos\\master-plan-requirements\\.venv\\lib\\site-packages\\geopandas\\geodataframe.py:1528: SettingWithCopyWarning: \n",
      "A value is trying to be set on a copy of a slice from a DataFrame.\n",
      "Try using .loc[row_indexer,col_indexer] = value instead\n",
      "\n",
      "See the caveats in the documentation: https://pandas.pydata.org/pandas-docs/stable/user_guide/indexing.html#returning-a-view-versus-a-copy\n",
      "  super().__setitem__(key, value)\n",
      "Processing blocks:   0%|          | 0/7162 [00:00<?, ?it/s]\n"
     ]
    },
    {
     "ename": "KeyError",
     "evalue": "'ZONING_tag'",
     "output_type": "error",
     "traceback": [
      "\u001b[1;31m---------------------------------------------------------------------------\u001b[0m",
      "\u001b[1;31mKeyError\u001b[0m                                  Traceback (most recent call last)",
      "File \u001b[1;32mc:\\repos\\master-plan-requirements\\.venv\\lib\\site-packages\\pandas\\core\\indexes\\base.py:3805\u001b[0m, in \u001b[0;36mIndex.get_loc\u001b[1;34m(self, key)\u001b[0m\n\u001b[0;32m   3804\u001b[0m \u001b[38;5;28;01mtry\u001b[39;00m:\n\u001b[1;32m-> 3805\u001b[0m     \u001b[38;5;28;01mreturn\u001b[39;00m \u001b[38;5;28;43mself\u001b[39;49m\u001b[38;5;241;43m.\u001b[39;49m\u001b[43m_engine\u001b[49m\u001b[38;5;241;43m.\u001b[39;49m\u001b[43mget_loc\u001b[49m\u001b[43m(\u001b[49m\u001b[43mcasted_key\u001b[49m\u001b[43m)\u001b[49m\n\u001b[0;32m   3806\u001b[0m \u001b[38;5;28;01mexcept\u001b[39;00m \u001b[38;5;167;01mKeyError\u001b[39;00m \u001b[38;5;28;01mas\u001b[39;00m err:\n",
      "File \u001b[1;32mindex.pyx:167\u001b[0m, in \u001b[0;36mpandas._libs.index.IndexEngine.get_loc\u001b[1;34m()\u001b[0m\n",
      "File \u001b[1;32mindex.pyx:196\u001b[0m, in \u001b[0;36mpandas._libs.index.IndexEngine.get_loc\u001b[1;34m()\u001b[0m\n",
      "File \u001b[1;32mpandas\\\\_libs\\\\hashtable_class_helper.pxi:7081\u001b[0m, in \u001b[0;36mpandas._libs.hashtable.PyObjectHashTable.get_item\u001b[1;34m()\u001b[0m\n",
      "File \u001b[1;32mpandas\\\\_libs\\\\hashtable_class_helper.pxi:7089\u001b[0m, in \u001b[0;36mpandas._libs.hashtable.PyObjectHashTable.get_item\u001b[1;34m()\u001b[0m\n",
      "\u001b[1;31mKeyError\u001b[0m: 'ZONING_tag'",
      "\nThe above exception was the direct cause of the following exception:\n",
      "\u001b[1;31mKeyError\u001b[0m                                  Traceback (most recent call last)",
      "Cell \u001b[1;32mIn[14], line 1\u001b[0m\n\u001b[1;32m----> 1\u001b[0m PZZ_blocks \u001b[38;5;241m=\u001b[39m \u001b[43mintersect\u001b[49m\u001b[43m(\u001b[49m\u001b[43mPZZ_zoning_gdf\u001b[49m\u001b[43m,\u001b[49m\u001b[43m \u001b[49m\u001b[43mblocks_gdf\u001b[49m\u001b[43m)\u001b[49m\n",
      "Cell \u001b[1;32mIn[13], line 19\u001b[0m, in \u001b[0;36mintersect\u001b[1;34m(blocks_gdf, PZZ_zoning_gdf)\u001b[0m\n\u001b[0;32m     17\u001b[0m     \u001b[38;5;28;01mif\u001b[39;00m \u001b[38;5;129;01mnot\u001b[39;00m intersecting_zones\u001b[38;5;241m.\u001b[39mempty:\n\u001b[0;32m     18\u001b[0m         \u001b[38;5;28;01mfor\u001b[39;00m _, zone \u001b[38;5;129;01min\u001b[39;00m intersecting_zones\u001b[38;5;241m.\u001b[39miterrows():\n\u001b[1;32m---> 19\u001b[0m             zoning_tag \u001b[38;5;241m=\u001b[39m \u001b[43mzone\u001b[49m\u001b[43m[\u001b[49m\u001b[38;5;124;43m'\u001b[39;49m\u001b[38;5;124;43mZONING_tag\u001b[39;49m\u001b[38;5;124;43m'\u001b[39;49m\u001b[43m]\u001b[49m\n\u001b[0;32m     20\u001b[0m             zoning_dict[idx]\u001b[38;5;241m.\u001b[39mappend(zoning_tag)\n\u001b[0;32m     22\u001b[0m \u001b[38;5;66;03m# Теперь заполняем столбец ZONE в блоках\u001b[39;00m\n",
      "File \u001b[1;32mc:\\repos\\master-plan-requirements\\.venv\\lib\\site-packages\\pandas\\core\\series.py:1121\u001b[0m, in \u001b[0;36mSeries.__getitem__\u001b[1;34m(self, key)\u001b[0m\n\u001b[0;32m   1118\u001b[0m     \u001b[38;5;28;01mreturn\u001b[39;00m \u001b[38;5;28mself\u001b[39m\u001b[38;5;241m.\u001b[39m_values[key]\n\u001b[0;32m   1120\u001b[0m \u001b[38;5;28;01melif\u001b[39;00m key_is_scalar:\n\u001b[1;32m-> 1121\u001b[0m     \u001b[38;5;28;01mreturn\u001b[39;00m \u001b[38;5;28;43mself\u001b[39;49m\u001b[38;5;241;43m.\u001b[39;49m\u001b[43m_get_value\u001b[49m\u001b[43m(\u001b[49m\u001b[43mkey\u001b[49m\u001b[43m)\u001b[49m\n\u001b[0;32m   1123\u001b[0m \u001b[38;5;66;03m# Convert generator to list before going through hashable part\u001b[39;00m\n\u001b[0;32m   1124\u001b[0m \u001b[38;5;66;03m# (We will iterate through the generator there to check for slices)\u001b[39;00m\n\u001b[0;32m   1125\u001b[0m \u001b[38;5;28;01mif\u001b[39;00m is_iterator(key):\n",
      "File \u001b[1;32mc:\\repos\\master-plan-requirements\\.venv\\lib\\site-packages\\pandas\\core\\series.py:1237\u001b[0m, in \u001b[0;36mSeries._get_value\u001b[1;34m(self, label, takeable)\u001b[0m\n\u001b[0;32m   1234\u001b[0m     \u001b[38;5;28;01mreturn\u001b[39;00m \u001b[38;5;28mself\u001b[39m\u001b[38;5;241m.\u001b[39m_values[label]\n\u001b[0;32m   1236\u001b[0m \u001b[38;5;66;03m# Similar to Index.get_value, but we do not fall back to positional\u001b[39;00m\n\u001b[1;32m-> 1237\u001b[0m loc \u001b[38;5;241m=\u001b[39m \u001b[38;5;28;43mself\u001b[39;49m\u001b[38;5;241;43m.\u001b[39;49m\u001b[43mindex\u001b[49m\u001b[38;5;241;43m.\u001b[39;49m\u001b[43mget_loc\u001b[49m\u001b[43m(\u001b[49m\u001b[43mlabel\u001b[49m\u001b[43m)\u001b[49m\n\u001b[0;32m   1239\u001b[0m \u001b[38;5;28;01mif\u001b[39;00m is_integer(loc):\n\u001b[0;32m   1240\u001b[0m     \u001b[38;5;28;01mreturn\u001b[39;00m \u001b[38;5;28mself\u001b[39m\u001b[38;5;241m.\u001b[39m_values[loc]\n",
      "File \u001b[1;32mc:\\repos\\master-plan-requirements\\.venv\\lib\\site-packages\\pandas\\core\\indexes\\base.py:3812\u001b[0m, in \u001b[0;36mIndex.get_loc\u001b[1;34m(self, key)\u001b[0m\n\u001b[0;32m   3807\u001b[0m     \u001b[38;5;28;01mif\u001b[39;00m \u001b[38;5;28misinstance\u001b[39m(casted_key, \u001b[38;5;28mslice\u001b[39m) \u001b[38;5;129;01mor\u001b[39;00m (\n\u001b[0;32m   3808\u001b[0m         \u001b[38;5;28misinstance\u001b[39m(casted_key, abc\u001b[38;5;241m.\u001b[39mIterable)\n\u001b[0;32m   3809\u001b[0m         \u001b[38;5;129;01mand\u001b[39;00m \u001b[38;5;28many\u001b[39m(\u001b[38;5;28misinstance\u001b[39m(x, \u001b[38;5;28mslice\u001b[39m) \u001b[38;5;28;01mfor\u001b[39;00m x \u001b[38;5;129;01min\u001b[39;00m casted_key)\n\u001b[0;32m   3810\u001b[0m     ):\n\u001b[0;32m   3811\u001b[0m         \u001b[38;5;28;01mraise\u001b[39;00m InvalidIndexError(key)\n\u001b[1;32m-> 3812\u001b[0m     \u001b[38;5;28;01mraise\u001b[39;00m \u001b[38;5;167;01mKeyError\u001b[39;00m(key) \u001b[38;5;28;01mfrom\u001b[39;00m \u001b[38;5;21;01merr\u001b[39;00m\n\u001b[0;32m   3813\u001b[0m \u001b[38;5;28;01mexcept\u001b[39;00m \u001b[38;5;167;01mTypeError\u001b[39;00m:\n\u001b[0;32m   3814\u001b[0m     \u001b[38;5;66;03m# If we have a listlike key, _check_indexing_error will raise\u001b[39;00m\n\u001b[0;32m   3815\u001b[0m     \u001b[38;5;66;03m#  InvalidIndexError. Otherwise we fall through and re-raise\u001b[39;00m\n\u001b[0;32m   3816\u001b[0m     \u001b[38;5;66;03m#  the TypeError.\u001b[39;00m\n\u001b[0;32m   3817\u001b[0m     \u001b[38;5;28mself\u001b[39m\u001b[38;5;241m.\u001b[39m_check_indexing_error(key)\n",
      "\u001b[1;31mKeyError\u001b[0m: 'ZONING_tag'"
     ]
    }
   ],
   "source": [
    "PZZ_blocks = intersect(PZZ_zoning_gdf, blocks_gdf)"
   ]
  },
  {
   "cell_type": "code",
   "execution_count": null,
   "metadata": {},
   "outputs": [],
   "source": [
    "PZZ_blocks"
   ]
  },
  {
   "cell_type": "markdown",
   "metadata": {},
   "source": [
    "рассчитать процент пересеяения зон для ТЭП "
   ]
  },
  {
   "cell_type": "code",
   "execution_count": 2,
   "metadata": {},
   "outputs": [],
   "source": [
    "from my_package.models import Tag, Group, GROUPS_TAGS"
   ]
  },
  {
   "cell_type": "code",
   "execution_count": 3,
   "metadata": {},
   "outputs": [
    {
     "data": {
      "text/plain": [
       "<Group.FUNCTIONAL_ZONE: 'Функциональная зона'>"
      ]
     },
     "execution_count": 3,
     "metadata": {},
     "output_type": "execute_result"
    }
   ],
   "source": [
    "Group.FUNCTIONAL_ZONE"
   ]
  }
 ],
 "metadata": {
  "kernelspec": {
   "display_name": ".venv",
   "language": "python",
   "name": "python3"
  },
  "language_info": {
   "codemirror_mode": {
    "name": "ipython",
    "version": 3
   },
   "file_extension": ".py",
   "mimetype": "text/x-python",
   "name": "python",
   "nbconvert_exporter": "python",
   "pygments_lexer": "ipython3",
   "version": "3.10.6"
  }
 },
 "nbformat": 4,
 "nbformat_minor": 2
}
