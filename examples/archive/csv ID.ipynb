{
 "cells": [
  {
   "cell_type": "code",
   "execution_count": 4,
   "metadata": {},
   "outputs": [],
   "source": [
    "import pandas as pd"
   ]
  },
  {
   "cell_type": "code",
   "execution_count": 12,
   "metadata": {},
   "outputs": [
    {
     "name": "stdout",
     "output_type": "stream",
     "text": [
      "Столбец 'ID' добавлен и файл сохранён как 'spatial_gdf_with_id.csv'.\n"
     ]
    }
   ],
   "source": [
    "# Загружаем CSV файл в DataFrame\n",
    "spatial_gdf = pd.read_csv('spatial_gdf.csv')\n",
    "\n",
    "# Добавляем новый столбец 'ID' с последовательными числами, начиная с 1\n",
    "spatial_gdf['ID'] = range(1, len(spatial_gdf) + 1)\n",
    "\n",
    "# Сохраняем изменённый DataFrame обратно в CSV файл\n",
    "spatial_gdf.to_csv('spatial_gdf_with_id.csv', index=False)\n",
    "\n",
    "print(\"Столбец 'ID' добавлен и файл сохранён как 'spatial_gdf_with_id.csv'.\")"
   ]
  }
 ],
 "metadata": {
  "kernelspec": {
   "display_name": ".venv",
   "language": "python",
   "name": "python3"
  },
  "language_info": {
   "codemirror_mode": {
    "name": "ipython",
    "version": 3
   },
   "file_extension": ".py",
   "mimetype": "text/x-python",
   "name": "python",
   "nbconvert_exporter": "python",
   "pygments_lexer": "ipython3",
   "version": "3.10.6"
  }
 },
 "nbformat": 4,
 "nbformat_minor": 2
}
