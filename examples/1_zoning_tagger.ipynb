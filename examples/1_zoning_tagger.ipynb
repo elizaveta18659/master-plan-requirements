{
 "cells": [
  {
   "cell_type": "markdown",
   "metadata": {},
   "source": [
    "# Zoning tagger"
   ]
  },
  {
   "cell_type": "code",
   "execution_count": 33,
   "metadata": {},
   "outputs": [],
   "source": [
    "import geopandas as gpd\n",
    "from enum import Enum\n",
    "import sys\n",
    "from pathlib import Path\n",
    "import plotly.graph_objects as go\n",
    "\n",
    "# Добавляем путь к папке my_package в sys.path\n",
    "project_path = Path(\"C:/repos/master-plan-requirements\")\n",
    "sys.path.append(str(project_path))"
   ]
  },
  {
   "cell_type": "markdown",
   "metadata": {},
   "source": [
    "## PZZ data"
   ]
  },
  {
   "cell_type": "markdown",
   "metadata": {},
   "source": [
    "ОПРЕДЛЕНИЕ ЗОНИРОВАНИЯ КВАРТАЛОВ"
   ]
  },
  {
   "cell_type": "code",
   "execution_count": 2,
   "metadata": {},
   "outputs": [
    {
     "data": {
      "text/html": [
       "<div>\n",
       "<style scoped>\n",
       "    .dataframe tbody tr th:only-of-type {\n",
       "        vertical-align: middle;\n",
       "    }\n",
       "\n",
       "    .dataframe tbody tr th {\n",
       "        vertical-align: top;\n",
       "    }\n",
       "\n",
       "    .dataframe thead th {\n",
       "        text-align: right;\n",
       "    }\n",
       "</style>\n",
       "<table border=\"1\" class=\"dataframe\">\n",
       "  <thead>\n",
       "    <tr style=\"text-align: right;\">\n",
       "      <th></th>\n",
       "      <th>Зона</th>\n",
       "      <th>geometry</th>\n",
       "    </tr>\n",
       "  </thead>\n",
       "  <tbody>\n",
       "    <tr>\n",
       "      <th>0</th>\n",
       "      <td>ТПД2_2/Т1Ж1</td>\n",
       "      <td>POLYGON ((3350357.896 8404319.308, 3350391.347...</td>\n",
       "    </tr>\n",
       "    <tr>\n",
       "      <th>1</th>\n",
       "      <td>ТПД2_2/Т1Ж1</td>\n",
       "      <td>POLYGON ((3350357.383 8404317.109, 3350357.632...</td>\n",
       "    </tr>\n",
       "    <tr>\n",
       "      <th>2</th>\n",
       "      <td>ТД1-1_1</td>\n",
       "      <td>POLYGON ((3373712.579 8385251.612, 3373743.594...</td>\n",
       "    </tr>\n",
       "    <tr>\n",
       "      <th>3</th>\n",
       "      <td>ТД2_1</td>\n",
       "      <td>POLYGON ((3373939.959 8384632.388, 3373939.901...</td>\n",
       "    </tr>\n",
       "    <tr>\n",
       "      <th>4</th>\n",
       "      <td>ТД2_1</td>\n",
       "      <td>POLYGON ((3373827.838 8384502.448, 3373823.108...</td>\n",
       "    </tr>\n",
       "  </tbody>\n",
       "</table>\n",
       "</div>"
      ],
      "text/plain": [
       "          Зона                                           geometry\n",
       "0  ТПД2_2/Т1Ж1  POLYGON ((3350357.896 8404319.308, 3350391.347...\n",
       "1  ТПД2_2/Т1Ж1  POLYGON ((3350357.383 8404317.109, 3350357.632...\n",
       "2      ТД1-1_1  POLYGON ((3373712.579 8385251.612, 3373743.594...\n",
       "3        ТД2_1  POLYGON ((3373939.959 8384632.388, 3373939.901...\n",
       "4        ТД2_1  POLYGON ((3373827.838 8384502.448, 3373823.108..."
      ]
     },
     "execution_count": 2,
     "metadata": {},
     "output_type": "execute_result"
    }
   ],
   "source": [
    "# загружаем подготовленный слой\n",
    "pzz_gdf = gpd.read_file('./data/pzz_gdf.geojson')\n",
    "pzz_gdf.head()"
   ]
  },
  {
   "cell_type": "code",
   "execution_count": 3,
   "metadata": {},
   "outputs": [],
   "source": [
    "# Импортируем теггер зонирования\n",
    "from my_package.methods.zoning_tagger_1 import ZoneTagger\n",
    "from my_package.models.tag import Tag"
   ]
  },
  {
   "cell_type": "code",
   "execution_count": 4,
   "metadata": {},
   "outputs": [
    {
     "name": "stderr",
     "output_type": "stream",
     "text": [
      "\u001b[32m2025-04-09 21:25:02.916\u001b[0m | \u001b[1mINFO    \u001b[0m | \u001b[36mmy_package.methods.zoning_tagger_1\u001b[0m:\u001b[36mrun\u001b[0m:\u001b[36m59\u001b[0m - \u001b[1mAssigning zoning tags from column 'Зона'\u001b[0m\n",
      "\u001b[32m2025-04-09 21:25:02.923\u001b[0m | \u001b[1mINFO    \u001b[0m | \u001b[36mmy_package.methods.zoning_tagger_1\u001b[0m:\u001b[36mrun\u001b[0m:\u001b[36m68\u001b[0m - \u001b[1mRemoved 126 geometries without zoning tag\u001b[0m\n",
      "\u001b[32m2025-04-09 21:25:02.924\u001b[0m | \u001b[32m\u001b[1mSUCCESS \u001b[0m | \u001b[36mmy_package.methods.zoning_tagger_1\u001b[0m:\u001b[36mrun\u001b[0m:\u001b[36m74\u001b[0m - \u001b[32m\u001b[1mZoning tags assigned\u001b[0m\n"
     ]
    }
   ],
   "source": [
    "tagger = ZoneTagger(pzz_gdf)\n",
    "zoning_tag = tagger.run()"
   ]
  },
  {
   "cell_type": "markdown",
   "metadata": {},
   "source": [
    "РАСЧЕТ ПЕРЕХОДА ЗОН"
   ]
  },
  {
   "cell_type": "code",
   "execution_count": 5,
   "metadata": {},
   "outputs": [],
   "source": [
    "# Импортируем матрицу и теги\n",
    "from my_package.models.transition_matrix import TRANSITION_MATRIX\n",
    "from my_package.models.tag import Tag"
   ]
  },
  {
   "cell_type": "code",
   "execution_count": 6,
   "metadata": {},
   "outputs": [
    {
     "data": {
      "application/vnd.microsoft.datawrangler.viewer.v0+json": {
       "columns": [
        {
         "name": "index",
         "rawType": "object",
         "type": "unknown"
        },
        {
         "name": "Tag.RESIDENTIAL",
         "rawType": "float64",
         "type": "float"
        },
        {
         "name": "Tag.PUBLIC_AND_BUSINESS",
         "rawType": "float64",
         "type": "float"
        },
        {
         "name": "Tag.INDUSTRIAL",
         "rawType": "float64",
         "type": "float"
        },
        {
         "name": "Tag.ENGINEERING_AND_TRANSPORTATION",
         "rawType": "float64",
         "type": "float"
        },
        {
         "name": "Tag.RECREATIONAL",
         "rawType": "float64",
         "type": "float"
        },
        {
         "name": "Tag.AGRICULTURAL",
         "rawType": "float64",
         "type": "float"
        },
        {
         "name": "Tag.SPECIAL_PURPOSE",
         "rawType": "float64",
         "type": "float"
        }
       ],
       "conversionMethod": "pd.DataFrame",
       "ref": "2873af8a-71ab-49df-82d1-7986f334af23",
       "rows": [
        [
         "Tag.RESIDENTIAL",
         "1.0",
         "0.573",
         "0.2759",
         "0.4",
         "0.4898",
         "0.377",
         "0.2105"
        ],
        [
         "Tag.PUBLIC_AND_BUSINESS",
         "0.7612",
         "1.0",
         "0.5517",
         "0.5556",
         "0.8163",
         "0.4262",
         "0.3158"
        ],
        [
         "Tag.INDUSTRIAL",
         "0.2388",
         "0.3596",
         "1.0",
         "0.7333",
         "0.2041",
         "0.4754",
         "0.4211"
        ],
        [
         "Tag.ENGINEERING_AND_TRANSPORTATION",
         "0.2687",
         "0.2809",
         "0.569",
         "1.0",
         "0.1633",
         "0.2459",
         "0.4737"
        ],
        [
         "Tag.RECREATIONAL",
         "0.3582",
         "0.4494",
         "0.1724",
         "0.1778",
         "1.0",
         "0.2459",
         "0.1579"
        ],
        [
         "Tag.AGRICULTURAL",
         "0.3433",
         "0.2921",
         "0.5",
         "0.3333",
         "0.3061",
         "1.0",
         "0.3158"
        ],
        [
         "Tag.SPECIAL_PURPOSE",
         "0.0597",
         "0.0674",
         "0.1379",
         "0.2",
         "0.0612",
         "0.0984",
         "1.0"
        ]
       ],
       "shape": {
        "columns": 7,
        "rows": 7
       }
      },
      "text/html": [
       "<div>\n",
       "<style scoped>\n",
       "    .dataframe tbody tr th:only-of-type {\n",
       "        vertical-align: middle;\n",
       "    }\n",
       "\n",
       "    .dataframe tbody tr th {\n",
       "        vertical-align: top;\n",
       "    }\n",
       "\n",
       "    .dataframe thead th {\n",
       "        text-align: right;\n",
       "    }\n",
       "</style>\n",
       "<table border=\"1\" class=\"dataframe\">\n",
       "  <thead>\n",
       "    <tr style=\"text-align: right;\">\n",
       "      <th></th>\n",
       "      <th>Tag.RESIDENTIAL</th>\n",
       "      <th>Tag.PUBLIC_AND_BUSINESS</th>\n",
       "      <th>Tag.INDUSTRIAL</th>\n",
       "      <th>Tag.ENGINEERING_AND_TRANSPORTATION</th>\n",
       "      <th>Tag.RECREATIONAL</th>\n",
       "      <th>Tag.AGRICULTURAL</th>\n",
       "      <th>Tag.SPECIAL_PURPOSE</th>\n",
       "    </tr>\n",
       "  </thead>\n",
       "  <tbody>\n",
       "    <tr>\n",
       "      <th>Tag.RESIDENTIAL</th>\n",
       "      <td>1.0000</td>\n",
       "      <td>0.5730</td>\n",
       "      <td>0.2759</td>\n",
       "      <td>0.4000</td>\n",
       "      <td>0.4898</td>\n",
       "      <td>0.3770</td>\n",
       "      <td>0.2105</td>\n",
       "    </tr>\n",
       "    <tr>\n",
       "      <th>Tag.PUBLIC_AND_BUSINESS</th>\n",
       "      <td>0.7612</td>\n",
       "      <td>1.0000</td>\n",
       "      <td>0.5517</td>\n",
       "      <td>0.5556</td>\n",
       "      <td>0.8163</td>\n",
       "      <td>0.4262</td>\n",
       "      <td>0.3158</td>\n",
       "    </tr>\n",
       "    <tr>\n",
       "      <th>Tag.INDUSTRIAL</th>\n",
       "      <td>0.2388</td>\n",
       "      <td>0.3596</td>\n",
       "      <td>1.0000</td>\n",
       "      <td>0.7333</td>\n",
       "      <td>0.2041</td>\n",
       "      <td>0.4754</td>\n",
       "      <td>0.4211</td>\n",
       "    </tr>\n",
       "    <tr>\n",
       "      <th>Tag.ENGINEERING_AND_TRANSPORTATION</th>\n",
       "      <td>0.2687</td>\n",
       "      <td>0.2809</td>\n",
       "      <td>0.5690</td>\n",
       "      <td>1.0000</td>\n",
       "      <td>0.1633</td>\n",
       "      <td>0.2459</td>\n",
       "      <td>0.4737</td>\n",
       "    </tr>\n",
       "    <tr>\n",
       "      <th>Tag.RECREATIONAL</th>\n",
       "      <td>0.3582</td>\n",
       "      <td>0.4494</td>\n",
       "      <td>0.1724</td>\n",
       "      <td>0.1778</td>\n",
       "      <td>1.0000</td>\n",
       "      <td>0.2459</td>\n",
       "      <td>0.1579</td>\n",
       "    </tr>\n",
       "    <tr>\n",
       "      <th>Tag.AGRICULTURAL</th>\n",
       "      <td>0.3433</td>\n",
       "      <td>0.2921</td>\n",
       "      <td>0.5000</td>\n",
       "      <td>0.3333</td>\n",
       "      <td>0.3061</td>\n",
       "      <td>1.0000</td>\n",
       "      <td>0.3158</td>\n",
       "    </tr>\n",
       "    <tr>\n",
       "      <th>Tag.SPECIAL_PURPOSE</th>\n",
       "      <td>0.0597</td>\n",
       "      <td>0.0674</td>\n",
       "      <td>0.1379</td>\n",
       "      <td>0.2000</td>\n",
       "      <td>0.0612</td>\n",
       "      <td>0.0984</td>\n",
       "      <td>1.0000</td>\n",
       "    </tr>\n",
       "  </tbody>\n",
       "</table>\n",
       "</div>"
      ],
      "text/plain": [
       "                                    Tag.RESIDENTIAL  Tag.PUBLIC_AND_BUSINESS  \\\n",
       "Tag.RESIDENTIAL                              1.0000                   0.5730   \n",
       "Tag.PUBLIC_AND_BUSINESS                      0.7612                   1.0000   \n",
       "Tag.INDUSTRIAL                               0.2388                   0.3596   \n",
       "Tag.ENGINEERING_AND_TRANSPORTATION           0.2687                   0.2809   \n",
       "Tag.RECREATIONAL                             0.3582                   0.4494   \n",
       "Tag.AGRICULTURAL                             0.3433                   0.2921   \n",
       "Tag.SPECIAL_PURPOSE                          0.0597                   0.0674   \n",
       "\n",
       "                                    Tag.INDUSTRIAL  \\\n",
       "Tag.RESIDENTIAL                             0.2759   \n",
       "Tag.PUBLIC_AND_BUSINESS                     0.5517   \n",
       "Tag.INDUSTRIAL                              1.0000   \n",
       "Tag.ENGINEERING_AND_TRANSPORTATION          0.5690   \n",
       "Tag.RECREATIONAL                            0.1724   \n",
       "Tag.AGRICULTURAL                            0.5000   \n",
       "Tag.SPECIAL_PURPOSE                         0.1379   \n",
       "\n",
       "                                    Tag.ENGINEERING_AND_TRANSPORTATION  \\\n",
       "Tag.RESIDENTIAL                                                 0.4000   \n",
       "Tag.PUBLIC_AND_BUSINESS                                         0.5556   \n",
       "Tag.INDUSTRIAL                                                  0.7333   \n",
       "Tag.ENGINEERING_AND_TRANSPORTATION                              1.0000   \n",
       "Tag.RECREATIONAL                                                0.1778   \n",
       "Tag.AGRICULTURAL                                                0.3333   \n",
       "Tag.SPECIAL_PURPOSE                                             0.2000   \n",
       "\n",
       "                                    Tag.RECREATIONAL  Tag.AGRICULTURAL  \\\n",
       "Tag.RESIDENTIAL                               0.4898            0.3770   \n",
       "Tag.PUBLIC_AND_BUSINESS                       0.8163            0.4262   \n",
       "Tag.INDUSTRIAL                                0.2041            0.4754   \n",
       "Tag.ENGINEERING_AND_TRANSPORTATION            0.1633            0.2459   \n",
       "Tag.RECREATIONAL                              1.0000            0.2459   \n",
       "Tag.AGRICULTURAL                              0.3061            1.0000   \n",
       "Tag.SPECIAL_PURPOSE                           0.0612            0.0984   \n",
       "\n",
       "                                    Tag.SPECIAL_PURPOSE  \n",
       "Tag.RESIDENTIAL                                  0.2105  \n",
       "Tag.PUBLIC_AND_BUSINESS                          0.3158  \n",
       "Tag.INDUSTRIAL                                   0.4211  \n",
       "Tag.ENGINEERING_AND_TRANSPORTATION               0.4737  \n",
       "Tag.RECREATIONAL                                 0.1579  \n",
       "Tag.AGRICULTURAL                                 0.3158  \n",
       "Tag.SPECIAL_PURPOSE                              1.0000  "
      ]
     },
     "execution_count": 6,
     "metadata": {},
     "output_type": "execute_result"
    }
   ],
   "source": [
    "TRANSITION_MATRIX"
   ]
  },
  {
   "cell_type": "code",
   "execution_count": 7,
   "metadata": {},
   "outputs": [
    {
     "name": "stderr",
     "output_type": "stream",
     "text": [
      "\u001b[32m2025-04-09 21:25:07.309\u001b[0m | \u001b[1mINFO    \u001b[0m | \u001b[36mmy_package.methods.get_transition\u001b[0m:\u001b[36mTRANSITION_RESULT\u001b[0m:\u001b[36m51\u001b[0m - \u001b[1mFixing geometry...\u001b[0m\n",
      "\u001b[32m2025-04-09 21:25:07.542\u001b[0m | \u001b[1mINFO    \u001b[0m | \u001b[36mmy_package.methods.get_transition\u001b[0m:\u001b[36mTRANSITION_RESULT\u001b[0m:\u001b[36m58\u001b[0m - \u001b[1mCreating transition columns...\u001b[0m\n",
      "\u001b[32m2025-04-09 21:25:07.792\u001b[0m | \u001b[1mINFO    \u001b[0m | \u001b[36mmy_package.methods.get_transition\u001b[0m:\u001b[36mTRANSITION_RESULT\u001b[0m:\u001b[36m65\u001b[0m - \u001b[1mBuffering geometry to find neighbors...\u001b[0m\n",
      "\u001b[32m2025-04-09 21:25:10.046\u001b[0m | \u001b[1mINFO    \u001b[0m | \u001b[36mmy_package.methods.get_transition\u001b[0m:\u001b[36mTRANSITION_RESULT\u001b[0m:\u001b[36m69\u001b[0m - \u001b[1mComputing transition values using neighbors...\u001b[0m\n",
      "\u001b[32m2025-04-09 21:25:22.889\u001b[0m | \u001b[1mINFO    \u001b[0m | \u001b[36mmy_package.methods.get_transition\u001b[0m:\u001b[36mTRANSITION_RESULT\u001b[0m:\u001b[36m75\u001b[0m - \u001b[1mUpdating transition columns with neighborhood-adjusted values...\u001b[0m\n",
      "\u001b[32m2025-04-09 21:25:22.899\u001b[0m | \u001b[1mINFO    \u001b[0m | \u001b[36mmy_package.methods.get_transition\u001b[0m:\u001b[36mTRANSITION_RESULT\u001b[0m:\u001b[36m83\u001b[0m - \u001b[1mNormalizing and rounding transition values...\u001b[0m\n",
      "\u001b[32m2025-04-09 21:25:23.597\u001b[0m | \u001b[32m\u001b[1mSUCCESS \u001b[0m | \u001b[36mmy_package.methods.get_transition\u001b[0m:\u001b[36mTRANSITION_RESULT\u001b[0m:\u001b[36m88\u001b[0m - \u001b[32m\u001b[1mTransition matrix computation complete.\u001b[0m\n"
     ]
    }
   ],
   "source": [
    "from my_package.methods.get_transition import TRANSITION_RESULT\n",
    "zoning_tag = TRANSITION_RESULT(zoning_tag)"
   ]
  },
  {
   "cell_type": "markdown",
   "metadata": {},
   "source": [
    "РАСЧЕТ ТЕХНИКО-ЭКОНОМИЧЕСКИХ ПОКАЗАТЕЛЕЙ"
   ]
  },
  {
   "cell_type": "code",
   "execution_count": 10,
   "metadata": {},
   "outputs": [
    {
     "name": "stderr",
     "output_type": "stream",
     "text": [
      "\u001b[32m2025-04-09 21:27:00.739\u001b[0m | \u001b[1mINFO    \u001b[0m | \u001b[36mmy_package.methods.get_TEP\u001b[0m:\u001b[36mTEP_RESULT\u001b[0m:\u001b[36m10\u001b[0m - \u001b[1mFixing geometry...\u001b[0m\n",
      "\u001b[32m2025-04-09 21:27:00.973\u001b[0m | \u001b[1mINFO    \u001b[0m | \u001b[36mmy_package.methods.get_TEP\u001b[0m:\u001b[36mTEP_RESULT\u001b[0m:\u001b[36m17\u001b[0m - \u001b[1mCalculating area for each block...\u001b[0m\n",
      "\u001b[32m2025-04-09 21:27:00.978\u001b[0m | \u001b[1mINFO    \u001b[0m | \u001b[36mmy_package.methods.get_TEP\u001b[0m:\u001b[36mTEP_RESULT\u001b[0m:\u001b[36m21\u001b[0m - \u001b[1mCalculating total city area...\u001b[0m\n",
      "\u001b[32m2025-04-09 21:27:00.978\u001b[0m | \u001b[1mINFO    \u001b[0m | \u001b[36mmy_package.methods.get_TEP\u001b[0m:\u001b[36mTEP_RESULT\u001b[0m:\u001b[36m25\u001b[0m - \u001b[1mCalculating total area for each zoning tag...\u001b[0m\n",
      "\u001b[32m2025-04-09 21:27:00.986\u001b[0m | \u001b[1mINFO    \u001b[0m | \u001b[36mmy_package.methods.get_TEP\u001b[0m:\u001b[36mTEP_RESULT\u001b[0m:\u001b[36m30\u001b[0m - \u001b[1mComputing block area as percentage of city...\u001b[0m\n",
      "\u001b[32m2025-04-09 21:27:00.986\u001b[0m | \u001b[1mINFO    \u001b[0m | \u001b[36mmy_package.methods.get_TEP\u001b[0m:\u001b[36mTEP_RESULT\u001b[0m:\u001b[36m34\u001b[0m - \u001b[1mComputing block area as percentage of its zone...\u001b[0m\n",
      "\u001b[32m2025-04-09 21:27:01.024\u001b[0m | \u001b[32m\u001b[1mSUCCESS \u001b[0m | \u001b[36mmy_package.methods.get_TEP\u001b[0m:\u001b[36mTEP_RESULT\u001b[0m:\u001b[36m44\u001b[0m - \u001b[32m\u001b[1mTEP indicators successfully calculated.\u001b[0m\n"
     ]
    }
   ],
   "source": [
    "from my_package.methods.get_TEP import TEP_RESULT\n",
    "zoning_tag = TEP_RESULT(zoning_tag)"
   ]
  },
  {
   "cell_type": "code",
   "execution_count": 14,
   "metadata": {},
   "outputs": [
    {
     "name": "stdout",
     "output_type": "stream",
     "text": [
      "Общая площадь города: 5034.54 км²\n",
      "Площадь зон:\n",
      "Tag.AGRICULTURAL: 335.81 км²\n",
      "Tag.ENGINEERING_AND_TRANSPORTATION: 817.66 км²\n",
      "Tag.INDUSTRIAL: 154.37 км²\n",
      "Tag.PUBLIC_AND_BUSINESS: 464.78 км²\n",
      "Tag.RECREATIONAL: 1810.93 км²\n",
      "Tag.RESIDENTIAL: 1334.78 км²\n",
      "Tag.SPECIAL_PURPOSE: 116.22 км²\n"
     ]
    }
   ],
   "source": [
    "# Общая площадь города\n",
    "total_city_area = zoning_tag['area'].sum()\n",
    "\n",
    "# Площадь каждой зоны (группировка по строковому представлению zoning_tag)\n",
    "zone_areas = zoning_tag.groupby(zoning_tag['zoning_tag'].astype(str))['area'].sum().to_dict()\n",
    "\n",
    "# Вывод общей площади города\n",
    "print(f\"Общая площадь города: {total_city_area / 1_000_000:.2f} км²\")\n",
    "\n",
    "# Вывод площадей зон\n",
    "zone_areas_str = \"\\n\".join([f\"{zone}: {area / 1_000_000:.2f} км²\" for zone, area in zone_areas.items()])\n",
    "print(f\"Площадь зон:\\n{zone_areas_str}\")"
   ]
  },
  {
   "cell_type": "code",
   "execution_count": 34,
   "metadata": {},
   "outputs": [],
   "source": [
    "# Преобразуем значения из м² в км² и округляем\n",
    "zone_areas_km2 = {zone: round(area / 1_000_000, 2) for zone, area in zone_areas.items()}"
   ]
  },
  {
   "cell_type": "code",
   "execution_count": 37,
   "metadata": {},
   "outputs": [],
   "source": [
    "from my_package.models.tag import Tag\n",
    "\n",
    "# Преобразуем строковые ключи 'Tag.RESIDENTIAL' → Tag.RESIDENTIAL → 'Жилая зона'\n",
    "zone_labels = [\n",
    "    Tag[key.split('.')[-1]].value if key.split('.')[-1] in Tag.__members__ else key\n",
    "    for key in zone_areas.keys()\n",
    "]\n",
    "zone_values = list(zone_areas.values())\n",
    "\n",
    "# Значения в км² и проценты\n",
    "zone_values_km2 = [round(value / 1_000_000, 2) for value in zone_areas.values()]\n",
    "zone_percentages = [(value / total_city_area) * 100 for value in zone_areas.values()]"
   ]
  },
  {
   "cell_type": "code",
   "execution_count": 38,
   "metadata": {},
   "outputs": [
    {
     "data": {
      "application/vnd.plotly.v1+json": {
       "config": {
        "plotlyServerURL": "https://plot.ly"
       },
       "data": [
        {
         "hole": 0.4,
         "hoverinfo": "text",
         "hovertext": [
          "Сельскохозяйсвенного использования: 335.81 км² (6.7%)",
          "Инженерная и транспортная инфраструктура: 817.66 км² (16.2%)",
          "Производственная: 154.37 км² (3.1%)",
          "Общественно-деловая: 464.78 км² (9.2%)",
          "Рекреационная: 1810.93 км² (36.0%)",
          "Жилая зона: 1334.78 км² (26.5%)",
          "Специального назначения: 116.22 км² (2.3%)"
         ],
         "labels": [
          "Сельскохозяйсвенного использования",
          "Инженерная и транспортная инфраструктура",
          "Производственная",
          "Общественно-деловая",
          "Рекреационная",
          "Жилая зона",
          "Специального назначения"
         ],
         "textinfo": "none",
         "type": "pie",
         "values": [
          335.81,
          817.66,
          154.37,
          464.78,
          1810.93,
          1334.78,
          116.22
         ]
        }
       ],
       "layout": {
        "template": {
         "data": {
          "bar": [
           {
            "error_x": {
             "color": "#2a3f5f"
            },
            "error_y": {
             "color": "#2a3f5f"
            },
            "marker": {
             "line": {
              "color": "#E5ECF6",
              "width": 0.5
             },
             "pattern": {
              "fillmode": "overlay",
              "size": 10,
              "solidity": 0.2
             }
            },
            "type": "bar"
           }
          ],
          "barpolar": [
           {
            "marker": {
             "line": {
              "color": "#E5ECF6",
              "width": 0.5
             },
             "pattern": {
              "fillmode": "overlay",
              "size": 10,
              "solidity": 0.2
             }
            },
            "type": "barpolar"
           }
          ],
          "carpet": [
           {
            "aaxis": {
             "endlinecolor": "#2a3f5f",
             "gridcolor": "white",
             "linecolor": "white",
             "minorgridcolor": "white",
             "startlinecolor": "#2a3f5f"
            },
            "baxis": {
             "endlinecolor": "#2a3f5f",
             "gridcolor": "white",
             "linecolor": "white",
             "minorgridcolor": "white",
             "startlinecolor": "#2a3f5f"
            },
            "type": "carpet"
           }
          ],
          "choropleth": [
           {
            "colorbar": {
             "outlinewidth": 0,
             "ticks": ""
            },
            "type": "choropleth"
           }
          ],
          "contour": [
           {
            "colorbar": {
             "outlinewidth": 0,
             "ticks": ""
            },
            "colorscale": [
             [
              0,
              "#0d0887"
             ],
             [
              0.1111111111111111,
              "#46039f"
             ],
             [
              0.2222222222222222,
              "#7201a8"
             ],
             [
              0.3333333333333333,
              "#9c179e"
             ],
             [
              0.4444444444444444,
              "#bd3786"
             ],
             [
              0.5555555555555556,
              "#d8576b"
             ],
             [
              0.6666666666666666,
              "#ed7953"
             ],
             [
              0.7777777777777778,
              "#fb9f3a"
             ],
             [
              0.8888888888888888,
              "#fdca26"
             ],
             [
              1,
              "#f0f921"
             ]
            ],
            "type": "contour"
           }
          ],
          "contourcarpet": [
           {
            "colorbar": {
             "outlinewidth": 0,
             "ticks": ""
            },
            "type": "contourcarpet"
           }
          ],
          "heatmap": [
           {
            "colorbar": {
             "outlinewidth": 0,
             "ticks": ""
            },
            "colorscale": [
             [
              0,
              "#0d0887"
             ],
             [
              0.1111111111111111,
              "#46039f"
             ],
             [
              0.2222222222222222,
              "#7201a8"
             ],
             [
              0.3333333333333333,
              "#9c179e"
             ],
             [
              0.4444444444444444,
              "#bd3786"
             ],
             [
              0.5555555555555556,
              "#d8576b"
             ],
             [
              0.6666666666666666,
              "#ed7953"
             ],
             [
              0.7777777777777778,
              "#fb9f3a"
             ],
             [
              0.8888888888888888,
              "#fdca26"
             ],
             [
              1,
              "#f0f921"
             ]
            ],
            "type": "heatmap"
           }
          ],
          "histogram": [
           {
            "marker": {
             "pattern": {
              "fillmode": "overlay",
              "size": 10,
              "solidity": 0.2
             }
            },
            "type": "histogram"
           }
          ],
          "histogram2d": [
           {
            "colorbar": {
             "outlinewidth": 0,
             "ticks": ""
            },
            "colorscale": [
             [
              0,
              "#0d0887"
             ],
             [
              0.1111111111111111,
              "#46039f"
             ],
             [
              0.2222222222222222,
              "#7201a8"
             ],
             [
              0.3333333333333333,
              "#9c179e"
             ],
             [
              0.4444444444444444,
              "#bd3786"
             ],
             [
              0.5555555555555556,
              "#d8576b"
             ],
             [
              0.6666666666666666,
              "#ed7953"
             ],
             [
              0.7777777777777778,
              "#fb9f3a"
             ],
             [
              0.8888888888888888,
              "#fdca26"
             ],
             [
              1,
              "#f0f921"
             ]
            ],
            "type": "histogram2d"
           }
          ],
          "histogram2dcontour": [
           {
            "colorbar": {
             "outlinewidth": 0,
             "ticks": ""
            },
            "colorscale": [
             [
              0,
              "#0d0887"
             ],
             [
              0.1111111111111111,
              "#46039f"
             ],
             [
              0.2222222222222222,
              "#7201a8"
             ],
             [
              0.3333333333333333,
              "#9c179e"
             ],
             [
              0.4444444444444444,
              "#bd3786"
             ],
             [
              0.5555555555555556,
              "#d8576b"
             ],
             [
              0.6666666666666666,
              "#ed7953"
             ],
             [
              0.7777777777777778,
              "#fb9f3a"
             ],
             [
              0.8888888888888888,
              "#fdca26"
             ],
             [
              1,
              "#f0f921"
             ]
            ],
            "type": "histogram2dcontour"
           }
          ],
          "mesh3d": [
           {
            "colorbar": {
             "outlinewidth": 0,
             "ticks": ""
            },
            "type": "mesh3d"
           }
          ],
          "parcoords": [
           {
            "line": {
             "colorbar": {
              "outlinewidth": 0,
              "ticks": ""
             }
            },
            "type": "parcoords"
           }
          ],
          "pie": [
           {
            "automargin": true,
            "type": "pie"
           }
          ],
          "scatter": [
           {
            "fillpattern": {
             "fillmode": "overlay",
             "size": 10,
             "solidity": 0.2
            },
            "type": "scatter"
           }
          ],
          "scatter3d": [
           {
            "line": {
             "colorbar": {
              "outlinewidth": 0,
              "ticks": ""
             }
            },
            "marker": {
             "colorbar": {
              "outlinewidth": 0,
              "ticks": ""
             }
            },
            "type": "scatter3d"
           }
          ],
          "scattercarpet": [
           {
            "marker": {
             "colorbar": {
              "outlinewidth": 0,
              "ticks": ""
             }
            },
            "type": "scattercarpet"
           }
          ],
          "scattergeo": [
           {
            "marker": {
             "colorbar": {
              "outlinewidth": 0,
              "ticks": ""
             }
            },
            "type": "scattergeo"
           }
          ],
          "scattergl": [
           {
            "marker": {
             "colorbar": {
              "outlinewidth": 0,
              "ticks": ""
             }
            },
            "type": "scattergl"
           }
          ],
          "scattermap": [
           {
            "marker": {
             "colorbar": {
              "outlinewidth": 0,
              "ticks": ""
             }
            },
            "type": "scattermap"
           }
          ],
          "scattermapbox": [
           {
            "marker": {
             "colorbar": {
              "outlinewidth": 0,
              "ticks": ""
             }
            },
            "type": "scattermapbox"
           }
          ],
          "scatterpolar": [
           {
            "marker": {
             "colorbar": {
              "outlinewidth": 0,
              "ticks": ""
             }
            },
            "type": "scatterpolar"
           }
          ],
          "scatterpolargl": [
           {
            "marker": {
             "colorbar": {
              "outlinewidth": 0,
              "ticks": ""
             }
            },
            "type": "scatterpolargl"
           }
          ],
          "scatterternary": [
           {
            "marker": {
             "colorbar": {
              "outlinewidth": 0,
              "ticks": ""
             }
            },
            "type": "scatterternary"
           }
          ],
          "surface": [
           {
            "colorbar": {
             "outlinewidth": 0,
             "ticks": ""
            },
            "colorscale": [
             [
              0,
              "#0d0887"
             ],
             [
              0.1111111111111111,
              "#46039f"
             ],
             [
              0.2222222222222222,
              "#7201a8"
             ],
             [
              0.3333333333333333,
              "#9c179e"
             ],
             [
              0.4444444444444444,
              "#bd3786"
             ],
             [
              0.5555555555555556,
              "#d8576b"
             ],
             [
              0.6666666666666666,
              "#ed7953"
             ],
             [
              0.7777777777777778,
              "#fb9f3a"
             ],
             [
              0.8888888888888888,
              "#fdca26"
             ],
             [
              1,
              "#f0f921"
             ]
            ],
            "type": "surface"
           }
          ],
          "table": [
           {
            "cells": {
             "fill": {
              "color": "#EBF0F8"
             },
             "line": {
              "color": "white"
             }
            },
            "header": {
             "fill": {
              "color": "#C8D4E3"
             },
             "line": {
              "color": "white"
             }
            },
            "type": "table"
           }
          ]
         },
         "layout": {
          "annotationdefaults": {
           "arrowcolor": "#2a3f5f",
           "arrowhead": 0,
           "arrowwidth": 1
          },
          "autotypenumbers": "strict",
          "coloraxis": {
           "colorbar": {
            "outlinewidth": 0,
            "ticks": ""
           }
          },
          "colorscale": {
           "diverging": [
            [
             0,
             "#8e0152"
            ],
            [
             0.1,
             "#c51b7d"
            ],
            [
             0.2,
             "#de77ae"
            ],
            [
             0.3,
             "#f1b6da"
            ],
            [
             0.4,
             "#fde0ef"
            ],
            [
             0.5,
             "#f7f7f7"
            ],
            [
             0.6,
             "#e6f5d0"
            ],
            [
             0.7,
             "#b8e186"
            ],
            [
             0.8,
             "#7fbc41"
            ],
            [
             0.9,
             "#4d9221"
            ],
            [
             1,
             "#276419"
            ]
           ],
           "sequential": [
            [
             0,
             "#0d0887"
            ],
            [
             0.1111111111111111,
             "#46039f"
            ],
            [
             0.2222222222222222,
             "#7201a8"
            ],
            [
             0.3333333333333333,
             "#9c179e"
            ],
            [
             0.4444444444444444,
             "#bd3786"
            ],
            [
             0.5555555555555556,
             "#d8576b"
            ],
            [
             0.6666666666666666,
             "#ed7953"
            ],
            [
             0.7777777777777778,
             "#fb9f3a"
            ],
            [
             0.8888888888888888,
             "#fdca26"
            ],
            [
             1,
             "#f0f921"
            ]
           ],
           "sequentialminus": [
            [
             0,
             "#0d0887"
            ],
            [
             0.1111111111111111,
             "#46039f"
            ],
            [
             0.2222222222222222,
             "#7201a8"
            ],
            [
             0.3333333333333333,
             "#9c179e"
            ],
            [
             0.4444444444444444,
             "#bd3786"
            ],
            [
             0.5555555555555556,
             "#d8576b"
            ],
            [
             0.6666666666666666,
             "#ed7953"
            ],
            [
             0.7777777777777778,
             "#fb9f3a"
            ],
            [
             0.8888888888888888,
             "#fdca26"
            ],
            [
             1,
             "#f0f921"
            ]
           ]
          },
          "colorway": [
           "#636efa",
           "#EF553B",
           "#00cc96",
           "#ab63fa",
           "#FFA15A",
           "#19d3f3",
           "#FF6692",
           "#B6E880",
           "#FF97FF",
           "#FECB52"
          ],
          "font": {
           "color": "#2a3f5f"
          },
          "geo": {
           "bgcolor": "white",
           "lakecolor": "white",
           "landcolor": "#E5ECF6",
           "showlakes": true,
           "showland": true,
           "subunitcolor": "white"
          },
          "hoverlabel": {
           "align": "left"
          },
          "hovermode": "closest",
          "mapbox": {
           "style": "light"
          },
          "paper_bgcolor": "white",
          "plot_bgcolor": "#E5ECF6",
          "polar": {
           "angularaxis": {
            "gridcolor": "white",
            "linecolor": "white",
            "ticks": ""
           },
           "bgcolor": "#E5ECF6",
           "radialaxis": {
            "gridcolor": "white",
            "linecolor": "white",
            "ticks": ""
           }
          },
          "scene": {
           "xaxis": {
            "backgroundcolor": "#E5ECF6",
            "gridcolor": "white",
            "gridwidth": 2,
            "linecolor": "white",
            "showbackground": true,
            "ticks": "",
            "zerolinecolor": "white"
           },
           "yaxis": {
            "backgroundcolor": "#E5ECF6",
            "gridcolor": "white",
            "gridwidth": 2,
            "linecolor": "white",
            "showbackground": true,
            "ticks": "",
            "zerolinecolor": "white"
           },
           "zaxis": {
            "backgroundcolor": "#E5ECF6",
            "gridcolor": "white",
            "gridwidth": 2,
            "linecolor": "white",
            "showbackground": true,
            "ticks": "",
            "zerolinecolor": "white"
           }
          },
          "shapedefaults": {
           "line": {
            "color": "#2a3f5f"
           }
          },
          "ternary": {
           "aaxis": {
            "gridcolor": "white",
            "linecolor": "white",
            "ticks": ""
           },
           "baxis": {
            "gridcolor": "white",
            "linecolor": "white",
            "ticks": ""
           },
           "bgcolor": "#E5ECF6",
           "caxis": {
            "gridcolor": "white",
            "linecolor": "white",
            "ticks": ""
           }
          },
          "title": {
           "x": 0.05
          },
          "xaxis": {
           "automargin": true,
           "gridcolor": "white",
           "linecolor": "white",
           "ticks": "",
           "title": {
            "standoff": 15
           },
           "zerolinecolor": "white",
           "zerolinewidth": 2
          },
          "yaxis": {
           "automargin": true,
           "gridcolor": "white",
           "linecolor": "white",
           "ticks": "",
           "title": {
            "standoff": 15
           },
           "zerolinecolor": "white",
           "zerolinewidth": 2
          }
         }
        },
        "title": {
         "text": "Распределение площади по зонам"
        }
       }
      }
     },
     "metadata": {},
     "output_type": "display_data"
    }
   ],
   "source": [
    "# Всплывающие подсказки\n",
    "custom_hover = [\n",
    "    f\"{label}: {area:.2f} км² ({percent:.1f}%)\"\n",
    "    for label, area, percent in zip(zone_labels, zone_values_km2, zone_percentages)\n",
    "]\n",
    "\n",
    "# Создаём кольцевую диаграмму\n",
    "fig = go.Figure(data=[go.Pie(\n",
    "    labels=zone_labels,\n",
    "    values=zone_values_km2,\n",
    "    textinfo='none',        # без текста в секторе\n",
    "    hovertext=custom_hover,\n",
    "    hoverinfo='text',\n",
    "    hole=0.4                # белый круг в центре\n",
    ")])\n",
    "\n",
    "fig.update_layout(title_text=\"Распределение площади по зонам\")\n",
    "fig.show()"
   ]
  },
  {
   "cell_type": "code",
   "execution_count": 39,
   "metadata": {},
   "outputs": [
    {
     "data": {
      "text/html": [
       "<div>\n",
       "<style scoped>\n",
       "    .dataframe tbody tr th:only-of-type {\n",
       "        vertical-align: middle;\n",
       "    }\n",
       "\n",
       "    .dataframe tbody tr th {\n",
       "        vertical-align: top;\n",
       "    }\n",
       "\n",
       "    .dataframe thead th {\n",
       "        text-align: right;\n",
       "    }\n",
       "</style>\n",
       "<table border=\"1\" class=\"dataframe\">\n",
       "  <thead>\n",
       "    <tr style=\"text-align: right;\">\n",
       "      <th></th>\n",
       "      <th>geometry</th>\n",
       "      <th>zoning_tag</th>\n",
       "      <th>Tag.RESIDENTIAL_transition</th>\n",
       "      <th>Tag.PUBLIC_AND_BUSINESS_transition</th>\n",
       "      <th>Tag.INDUSTRIAL_transition</th>\n",
       "      <th>Tag.ENGINEERING_AND_TRANSPORTATION_transition</th>\n",
       "      <th>Tag.RECREATIONAL_transition</th>\n",
       "      <th>Tag.AGRICULTURAL_transition</th>\n",
       "      <th>Tag.SPECIAL_PURPOSE_transition</th>\n",
       "      <th>area</th>\n",
       "      <th>area_city</th>\n",
       "      <th>area_zone</th>\n",
       "    </tr>\n",
       "  </thead>\n",
       "  <tbody>\n",
       "    <tr>\n",
       "      <th>0</th>\n",
       "      <td>POLYGON ((3350357.896 8404319.308, 3350391.347...</td>\n",
       "      <td>Tag.ENGINEERING_AND_TRANSPORTATION</td>\n",
       "      <td>0.0448</td>\n",
       "      <td>0.0468</td>\n",
       "      <td>0.0948</td>\n",
       "      <td>0.6665</td>\n",
       "      <td>0.0272</td>\n",
       "      <td>0.0410</td>\n",
       "      <td>0.0789</td>\n",
       "      <td>1.132897e+05</td>\n",
       "      <td>0.002250</td>\n",
       "      <td>0.013855</td>\n",
       "    </tr>\n",
       "    <tr>\n",
       "      <th>1</th>\n",
       "      <td>POLYGON ((3350357.383 8404317.109, 3350357.632...</td>\n",
       "      <td>Tag.ENGINEERING_AND_TRANSPORTATION</td>\n",
       "      <td>0.0192</td>\n",
       "      <td>0.0201</td>\n",
       "      <td>0.0406</td>\n",
       "      <td>0.8571</td>\n",
       "      <td>0.0117</td>\n",
       "      <td>0.0176</td>\n",
       "      <td>0.0338</td>\n",
       "      <td>2.564143e+06</td>\n",
       "      <td>0.050931</td>\n",
       "      <td>0.313596</td>\n",
       "    </tr>\n",
       "    <tr>\n",
       "      <th>2</th>\n",
       "      <td>POLYGON ((3373712.579 8385251.612, 3373743.594...</td>\n",
       "      <td>Tag.PUBLIC_AND_BUSINESS</td>\n",
       "      <td>0.0944</td>\n",
       "      <td>0.3722</td>\n",
       "      <td>0.0685</td>\n",
       "      <td>0.0689</td>\n",
       "      <td>0.3039</td>\n",
       "      <td>0.0529</td>\n",
       "      <td>0.0392</td>\n",
       "      <td>3.562697e+04</td>\n",
       "      <td>0.000708</td>\n",
       "      <td>0.007665</td>\n",
       "    </tr>\n",
       "    <tr>\n",
       "      <th>3</th>\n",
       "      <td>POLYGON ((3373939.959 8384632.388, 3373939.901...</td>\n",
       "      <td>Tag.PUBLIC_AND_BUSINESS</td>\n",
       "      <td>0.1452</td>\n",
       "      <td>0.1907</td>\n",
       "      <td>0.1052</td>\n",
       "      <td>0.1060</td>\n",
       "      <td>0.3114</td>\n",
       "      <td>0.0813</td>\n",
       "      <td>0.0602</td>\n",
       "      <td>2.093329e+03</td>\n",
       "      <td>0.000042</td>\n",
       "      <td>0.000450</td>\n",
       "    </tr>\n",
       "    <tr>\n",
       "      <th>4</th>\n",
       "      <td>POLYGON ((3373827.838 8384502.448, 3373823.108...</td>\n",
       "      <td>Tag.PUBLIC_AND_BUSINESS</td>\n",
       "      <td>0.0824</td>\n",
       "      <td>0.5409</td>\n",
       "      <td>0.0597</td>\n",
       "      <td>0.0601</td>\n",
       "      <td>0.1766</td>\n",
       "      <td>0.0461</td>\n",
       "      <td>0.0342</td>\n",
       "      <td>1.197619e+04</td>\n",
       "      <td>0.000238</td>\n",
       "      <td>0.002577</td>\n",
       "    </tr>\n",
       "    <tr>\n",
       "      <th>...</th>\n",
       "      <td>...</td>\n",
       "      <td>...</td>\n",
       "      <td>...</td>\n",
       "      <td>...</td>\n",
       "      <td>...</td>\n",
       "      <td>...</td>\n",
       "      <td>...</td>\n",
       "      <td>...</td>\n",
       "      <td>...</td>\n",
       "      <td>...</td>\n",
       "      <td>...</td>\n",
       "      <td>...</td>\n",
       "    </tr>\n",
       "    <tr>\n",
       "      <th>7157</th>\n",
       "      <td>POLYGON ((3336747.174 8419985.493, 3336773.6 8...</td>\n",
       "      <td>Tag.RECREATIONAL</td>\n",
       "      <td>0.0972</td>\n",
       "      <td>0.1220</td>\n",
       "      <td>0.0234</td>\n",
       "      <td>0.0241</td>\n",
       "      <td>0.6785</td>\n",
       "      <td>0.0334</td>\n",
       "      <td>0.0214</td>\n",
       "      <td>4.721771e+04</td>\n",
       "      <td>0.000938</td>\n",
       "      <td>0.002607</td>\n",
       "    </tr>\n",
       "    <tr>\n",
       "      <th>7158</th>\n",
       "      <td>POLYGON ((3336214.332 8419562.903, 3336318.864...</td>\n",
       "      <td>Tag.RECREATIONAL</td>\n",
       "      <td>0.0546</td>\n",
       "      <td>0.0685</td>\n",
       "      <td>0.0263</td>\n",
       "      <td>0.0271</td>\n",
       "      <td>0.7620</td>\n",
       "      <td>0.0375</td>\n",
       "      <td>0.0241</td>\n",
       "      <td>2.403590e+03</td>\n",
       "      <td>0.000048</td>\n",
       "      <td>0.000133</td>\n",
       "    </tr>\n",
       "    <tr>\n",
       "      <th>7159</th>\n",
       "      <td>POLYGON ((3338995.718 8402909.162, 3339000.462...</td>\n",
       "      <td>Tag.RESIDENTIAL</td>\n",
       "      <td>0.2893</td>\n",
       "      <td>0.2072</td>\n",
       "      <td>0.0200</td>\n",
       "      <td>0.0868</td>\n",
       "      <td>0.3542</td>\n",
       "      <td>0.0273</td>\n",
       "      <td>0.0152</td>\n",
       "      <td>6.172420e+06</td>\n",
       "      <td>0.122601</td>\n",
       "      <td>0.462430</td>\n",
       "    </tr>\n",
       "    <tr>\n",
       "      <th>7160</th>\n",
       "      <td>POLYGON ((3359348.393 8401121.685, 3359358.978...</td>\n",
       "      <td>Tag.RECREATIONAL</td>\n",
       "      <td>0.0782</td>\n",
       "      <td>0.0490</td>\n",
       "      <td>0.0188</td>\n",
       "      <td>0.0194</td>\n",
       "      <td>0.7637</td>\n",
       "      <td>0.0537</td>\n",
       "      <td>0.0172</td>\n",
       "      <td>2.729093e+07</td>\n",
       "      <td>0.542073</td>\n",
       "      <td>1.507009</td>\n",
       "    </tr>\n",
       "    <tr>\n",
       "      <th>7161</th>\n",
       "      <td>MULTIPOLYGON (((3378053.143 8413616.163, 33780...</td>\n",
       "      <td>Tag.INDUSTRIAL</td>\n",
       "      <td>0.0272</td>\n",
       "      <td>0.0410</td>\n",
       "      <td>0.1140</td>\n",
       "      <td>0.6690</td>\n",
       "      <td>0.0465</td>\n",
       "      <td>0.0542</td>\n",
       "      <td>0.0480</td>\n",
       "      <td>1.557840e+07</td>\n",
       "      <td>0.309430</td>\n",
       "      <td>10.091917</td>\n",
       "    </tr>\n",
       "  </tbody>\n",
       "</table>\n",
       "<p>7036 rows × 12 columns</p>\n",
       "</div>"
      ],
      "text/plain": [
       "                                               geometry  \\\n",
       "0     POLYGON ((3350357.896 8404319.308, 3350391.347...   \n",
       "1     POLYGON ((3350357.383 8404317.109, 3350357.632...   \n",
       "2     POLYGON ((3373712.579 8385251.612, 3373743.594...   \n",
       "3     POLYGON ((3373939.959 8384632.388, 3373939.901...   \n",
       "4     POLYGON ((3373827.838 8384502.448, 3373823.108...   \n",
       "...                                                 ...   \n",
       "7157  POLYGON ((3336747.174 8419985.493, 3336773.6 8...   \n",
       "7158  POLYGON ((3336214.332 8419562.903, 3336318.864...   \n",
       "7159  POLYGON ((3338995.718 8402909.162, 3339000.462...   \n",
       "7160  POLYGON ((3359348.393 8401121.685, 3359358.978...   \n",
       "7161  MULTIPOLYGON (((3378053.143 8413616.163, 33780...   \n",
       "\n",
       "                              zoning_tag  Tag.RESIDENTIAL_transition  \\\n",
       "0     Tag.ENGINEERING_AND_TRANSPORTATION                      0.0448   \n",
       "1     Tag.ENGINEERING_AND_TRANSPORTATION                      0.0192   \n",
       "2                Tag.PUBLIC_AND_BUSINESS                      0.0944   \n",
       "3                Tag.PUBLIC_AND_BUSINESS                      0.1452   \n",
       "4                Tag.PUBLIC_AND_BUSINESS                      0.0824   \n",
       "...                                  ...                         ...   \n",
       "7157                    Tag.RECREATIONAL                      0.0972   \n",
       "7158                    Tag.RECREATIONAL                      0.0546   \n",
       "7159                     Tag.RESIDENTIAL                      0.2893   \n",
       "7160                    Tag.RECREATIONAL                      0.0782   \n",
       "7161                      Tag.INDUSTRIAL                      0.0272   \n",
       "\n",
       "      Tag.PUBLIC_AND_BUSINESS_transition  Tag.INDUSTRIAL_transition  \\\n",
       "0                                 0.0468                     0.0948   \n",
       "1                                 0.0201                     0.0406   \n",
       "2                                 0.3722                     0.0685   \n",
       "3                                 0.1907                     0.1052   \n",
       "4                                 0.5409                     0.0597   \n",
       "...                                  ...                        ...   \n",
       "7157                              0.1220                     0.0234   \n",
       "7158                              0.0685                     0.0263   \n",
       "7159                              0.2072                     0.0200   \n",
       "7160                              0.0490                     0.0188   \n",
       "7161                              0.0410                     0.1140   \n",
       "\n",
       "      Tag.ENGINEERING_AND_TRANSPORTATION_transition  \\\n",
       "0                                            0.6665   \n",
       "1                                            0.8571   \n",
       "2                                            0.0689   \n",
       "3                                            0.1060   \n",
       "4                                            0.0601   \n",
       "...                                             ...   \n",
       "7157                                         0.0241   \n",
       "7158                                         0.0271   \n",
       "7159                                         0.0868   \n",
       "7160                                         0.0194   \n",
       "7161                                         0.6690   \n",
       "\n",
       "      Tag.RECREATIONAL_transition  Tag.AGRICULTURAL_transition  \\\n",
       "0                          0.0272                       0.0410   \n",
       "1                          0.0117                       0.0176   \n",
       "2                          0.3039                       0.0529   \n",
       "3                          0.3114                       0.0813   \n",
       "4                          0.1766                       0.0461   \n",
       "...                           ...                          ...   \n",
       "7157                       0.6785                       0.0334   \n",
       "7158                       0.7620                       0.0375   \n",
       "7159                       0.3542                       0.0273   \n",
       "7160                       0.7637                       0.0537   \n",
       "7161                       0.0465                       0.0542   \n",
       "\n",
       "      Tag.SPECIAL_PURPOSE_transition          area  area_city  area_zone  \n",
       "0                             0.0789  1.132897e+05   0.002250   0.013855  \n",
       "1                             0.0338  2.564143e+06   0.050931   0.313596  \n",
       "2                             0.0392  3.562697e+04   0.000708   0.007665  \n",
       "3                             0.0602  2.093329e+03   0.000042   0.000450  \n",
       "4                             0.0342  1.197619e+04   0.000238   0.002577  \n",
       "...                              ...           ...        ...        ...  \n",
       "7157                          0.0214  4.721771e+04   0.000938   0.002607  \n",
       "7158                          0.0241  2.403590e+03   0.000048   0.000133  \n",
       "7159                          0.0152  6.172420e+06   0.122601   0.462430  \n",
       "7160                          0.0172  2.729093e+07   0.542073   1.507009  \n",
       "7161                          0.0480  1.557840e+07   0.309430  10.091917  \n",
       "\n",
       "[7036 rows x 12 columns]"
      ]
     },
     "execution_count": 39,
     "metadata": {},
     "output_type": "execute_result"
    }
   ],
   "source": [
    "zoning_tag"
   ]
  },
  {
   "cell_type": "code",
   "execution_count": 17,
   "metadata": {},
   "outputs": [],
   "source": [
    "# Сохраняем в GeoJSON\n",
    "zoning_tag.to_file(\n",
    "    r\"C:\\repos\\master-plan-requirements\\examples\\data\\zoning_tag.geojson\", driver=\"GeoJSON\", encoding=\"utf-8\")"
   ]
  },
  {
   "cell_type": "markdown",
   "metadata": {},
   "source": [
    "СЦЕНАРИЙ 1 - ИЗМЕНЕНИЕ ЗОНИРОВАНИЯ"
   ]
  },
  {
   "cell_type": "code",
   "execution_count": 35,
   "metadata": {},
   "outputs": [],
   "source": [
    "selected_indices = [13600, 785, 782, 14298, 13599, 13743]\n",
    "# Извлечение полигонов с указанными индексами и столбцом 'tags'\n",
    "selected_polygons = zoning_gdf.loc[selected_indices, ['geometry', 'tags']]\n",
    "# Шаг 2: Преобразуем столбец 'tags' в строковый тип, если это необходимо\n",
    "selected_polygons['tags'] = selected_polygons['tags'].astype(str)  # Преобразуем в строку\n",
    "# Убираем префикс 'Tag.' из значений в столбце 'tags'\n",
    "selected_polygons['tags'] = selected_polygons['tags'].str.replace('Tag.', '', regex=False)"
   ]
  },
  {
   "cell_type": "code",
   "execution_count": 38,
   "metadata": {},
   "outputs": [
    {
     "data": {
      "text/html": [
       "<div>\n",
       "<style scoped>\n",
       "    .dataframe tbody tr th:only-of-type {\n",
       "        vertical-align: middle;\n",
       "    }\n",
       "\n",
       "    .dataframe tbody tr th {\n",
       "        vertical-align: top;\n",
       "    }\n",
       "\n",
       "    .dataframe thead th {\n",
       "        text-align: right;\n",
       "    }\n",
       "</style>\n",
       "<table border=\"1\" class=\"dataframe\">\n",
       "  <thead>\n",
       "    <tr style=\"text-align: right;\">\n",
       "      <th></th>\n",
       "      <th>geometry</th>\n",
       "      <th>tags</th>\n",
       "    </tr>\n",
       "  </thead>\n",
       "  <tbody>\n",
       "    <tr>\n",
       "      <th>13600</th>\n",
       "      <td>POLYGON ((324286.424 6643162.192, 324308.983 6...</td>\n",
       "      <td>[&lt;RESIDENTIAL: 'Жилая зона'&gt;]</td>\n",
       "    </tr>\n",
       "    <tr>\n",
       "      <th>785</th>\n",
       "      <td>POLYGON ((324460.162 6642203.399, 324475.843 6...</td>\n",
       "      <td>[&lt;RECREATIONAL: 'Рекреационная'&gt;]</td>\n",
       "    </tr>\n",
       "    <tr>\n",
       "      <th>782</th>\n",
       "      <td>POLYGON ((323125.302 6642836.055, 323109.807 6...</td>\n",
       "      <td>[&lt;RECREATIONAL: 'Рекреационная'&gt;]</td>\n",
       "    </tr>\n",
       "    <tr>\n",
       "      <th>14298</th>\n",
       "      <td>POLYGON ((324225.134 6643018.167, 324221.631 6...</td>\n",
       "      <td>[&lt;RESIDENTIAL: 'Жилая зона'&gt;]</td>\n",
       "    </tr>\n",
       "    <tr>\n",
       "      <th>13599</th>\n",
       "      <td>POLYGON ((324410.599 6643457.317, 324400.664 6...</td>\n",
       "      <td>[&lt;RESIDENTIAL: 'Жилая зона'&gt;]</td>\n",
       "    </tr>\n",
       "    <tr>\n",
       "      <th>13743</th>\n",
       "      <td>POLYGON ((324219.587 6643722.397, 324234.364 6...</td>\n",
       "      <td>[&lt;RECREATIONAL: 'Рекреационная'&gt;]</td>\n",
       "    </tr>\n",
       "  </tbody>\n",
       "</table>\n",
       "</div>"
      ],
      "text/plain": [
       "                                                geometry  \\\n",
       "13600  POLYGON ((324286.424 6643162.192, 324308.983 6...   \n",
       "785    POLYGON ((324460.162 6642203.399, 324475.843 6...   \n",
       "782    POLYGON ((323125.302 6642836.055, 323109.807 6...   \n",
       "14298  POLYGON ((324225.134 6643018.167, 324221.631 6...   \n",
       "13599  POLYGON ((324410.599 6643457.317, 324400.664 6...   \n",
       "13743  POLYGON ((324219.587 6643722.397, 324234.364 6...   \n",
       "\n",
       "                                    tags  \n",
       "13600      [<RESIDENTIAL: 'Жилая зона'>]  \n",
       "785    [<RECREATIONAL: 'Рекреационная'>]  \n",
       "782    [<RECREATIONAL: 'Рекреационная'>]  \n",
       "14298      [<RESIDENTIAL: 'Жилая зона'>]  \n",
       "13599      [<RESIDENTIAL: 'Жилая зона'>]  \n",
       "13743  [<RECREATIONAL: 'Рекреационная'>]  "
      ]
     },
     "execution_count": 38,
     "metadata": {},
     "output_type": "execute_result"
    }
   ],
   "source": [
    "selected_polygons\n",
    "selected_polygons.to_file('selected_polygons.geojson', driver='GeoJSON')"
   ]
  },
  {
   "cell_type": "code",
   "execution_count": 98,
   "metadata": {},
   "outputs": [
    {
     "data": {
      "text/html": [
       "<div style=\"width:100%;\"><div style=\"position:relative;width:100%;height:0;padding-bottom:60%;\"><span style=\"color:#565656\">Make this Notebook Trusted to load map: File -> Trust Notebook</span><iframe srcdoc=\"&lt;!DOCTYPE html&gt;\n",
       "&lt;html&gt;\n",
       "&lt;head&gt;\n",
       "    \n",
       "    &lt;meta http-equiv=&quot;content-type&quot; content=&quot;text/html; charset=UTF-8&quot; /&gt;\n",
       "    \n",
       "        &lt;script&gt;\n",
       "            L_NO_TOUCH = false;\n",
       "            L_DISABLE_3D = false;\n",
       "        &lt;/script&gt;\n",
       "    \n",
       "    &lt;style&gt;html, body {width: 100%;height: 100%;margin: 0;padding: 0;}&lt;/style&gt;\n",
       "    &lt;style&gt;#map {position:absolute;top:0;bottom:0;right:0;left:0;}&lt;/style&gt;\n",
       "    &lt;script src=&quot;https://cdn.jsdelivr.net/npm/leaflet@1.9.3/dist/leaflet.js&quot;&gt;&lt;/script&gt;\n",
       "    &lt;script src=&quot;https://code.jquery.com/jquery-1.12.4.min.js&quot;&gt;&lt;/script&gt;\n",
       "    &lt;script src=&quot;https://cdn.jsdelivr.net/npm/bootstrap@5.2.2/dist/js/bootstrap.bundle.min.js&quot;&gt;&lt;/script&gt;\n",
       "    &lt;script src=&quot;https://cdnjs.cloudflare.com/ajax/libs/Leaflet.awesome-markers/2.0.2/leaflet.awesome-markers.js&quot;&gt;&lt;/script&gt;\n",
       "    &lt;link rel=&quot;stylesheet&quot; href=&quot;https://cdn.jsdelivr.net/npm/leaflet@1.9.3/dist/leaflet.css&quot;/&gt;\n",
       "    &lt;link rel=&quot;stylesheet&quot; href=&quot;https://cdn.jsdelivr.net/npm/bootstrap@5.2.2/dist/css/bootstrap.min.css&quot;/&gt;\n",
       "    &lt;link rel=&quot;stylesheet&quot; href=&quot;https://netdna.bootstrapcdn.com/bootstrap/3.0.0/css/bootstrap.min.css&quot;/&gt;\n",
       "    &lt;link rel=&quot;stylesheet&quot; href=&quot;https://cdn.jsdelivr.net/npm/@fortawesome/fontawesome-free@6.2.0/css/all.min.css&quot;/&gt;\n",
       "    &lt;link rel=&quot;stylesheet&quot; href=&quot;https://cdnjs.cloudflare.com/ajax/libs/Leaflet.awesome-markers/2.0.2/leaflet.awesome-markers.css&quot;/&gt;\n",
       "    &lt;link rel=&quot;stylesheet&quot; href=&quot;https://cdn.jsdelivr.net/gh/python-visualization/folium/folium/templates/leaflet.awesome.rotate.min.css&quot;/&gt;\n",
       "    \n",
       "            &lt;meta name=&quot;viewport&quot; content=&quot;width=device-width,\n",
       "                initial-scale=1.0, maximum-scale=1.0, user-scalable=no&quot; /&gt;\n",
       "            &lt;style&gt;\n",
       "                #map_585f3690dae6e2ffbf6bb76dfd1b1b32 {\n",
       "                    position: relative;\n",
       "                    width: 100.0%;\n",
       "                    height: 100.0%;\n",
       "                    left: 0.0%;\n",
       "                    top: 0.0%;\n",
       "                }\n",
       "                .leaflet-container { font-size: 1rem; }\n",
       "            &lt;/style&gt;\n",
       "        \n",
       "    \n",
       "                    &lt;style&gt;\n",
       "                        .foliumtooltip {\n",
       "                            \n",
       "                        }\n",
       "                       .foliumtooltip table{\n",
       "                            margin: auto;\n",
       "                        }\n",
       "                        .foliumtooltip tr{\n",
       "                            text-align: left;\n",
       "                        }\n",
       "                        .foliumtooltip th{\n",
       "                            padding: 2px; padding-right: 8px;\n",
       "                        }\n",
       "                    &lt;/style&gt;\n",
       "            \n",
       "&lt;/head&gt;\n",
       "&lt;body&gt;\n",
       "    \n",
       "    \n",
       "            &lt;div class=&quot;folium-map&quot; id=&quot;map_585f3690dae6e2ffbf6bb76dfd1b1b32&quot; &gt;&lt;/div&gt;\n",
       "        \n",
       "&lt;/body&gt;\n",
       "&lt;script&gt;\n",
       "    \n",
       "    \n",
       "            var map_585f3690dae6e2ffbf6bb76dfd1b1b32 = L.map(\n",
       "                &quot;map_585f3690dae6e2ffbf6bb76dfd1b1b32&quot;,\n",
       "                {\n",
       "                    center: [59.886122799999995, 29.857035028601203],\n",
       "                    crs: L.CRS.EPSG3857,\n",
       "                    zoom: 10,\n",
       "                    zoomControl: true,\n",
       "                    preferCanvas: false,\n",
       "                }\n",
       "            );\n",
       "            L.control.scale().addTo(map_585f3690dae6e2ffbf6bb76dfd1b1b32);\n",
       "\n",
       "            \n",
       "\n",
       "        \n",
       "    \n",
       "            var tile_layer_3bab72b59a4cbb34edaf4cc92fe56e4a = L.tileLayer(\n",
       "                &quot;https://{s}.tile.openstreetmap.org/{z}/{x}/{y}.png&quot;,\n",
       "                {&quot;attribution&quot;: &quot;Data by \\u0026copy; \\u003ca target=\\&quot;_blank\\&quot; href=\\&quot;http://openstreetmap.org\\&quot;\\u003eOpenStreetMap\\u003c/a\\u003e, under \\u003ca target=\\&quot;_blank\\&quot; href=\\&quot;http://www.openstreetmap.org/copyright\\&quot;\\u003eODbL\\u003c/a\\u003e.&quot;, &quot;detectRetina&quot;: false, &quot;maxNativeZoom&quot;: 18, &quot;maxZoom&quot;: 18, &quot;minZoom&quot;: 0, &quot;noWrap&quot;: false, &quot;opacity&quot;: 1, &quot;subdomains&quot;: &quot;abc&quot;, &quot;tms&quot;: false}\n",
       "            ).addTo(map_585f3690dae6e2ffbf6bb76dfd1b1b32);\n",
       "        \n",
       "    \n",
       "            map_585f3690dae6e2ffbf6bb76dfd1b1b32.fitBounds(\n",
       "                [[59.877877100000006, 29.828555657202404], [59.894368499999985, 29.885514399999998]],\n",
       "                {}\n",
       "            );\n",
       "        \n",
       "    \n",
       "        function geo_json_7663847d2c2c779de896a69c4e730496_styler(feature) {\n",
       "            switch(feature.id) {\n",
       "                default:\n",
       "                    return {&quot;fillOpacity&quot;: 0.5, &quot;weight&quot;: 2};\n",
       "            }\n",
       "        }\n",
       "        function geo_json_7663847d2c2c779de896a69c4e730496_highlighter(feature) {\n",
       "            switch(feature.id) {\n",
       "                default:\n",
       "                    return {&quot;fillOpacity&quot;: 0.75};\n",
       "            }\n",
       "        }\n",
       "        function geo_json_7663847d2c2c779de896a69c4e730496_pointToLayer(feature, latlng) {\n",
       "            var opts = {&quot;bubblingMouseEvents&quot;: true, &quot;color&quot;: &quot;#3388ff&quot;, &quot;dashArray&quot;: null, &quot;dashOffset&quot;: null, &quot;fill&quot;: true, &quot;fillColor&quot;: &quot;#3388ff&quot;, &quot;fillOpacity&quot;: 0.2, &quot;fillRule&quot;: &quot;evenodd&quot;, &quot;lineCap&quot;: &quot;round&quot;, &quot;lineJoin&quot;: &quot;round&quot;, &quot;opacity&quot;: 1.0, &quot;radius&quot;: 2, &quot;stroke&quot;: true, &quot;weight&quot;: 3};\n",
       "            \n",
       "            let style = geo_json_7663847d2c2c779de896a69c4e730496_styler(feature)\n",
       "            Object.assign(opts, style)\n",
       "            \n",
       "            return new L.CircleMarker(latlng, opts)\n",
       "        }\n",
       "\n",
       "        function geo_json_7663847d2c2c779de896a69c4e730496_onEachFeature(feature, layer) {\n",
       "            layer.on({\n",
       "                mouseout: function(e) {\n",
       "                    if(typeof e.target.setStyle === &quot;function&quot;){\n",
       "                        geo_json_7663847d2c2c779de896a69c4e730496.resetStyle(e.target);\n",
       "                    }\n",
       "                },\n",
       "                mouseover: function(e) {\n",
       "                    if(typeof e.target.setStyle === &quot;function&quot;){\n",
       "                        const highlightStyle = geo_json_7663847d2c2c779de896a69c4e730496_highlighter(e.target.feature)\n",
       "                        e.target.setStyle(highlightStyle);\n",
       "                    }\n",
       "                },\n",
       "            });\n",
       "        };\n",
       "        var geo_json_7663847d2c2c779de896a69c4e730496 = L.geoJson(null, {\n",
       "                onEachFeature: geo_json_7663847d2c2c779de896a69c4e730496_onEachFeature,\n",
       "            \n",
       "                style: geo_json_7663847d2c2c779de896a69c4e730496_styler,\n",
       "                pointToLayer: geo_json_7663847d2c2c779de896a69c4e730496_pointToLayer\n",
       "        });\n",
       "\n",
       "        function geo_json_7663847d2c2c779de896a69c4e730496_add (data) {\n",
       "            geo_json_7663847d2c2c779de896a69c4e730496\n",
       "                .addData(data)\n",
       "                .addTo(map_585f3690dae6e2ffbf6bb76dfd1b1b32);\n",
       "        }\n",
       "            geo_json_7663847d2c2c779de896a69c4e730496_add({&quot;bbox&quot;: [29.828555657202404, 59.877877100000006, 29.885514399999998, 59.894368499999985], &quot;features&quot;: [{&quot;bbox&quot;: [29.8552401, 59.88019750000001, 29.877232800000005, 59.891208899999974], &quot;geometry&quot;: {&quot;coordinates&quot;: [[[29.859528300000004, 59.888510000000025], [29.8598849, 59.8890056], [29.8599574, 59.889106399999996], [29.860527400000002, 59.88989040000002], [29.8609821, 59.8905082], [29.861136500000004, 59.89071830000001], [29.8613369, 59.8909911], [29.861493999999997, 59.891208899999974], [29.8617846, 59.891168999999984], [29.862362500000003, 59.891089099999995], [29.863353799999995, 59.890952099999986], [29.863777, 59.8908936], [29.8644066, 59.89080560000001], [29.864536300000005, 59.890788199999996], [29.8650491, 59.8907169], [29.8663347, 59.89053789999999], [29.866916200000002, 59.89045449999999], [29.868114700000003, 59.89028990000002], [29.868714300000004, 59.890205699999996], [29.868916600000002, 59.89017719999998], [29.869421399999997, 59.8901062], [29.8701412, 59.89000519999997], [29.870289299999996, 59.88998440000001], [29.870942200000005, 59.88989509999999], [29.871077300000003, 59.88987660000001], [29.8711479, 59.88986699999996], [29.871351300000004, 59.8898391], [29.871421, 59.88982960000001], [29.8719072, 59.8897631], [29.8720414, 59.88974429999999], [29.872298699999998, 59.88970819999999], [29.872820899999997, 59.889634799999975], [29.874240300000004, 59.889435399999996], [29.8762763, 59.8891529], [29.8764978, 59.88912249999999], [29.876767200000003, 59.889085500000014], [29.877005499999996, 59.88905019999999], [29.877232800000005, 59.889022799999985], [29.877131199999997, 59.88899380000001], [29.8770358, 59.88894879999996], [29.8769452, 59.88887699999999], [29.8768111, 59.888632099999946], [29.876427500000002, 59.88790949999999], [29.8763886, 59.8878469], [29.876333599999995, 59.88780390000001], [29.876261200000002, 59.88776080000001], [29.876178099999997, 59.8877252], [29.875119900000005, 59.8873982], [29.874980400000002, 59.8873511], [29.8748839, 59.887316700000014], [29.8747779, 59.8872636], [29.8746613, 59.8871889], [29.8739848, 59.886726499999995], [29.8731655, 59.88616780000001], [29.8728709, 59.8859666], [29.872738900000005, 59.88587470000001], [29.8725843, 59.8857691], [29.872483900000002, 59.8857005], [29.8723538, 59.885613999999975], [29.8720648, 59.885415600000016], [29.871965500000005, 59.88534789999998], [29.8714721, 59.88501110000001], [29.8709078, 59.8846259], [29.8693079, 59.883533600000014], [29.867904, 59.882573799999996], [29.867752599999996, 59.882470299999994], [29.867498100000002, 59.8822952], [29.867320099999997, 59.882174899999995], [29.8671439, 59.882054500000024], [29.866098400000002, 59.8813399], [29.8645062, 59.880253799999984], [29.864352099999998, 59.88019750000001], [29.863857300000003, 59.880323899999986], [29.863636199999995, 59.880382199999985], [29.863406200000004, 59.88044529999999], [29.8629372, 59.88056569999994], [29.862423099999997, 59.880698500000015], [29.862308100000003, 59.88072859999998], [29.861551000000002, 59.88092179999999], [29.860921000000005, 59.8810824], [29.8601631, 59.88127610000001], [29.8593748, 59.881477600000004], [29.858653299999997, 59.881662], [29.8584398, 59.88171489999999], [29.858113199999995, 59.8818], [29.857481, 59.88196180000002], [29.857368800000003, 59.881990499999986], [29.8565407, 59.8822022], [29.8561863, 59.8822923], [29.855663399999997, 59.88242530000001], [29.8555231, 59.8824593], [29.8554147, 59.88248560000001], [29.8552401, 59.8825232], [29.8553019, 59.8826222], [29.8554715, 59.88289470000001], [29.855673300000003, 59.883219], [29.8558934, 59.88357129999999], [29.856075, 59.8838579], [29.856271799999995, 59.8841731], [29.8566706, 59.884804299999985], [29.8568512, 59.885084499999984], [29.856886200000005, 59.8851388], [29.8570631, 59.8853877], [29.857230500000004, 59.885603400000015], [29.857434800000004, 59.8858657], [29.8576502, 59.8861285], [29.8579082, 59.88642170000001], [29.858177099999995, 59.88672840000001], [29.858275700000004, 59.886841100000005], [29.858385600000002, 59.886974300000006], [29.858501, 59.887120299999985], [29.8585568, 59.88719259999998], [29.8585853, 59.887229500000004], [29.8586888, 59.88736370000001], [29.858745, 59.887439500000006], [29.8589282, 59.8876862], [29.8590484, 59.887852399999986], [29.859154199999995, 59.88799590000001], [29.8593641, 59.888284], [29.8595101, 59.888484500000004], [29.859528300000004, 59.888510000000025]]], &quot;type&quot;: &quot;Polygon&quot;}, &quot;id&quot;: &quot;13600&quot;, &quot;properties&quot;: {&quot;tags&quot;: &quot;[\\u0027RESIDENTIAL\\u0027]&quot;}, &quot;type&quot;: &quot;Feature&quot;}, {&quot;bbox&quot;: [29.86014005855637, 59.877877100000006, 29.885514399999998, 59.889022799999985], &quot;geometry&quot;: {&quot;coordinates&quot;: [[[29.8634389, 59.87998739999999], [29.863727900000004, 59.87989539999999], [29.8637992, 59.8798866], [29.86386842999866, 59.87989072753503], [29.863873, 59.87989099999998], [29.8639231, 59.87990590000002], [29.863966500000004, 59.87992910000001], [29.864352099999998, 59.88019750000001], [29.8645062, 59.880253799999984], [29.866098400000002, 59.8813399], [29.8671439, 59.882054500000024], [29.867320099999997, 59.882174899999995], [29.867498100000002, 59.8822952], [29.867752599999996, 59.882470299999994], [29.867904, 59.882573799999996], [29.86927400264554, 59.883510426319134], [29.8693079, 59.883533600000014], [29.8709078, 59.8846259], [29.8714721, 59.88501110000001], [29.871965500000005, 59.88534789999998], [29.8720648, 59.885415600000016], [29.8723538, 59.885613999999975], [29.872483900000002, 59.8857005], [29.8725843, 59.8857691], [29.872738900000005, 59.88587470000001], [29.8728709, 59.8859666], [29.8731655, 59.88616780000001], [29.8739848, 59.886726499999995], [29.8746613, 59.8871889], [29.8747779, 59.8872636], [29.8748839, 59.887316700000014], [29.874980400000002, 59.8873511], [29.875119900000005, 59.8873982], [29.876178099999997, 59.8877252], [29.876261200000002, 59.88776080000001], [29.876333599999995, 59.88780390000001], [29.8763886, 59.8878469], [29.876427500000002, 59.88790949999999], [29.8768111, 59.888632099999946], [29.8769452, 59.88887699999999], [29.8770358, 59.88894879999996], [29.877131199999997, 59.88899380000001], [29.877232800000005, 59.889022799999985], [29.877299200000003, 59.88896270000001], [29.8773623, 59.88892569999999], [29.877816365539445, 59.88867674833632], [29.877933, 59.88861279999999], [29.8784409, 59.8883343], [29.878912300000003, 59.88809299999997], [29.8795855375823, 59.887748325886484], [29.880006700000003, 59.8875327], [29.881312799999996, 59.88686330000001], [29.882589711732685, 59.88620879228218], [29.8833002, 59.88584459999997], [29.883546631740245, 59.88571828464801], [29.8849042, 59.88502239999999], [29.8850558, 59.8849447], [29.885284300000002, 59.8848379], [29.885514399999998, 59.88474089999995], [29.885491599999998, 59.88472909999999], [29.8854063, 59.8846867], [29.885286400000002, 59.8846265], [29.884807400000003, 59.8843814], [29.88181946509428, 59.8831751811697], [29.8810752, 59.8828747], [29.876415598694873, 59.88100150589302], [29.874901785322802, 59.88039286150096], [29.8746477, 59.88029069999999], [29.874122799999995, 59.8800776], [29.8736005, 59.87986059999996], [29.8725459, 59.879405500000004], [29.871213, 59.878823399999995], [29.870162300000004, 59.878359], [29.870117000000004, 59.87833889999999], [29.869824400000002, 59.87820910000001], [29.869575288935955, 59.87809844721632], [29.869248299999995, 59.87795319999999], [29.8690743, 59.877877100000006], [29.86636735086222, 59.878620135628374], [29.863930700000004, 59.87928889999999], [29.86290787180723, 59.879562913203294], [29.862339399999996, 59.87971519999999], [29.860280499999995, 59.88022799999999], [29.86014005855637, 59.88026028189666], [29.860811424827936, 59.88095716850304], [29.860982650165123, 59.881066684303754], [29.861551000000002, 59.88092179999999], [29.862308100000003, 59.88072859999998], [29.862423099999997, 59.880698500000015], [29.8629372, 59.88056569999994], [29.863203936770216, 59.88049722460587], [29.863406200000004, 59.88044529999999], [29.863636199999995, 59.880382199999985], [29.863410700000003, 59.88013819999997], [29.8633799, 59.88008500000001], [29.863374699999998, 59.880057699999995], [29.863379705606587, 59.880044194313264], [29.8633853, 59.8800291], [29.863399099999995, 59.88001009999999], [29.8634389, 59.87998739999999]]], &quot;type&quot;: &quot;Polygon&quot;}, &quot;id&quot;: &quot;785&quot;, &quot;properties&quot;: {&quot;tags&quot;: &quot;[\\u0027RECREATIONAL\\u0027]&quot;}, &quot;type&quot;: &quot;Feature&quot;}, {&quot;bbox&quot;: [29.828555657202404, 59.88026028189666, 29.860982650165123, 59.88856498747158], &quot;geometry&quot;: {&quot;coordinates&quot;: [[[29.8390906, 59.8850902], [29.8388074, 59.885154800000024], [29.8376634, 59.8854176], [29.834633400000005, 59.8861073], [29.834451200000004, 59.886148500000004], [29.8344136, 59.886157099999984], [29.830971299999998, 59.8869423], [29.830220700000005, 59.8871135], [29.830084299999996, 59.88714459999997], [29.8293279, 59.887320099999975], [29.8285959, 59.887508200000006], [29.828555657202404, 59.88751902470397], [29.829291721779764, 59.887684252343035], [29.831856573154177, 59.887868566493026], [29.836109864205856, 59.888204970279695], [29.83782583351938, 59.88851874714513], [29.83790136119325, 59.88854406678461], [29.84440499232811, 59.88856498747158], [29.84468588795465, 59.88831872225818], [29.844934670551694, 59.88827123682276], [29.84470771500161, 59.887881248811546], [29.8445938, 59.88768550000001], [29.844565792461594, 59.88763623376323], [29.844552299999997, 59.8876125], [29.844444686617486, 59.88742351143729], [29.8443423, 59.8872437], [29.84432225811392, 59.887208476960296], [29.844282100000004, 59.8871379], [29.84416376796644, 59.88693006918892], [29.843949147992436, 59.8865531176891], [29.8438696, 59.886413399999995], [29.843829683300847, 59.88635009445367], [29.843726797343116, 59.886186922214016], [29.8436503, 59.8860656], [29.8435906, 59.88597089999999], [29.84357043564765, 59.885936695743425], [29.84343930104345, 59.88571425384432], [29.8433993, 59.88564639999999], [29.8433556, 59.8855721], [29.84335446995458, 59.885570184535595], [29.8433274, 59.88552429999998], [29.8432075, 59.8853208], [29.84310923628378, 59.88515406747216], [29.843054799999997, 59.8850617], [29.842980600000004, 59.88493580000001], [29.842905, 59.884807499999994], [29.842748300000004, 59.884541599999984], [29.8427233, 59.884499700000006], [29.842983000000004, 59.8844281], [29.8431855, 59.884350799999986], [29.8433304, 59.8843117], [29.8434444, 59.88429759999998], [29.8435476, 59.8842949], [29.843677100000004, 59.8843046], [29.8438735, 59.8842434], [29.8441974, 59.884133399999975], [29.8445311, 59.88404440000001], [29.844617999999997, 59.884012], [29.8447862, 59.8839541], [29.84493680242521, 59.883909116814245], [29.8449921, 59.883892599999996], [29.8458785, 59.883699699999994], [29.8461172, 59.883652299999994], [29.846381700000002, 59.88360260000001], [29.8465115, 59.88358330000002], [29.8466416, 59.8835762], [29.846744800000003, 59.88363609999999], [29.846798500000002, 59.88371759999999], [29.8469205, 59.883930199999995], [29.8470694, 59.88415159999998], [29.8471726, 59.884358199999994], [29.847253100000003, 59.88449609999999], [29.847368099999997, 59.8845863], [29.8474261, 59.8845318], [29.8478982, 59.884410599999995], [29.8483045, 59.884299999999996], [29.8484386, 59.88424979999999], [29.8485801, 59.88417580000001], [29.848720300000004, 59.88408869999999], [29.848875800000002, 59.883977299999984], [29.848971299999995, 59.88390400000001], [29.849020700000004, 59.883871700000014], [29.849066300000004, 59.8838481], [29.849126, 59.883827200000006], [29.849199800000005, 59.88380590000001], [29.8494013, 59.883762300000015], [29.849890096973418, 59.88365899493284], [29.850062300000005, 59.88362259999999], [29.8510171, 59.88342079999998], [29.851713800000002, 59.88327000000002], [29.85221769117169, 59.88316315531599], [29.852927456056857, 59.883012652869745], [29.853666200000003, 59.882856], [29.85368159932958, 59.88285275261023], [29.85435813906838, 59.88271008240785], [29.854653000000003, 59.8826479], [29.854840399859636, 59.88260811200597], [29.854932300000005, 59.882588599999984], [29.8552401, 59.8825232], [29.8554147, 59.88248560000001], [29.8555231, 59.8824593], [29.855663399999997, 59.88242530000001], [29.85593913724999, 59.88235516642166], [29.8561863, 59.8822923], [29.85624289801045, 59.88227791104344], [29.8565407, 59.8822022], [29.857368800000003, 59.881990499999986], [29.857481, 59.88196180000002], [29.85764870889858, 59.881918878434476], [29.858113199999995, 59.8818], [29.8584398, 59.88171489999999], [29.858653299999997, 59.881662], [29.8593748, 59.881477600000004], [29.8601631, 59.88127610000001], [29.860921000000005, 59.8810824], [29.860982650165123, 59.881066684303754], [29.860811424827936, 59.88095716850304], [29.86014005855637, 59.88026028189666], [29.858231121684227, 59.88069904927382], [29.8571118559146, 59.880956293100624], [29.856934300000002, 59.88099710000001], [29.856260500000005, 59.88115239999998], [29.855444966058695, 59.88133964788027], [29.855168344066193, 59.881403159089416], [29.854841499999996, 59.881478200000004], [29.85364563821416, 59.88175328666912], [29.852632344962633, 59.881986364561165], [29.85167329915711, 59.88220695418556], [29.849183, 59.88277969999999], [29.848691386325097, 59.88289357390835], [29.848128299999996, 59.88302399999998], [29.848112900000004, 59.8830276], [29.848005400000005, 59.8830523], [29.84485765622198, 59.883773303496476], [29.844449000000004, 59.88386689999998], [29.84269090802145, 59.88426707524903], [29.841282199999995, 59.8845877], [29.83995534467939, 59.884891933625354], [29.839953483222047, 59.88489236042407], [29.8390906, 59.8850902]]], &quot;type&quot;: &quot;Polygon&quot;}, &quot;id&quot;: &quot;782&quot;, &quot;properties&quot;: {&quot;tags&quot;: &quot;[\\u0027RECREATIONAL\\u0027]&quot;}, &quot;type&quot;: &quot;Feature&quot;}, {&quot;bbox&quot;: [29.853666200000003, 59.8825232, 29.8590484, 59.88803320000001], &quot;geometry&quot;: {&quot;coordinates&quot;: [[[29.8585568, 59.88719259999998], [29.858501, 59.887120299999985], [29.858385600000002, 59.886974300000006], [29.858275700000004, 59.886841100000005], [29.858177099999995, 59.88672840000001], [29.8579082, 59.88642170000001], [29.8576502, 59.8861285], [29.857434800000004, 59.8858657], [29.857230500000004, 59.885603400000015], [29.8570631, 59.8853877], [29.856886200000005, 59.8851388], [29.8568512, 59.885084499999984], [29.8566706, 59.884804299999985], [29.856271799999995, 59.8841731], [29.856075, 59.8838579], [29.8558934, 59.88357129999999], [29.855673300000003, 59.883219], [29.8554715, 59.88289470000001], [29.8553019, 59.8826222], [29.8552401, 59.8825232], [29.854932300000005, 59.882588599999984], [29.854653000000003, 59.8826479], [29.853666200000003, 59.882856], [29.853710300000003, 59.88290580000001], [29.8537438, 59.882945600000006], [29.8538002, 59.8830109], [29.854255699999996, 59.8835615], [29.854450799999995, 59.88384269999999], [29.8545702, 59.8840406], [29.8546471, 59.88418350000002], [29.8546694, 59.88422489999999], [29.8546882, 59.8843235], [29.854677500000005, 59.884487400000005], [29.854654, 59.8846954], [29.8546359, 59.88481299999999], [29.854609100000005, 59.8849603], [29.854692599999996, 59.8851097], [29.855085, 59.885739400000006], [29.8555059, 59.88644659999999], [29.855697900000003, 59.8867635], [29.855948, 59.88718579999998], [29.8563652, 59.887130899999995], [29.8564696, 59.8871196], [29.856582900000003, 59.8871133], [29.8567025, 59.8871189], [29.856798400000002, 59.8871364], [29.856892800000004, 59.88716349999999], [29.856984799999996, 59.88720509999999], [29.8570472, 59.88725049999999], [29.857094899999996, 59.88730040000001], [29.857600200000004, 59.88788110000001], [29.8576403, 59.887928100000025], [29.857677099999997, 59.88797340000001], [29.8577176, 59.88803320000001], [29.8585567, 59.8879205], [29.8588374, 59.88788279999999], [29.8590484, 59.887852399999986], [29.8589282, 59.8876862], [29.858745, 59.887439500000006], [29.8586888, 59.88736370000001], [29.8585853, 59.887229500000004], [29.8585568, 59.88719259999998]]], &quot;type&quot;: &quot;Polygon&quot;}, &quot;id&quot;: &quot;14298&quot;, &quot;properties&quot;: {&quot;tags&quot;: &quot;[\\u0027RESIDENTIAL\\u0027]&quot;}, &quot;type&quot;: &quot;Feature&quot;}, {&quot;bbox&quot;: [29.8577003, 59.887852399999986, 29.861493999999997, 59.8915136], &quot;geometry&quot;: {&quot;coordinates&quot;: [[[29.861493999999997, 59.891208899999974], [29.8613369, 59.8909911], [29.861136500000004, 59.89071830000001], [29.8609821, 59.8905082], [29.860527400000002, 59.88989040000002], [29.8599574, 59.889106399999996], [29.8598849, 59.8890056], [29.859528300000004, 59.888510000000025], [29.8595101, 59.888484500000004], [29.8593641, 59.888284], [29.859154199999995, 59.88799590000001], [29.8590484, 59.887852399999986], [29.8588374, 59.88788279999999], [29.8585567, 59.8879205], [29.8577176, 59.88803320000001], [29.8577003, 59.88810869999999], [29.857889400000005, 59.888469999999984], [29.8579082, 59.888547999999986], [29.857873299999998, 59.88879699999999], [29.858262299999996, 59.88951839999999], [29.8584629, 59.88989029999999], [29.8586485, 59.89023460000002], [29.8588335, 59.890577699999994], [29.859003199999997, 59.890894], [29.859263, 59.8913812], [29.859333300000003, 59.8915136], [29.860143200000003, 59.891396800000024], [29.861168099999997, 59.891255999999984], [29.861493999999997, 59.891208899999974]]], &quot;type&quot;: &quot;Polygon&quot;}, &quot;id&quot;: &quot;13599&quot;, &quot;properties&quot;: {&quot;tags&quot;: &quot;[\\u0027RESIDENTIAL\\u0027]&quot;}, &quot;type&quot;: &quot;Feature&quot;}, {&quot;bbox&quot;: [29.8574401, 59.889022799999985, 29.8778651, 59.894368499999985], &quot;geometry&quot;: {&quot;coordinates&quot;: [[[29.8578612, 59.89350430000001], [29.8580438, 59.894368499999985], [29.8588473, 59.894321799999986], [29.859196199999996, 59.89430259999999], [29.860098200000003, 59.894248900000015], [29.8611646, 59.89420779999999], [29.8614128, 59.89419689999998], [29.8617035, 59.894183000000005], [29.8619865, 59.89416079999999], [29.862274800000005, 59.894131899999984], [29.862416400000004, 59.894112600000014], [29.862560200000004, 59.894092900000004], [29.863001000000004, 59.89402199999995], [29.863322400000005, 59.89396709999998], [29.8633853, 59.8939576], [29.863612399999997, 59.8939171], [29.863838900000005, 59.8938776], [29.8651829, 59.89364290000002], [29.866297999999997, 59.89344819999998], [29.866464, 59.89341919999999], [29.8688361, 59.893005699999996], [29.868970600000004, 59.89298230000002], [29.869845100000003, 59.892829899999974], [29.870486400000004, 59.892722500000005], [29.871124100000003, 59.89263549999999], [29.871197, 59.89262719999998], [29.871810700000005, 59.892557], [29.8721494, 59.89251740000001], [29.872482100000003, 59.89246779999999], [29.8727468, 59.8924208], [29.8730134, 59.89236289999997], [29.8733684, 59.892275999999995], [29.873674000000005, 59.8921977], [29.873794399999998, 59.892166999999986], [29.8745244, 59.89198050000001], [29.875232, 59.891799700000014], [29.875280100000005, 59.891787300000004], [29.876077500000005, 59.89158090000001], [29.876682300000002, 59.8914275], [29.8769861, 59.89134849999999], [29.877267400000004, 59.89126649999997], [29.877405200000002, 59.8912149], [29.877534, 59.89115600000001], [29.877658, 59.89108000000001], [29.8777565, 59.890994699999986], [29.877796800000002, 59.89094499999996], [29.8778276, 59.8908939], [29.8778651, 59.8907871], [29.877860600000005, 59.8906188], [29.877711200000004, 59.89030950000001], [29.877217399999996, 59.88938829999999], [29.877189900000005, 59.889330799999996], [29.877170500000002, 59.8892757], [29.877163800000005, 59.8892121], [29.877176299999995, 59.88912470000001], [29.877200299999995, 59.889074100000016], [29.877232800000005, 59.889022799999985], [29.877005499999996, 59.88905019999999], [29.876767200000003, 59.889085500000014], [29.8764978, 59.88912249999999], [29.8762763, 59.8891529], [29.874240300000004, 59.889435399999996], [29.872820899999997, 59.889634799999975], [29.872298699999998, 59.88970819999999], [29.8720414, 59.88974429999999], [29.8719072, 59.8897631], [29.871421, 59.88982960000001], [29.871351300000004, 59.8898391], [29.8711479, 59.88986699999996], [29.871077300000003, 59.88987660000001], [29.870942200000005, 59.88989509999999], [29.870289299999996, 59.88998440000001], [29.8701412, 59.89000519999997], [29.869421399999997, 59.8901062], [29.868916600000002, 59.89017719999998], [29.868714300000004, 59.890205699999996], [29.868114700000003, 59.89028990000002], [29.866916200000002, 59.89045449999999], [29.8663347, 59.89053789999999], [29.8650491, 59.8907169], [29.864536300000005, 59.890788199999996], [29.8644066, 59.89080560000001], [29.863777, 59.8908936], [29.863353799999995, 59.890952099999986], [29.862362500000003, 59.891089099999995], [29.8617846, 59.891168999999984], [29.861493999999997, 59.891208899999974], [29.861168099999997, 59.891255999999984], [29.860143200000003, 59.891396800000024], [29.859333300000003, 59.8915136], [29.857716000000003, 59.8917514], [29.857470000000003, 59.89179450000001], [29.857444199999996, 59.89184460000001], [29.8574437, 59.891852300000004], [29.8574401, 59.8919038], [29.8578612, 59.89350430000001]]], &quot;type&quot;: &quot;Polygon&quot;}, &quot;id&quot;: &quot;13743&quot;, &quot;properties&quot;: {&quot;tags&quot;: &quot;[\\u0027RECREATIONAL\\u0027]&quot;}, &quot;type&quot;: &quot;Feature&quot;}], &quot;type&quot;: &quot;FeatureCollection&quot;});\n",
       "\n",
       "        \n",
       "    \n",
       "    geo_json_7663847d2c2c779de896a69c4e730496.bindTooltip(\n",
       "    function(layer){\n",
       "    let div = L.DomUtil.create(&#x27;div&#x27;);\n",
       "    \n",
       "    let handleObject = feature=&gt;typeof(feature)==&#x27;object&#x27; ? JSON.stringify(feature) : feature;\n",
       "    let fields = [&quot;tags&quot;];\n",
       "    let aliases = [&quot;tags&quot;];\n",
       "    let table = &#x27;&lt;table&gt;&#x27; +\n",
       "        String(\n",
       "        fields.map(\n",
       "        (v,i)=&gt;\n",
       "        `&lt;tr&gt;\n",
       "            &lt;th&gt;${aliases[i]}&lt;/th&gt;\n",
       "            \n",
       "            &lt;td&gt;${handleObject(layer.feature.properties[v])}&lt;/td&gt;\n",
       "        &lt;/tr&gt;`).join(&#x27;&#x27;))\n",
       "    +&#x27;&lt;/table&gt;&#x27;;\n",
       "    div.innerHTML=table;\n",
       "    \n",
       "    return div\n",
       "    }\n",
       "    ,{&quot;className&quot;: &quot;foliumtooltip&quot;, &quot;sticky&quot;: true});\n",
       "                     \n",
       "&lt;/script&gt;\n",
       "&lt;/html&gt;\" style=\"position:absolute;width:100%;height:100%;left:0;top:0;border:none !important;\" allowfullscreen webkitallowfullscreen mozallowfullscreen></iframe></div></div>"
      ],
      "text/plain": [
       "<folium.folium.Map at 0x25f3cac9840>"
      ]
     },
     "execution_count": 98,
     "metadata": {},
     "output_type": "execute_result"
    }
   ],
   "source": [
    "selected_polygons.explore()"
   ]
  },
  {
   "cell_type": "code",
   "execution_count": 21,
   "metadata": {},
   "outputs": [
    {
     "data": {
      "text/html": [
       "<div style=\"width:100%;\"><div style=\"position:relative;width:100%;height:0;padding-bottom:60%;\"><span style=\"color:#565656\">Make this Notebook Trusted to load map: File -> Trust Notebook</span><iframe srcdoc=\"&lt;!DOCTYPE html&gt;\n",
       "&lt;html&gt;\n",
       "&lt;head&gt;\n",
       "    \n",
       "    &lt;meta http-equiv=&quot;content-type&quot; content=&quot;text/html; charset=UTF-8&quot; /&gt;\n",
       "    \n",
       "        &lt;script&gt;\n",
       "            L_NO_TOUCH = false;\n",
       "            L_DISABLE_3D = false;\n",
       "        &lt;/script&gt;\n",
       "    \n",
       "    &lt;style&gt;html, body {width: 100%;height: 100%;margin: 0;padding: 0;}&lt;/style&gt;\n",
       "    &lt;style&gt;#map {position:absolute;top:0;bottom:0;right:0;left:0;}&lt;/style&gt;\n",
       "    &lt;script src=&quot;https://cdn.jsdelivr.net/npm/leaflet@1.9.3/dist/leaflet.js&quot;&gt;&lt;/script&gt;\n",
       "    &lt;script src=&quot;https://code.jquery.com/jquery-1.12.4.min.js&quot;&gt;&lt;/script&gt;\n",
       "    &lt;script src=&quot;https://cdn.jsdelivr.net/npm/bootstrap@5.2.2/dist/js/bootstrap.bundle.min.js&quot;&gt;&lt;/script&gt;\n",
       "    &lt;script src=&quot;https://cdnjs.cloudflare.com/ajax/libs/Leaflet.awesome-markers/2.0.2/leaflet.awesome-markers.js&quot;&gt;&lt;/script&gt;\n",
       "    &lt;link rel=&quot;stylesheet&quot; href=&quot;https://cdn.jsdelivr.net/npm/leaflet@1.9.3/dist/leaflet.css&quot;/&gt;\n",
       "    &lt;link rel=&quot;stylesheet&quot; href=&quot;https://cdn.jsdelivr.net/npm/bootstrap@5.2.2/dist/css/bootstrap.min.css&quot;/&gt;\n",
       "    &lt;link rel=&quot;stylesheet&quot; href=&quot;https://netdna.bootstrapcdn.com/bootstrap/3.0.0/css/bootstrap.min.css&quot;/&gt;\n",
       "    &lt;link rel=&quot;stylesheet&quot; href=&quot;https://cdn.jsdelivr.net/npm/@fortawesome/fontawesome-free@6.2.0/css/all.min.css&quot;/&gt;\n",
       "    &lt;link rel=&quot;stylesheet&quot; href=&quot;https://cdnjs.cloudflare.com/ajax/libs/Leaflet.awesome-markers/2.0.2/leaflet.awesome-markers.css&quot;/&gt;\n",
       "    &lt;link rel=&quot;stylesheet&quot; href=&quot;https://cdn.jsdelivr.net/gh/python-visualization/folium/folium/templates/leaflet.awesome.rotate.min.css&quot;/&gt;\n",
       "    \n",
       "            &lt;meta name=&quot;viewport&quot; content=&quot;width=device-width,\n",
       "                initial-scale=1.0, maximum-scale=1.0, user-scalable=no&quot; /&gt;\n",
       "            &lt;style&gt;\n",
       "                #map_376d76565e07e8ab7d0fa97809014b49 {\n",
       "                    position: relative;\n",
       "                    width: 100.0%;\n",
       "                    height: 100.0%;\n",
       "                    left: 0.0%;\n",
       "                    top: 0.0%;\n",
       "                }\n",
       "                .leaflet-container { font-size: 1rem; }\n",
       "            &lt;/style&gt;\n",
       "        \n",
       "    \n",
       "                    &lt;style&gt;\n",
       "                        .foliumtooltip {\n",
       "                            \n",
       "                        }\n",
       "                       .foliumtooltip table{\n",
       "                            margin: auto;\n",
       "                        }\n",
       "                        .foliumtooltip tr{\n",
       "                            text-align: left;\n",
       "                        }\n",
       "                        .foliumtooltip th{\n",
       "                            padding: 2px; padding-right: 8px;\n",
       "                        }\n",
       "                    &lt;/style&gt;\n",
       "            \n",
       "&lt;/head&gt;\n",
       "&lt;body&gt;\n",
       "    \n",
       "    \n",
       "            &lt;div class=&quot;folium-map&quot; id=&quot;map_376d76565e07e8ab7d0fa97809014b49&quot; &gt;&lt;/div&gt;\n",
       "        \n",
       "&lt;/body&gt;\n",
       "&lt;script&gt;\n",
       "    \n",
       "    \n",
       "            var map_376d76565e07e8ab7d0fa97809014b49 = L.map(\n",
       "                &quot;map_376d76565e07e8ab7d0fa97809014b49&quot;,\n",
       "                {\n",
       "                    center: [59.78191644592373, 30.376384490367272],\n",
       "                    crs: L.CRS.EPSG3857,\n",
       "                    zoom: 10,\n",
       "                    zoomControl: true,\n",
       "                    preferCanvas: false,\n",
       "                }\n",
       "            );\n",
       "            L.control.scale().addTo(map_376d76565e07e8ab7d0fa97809014b49);\n",
       "\n",
       "            \n",
       "\n",
       "        \n",
       "    \n",
       "            var tile_layer_9455923ebc2cbdde3edbd98341e10448 = L.tileLayer(\n",
       "                &quot;https://{s}.tile.openstreetmap.org/{z}/{x}/{y}.png&quot;,\n",
       "                {&quot;attribution&quot;: &quot;Data by \\u0026copy; \\u003ca target=\\&quot;_blank\\&quot; href=\\&quot;http://openstreetmap.org\\&quot;\\u003eOpenStreetMap\\u003c/a\\u003e, under \\u003ca target=\\&quot;_blank\\&quot; href=\\&quot;http://www.openstreetmap.org/copyright\\&quot;\\u003eODbL\\u003c/a\\u003e.&quot;, &quot;detectRetina&quot;: false, &quot;maxNativeZoom&quot;: 18, &quot;maxZoom&quot;: 18, &quot;minZoom&quot;: 0, &quot;noWrap&quot;: false, &quot;opacity&quot;: 1, &quot;subdomains&quot;: &quot;abc&quot;, &quot;tms&quot;: false}\n",
       "            ).addTo(map_376d76565e07e8ab7d0fa97809014b49);\n",
       "        \n",
       "    \n",
       "            map_376d76565e07e8ab7d0fa97809014b49.fitBounds(\n",
       "                [[59.757618091847455, 30.351662680734545], [59.80621479999999, 30.401106300000002]],\n",
       "                {}\n",
       "            );\n",
       "        \n",
       "    \n",
       "        function geo_json_0908ef24d8558d1d6a6eb506db679c3c_styler(feature) {\n",
       "            switch(feature.id) {\n",
       "                default:\n",
       "                    return {&quot;fillOpacity&quot;: 0.5, &quot;weight&quot;: 2};\n",
       "            }\n",
       "        }\n",
       "        function geo_json_0908ef24d8558d1d6a6eb506db679c3c_highlighter(feature) {\n",
       "            switch(feature.id) {\n",
       "                default:\n",
       "                    return {&quot;fillOpacity&quot;: 0.75};\n",
       "            }\n",
       "        }\n",
       "        function geo_json_0908ef24d8558d1d6a6eb506db679c3c_pointToLayer(feature, latlng) {\n",
       "            var opts = {&quot;bubblingMouseEvents&quot;: true, &quot;color&quot;: &quot;#3388ff&quot;, &quot;dashArray&quot;: null, &quot;dashOffset&quot;: null, &quot;fill&quot;: true, &quot;fillColor&quot;: &quot;#3388ff&quot;, &quot;fillOpacity&quot;: 0.2, &quot;fillRule&quot;: &quot;evenodd&quot;, &quot;lineCap&quot;: &quot;round&quot;, &quot;lineJoin&quot;: &quot;round&quot;, &quot;opacity&quot;: 1.0, &quot;radius&quot;: 2, &quot;stroke&quot;: true, &quot;weight&quot;: 3};\n",
       "            \n",
       "            let style = geo_json_0908ef24d8558d1d6a6eb506db679c3c_styler(feature)\n",
       "            Object.assign(opts, style)\n",
       "            \n",
       "            return new L.CircleMarker(latlng, opts)\n",
       "        }\n",
       "\n",
       "        function geo_json_0908ef24d8558d1d6a6eb506db679c3c_onEachFeature(feature, layer) {\n",
       "            layer.on({\n",
       "                mouseout: function(e) {\n",
       "                    if(typeof e.target.setStyle === &quot;function&quot;){\n",
       "                        geo_json_0908ef24d8558d1d6a6eb506db679c3c.resetStyle(e.target);\n",
       "                    }\n",
       "                },\n",
       "                mouseover: function(e) {\n",
       "                    if(typeof e.target.setStyle === &quot;function&quot;){\n",
       "                        const highlightStyle = geo_json_0908ef24d8558d1d6a6eb506db679c3c_highlighter(e.target.feature)\n",
       "                        e.target.setStyle(highlightStyle);\n",
       "                    }\n",
       "                },\n",
       "            });\n",
       "        };\n",
       "        var geo_json_0908ef24d8558d1d6a6eb506db679c3c = L.geoJson(null, {\n",
       "                onEachFeature: geo_json_0908ef24d8558d1d6a6eb506db679c3c_onEachFeature,\n",
       "            \n",
       "                style: geo_json_0908ef24d8558d1d6a6eb506db679c3c_styler,\n",
       "                pointToLayer: geo_json_0908ef24d8558d1d6a6eb506db679c3c_pointToLayer\n",
       "        });\n",
       "\n",
       "        function geo_json_0908ef24d8558d1d6a6eb506db679c3c_add (data) {\n",
       "            geo_json_0908ef24d8558d1d6a6eb506db679c3c\n",
       "                .addData(data)\n",
       "                .addTo(map_376d76565e07e8ab7d0fa97809014b49);\n",
       "        }\n",
       "            geo_json_0908ef24d8558d1d6a6eb506db679c3c_add({&quot;bbox&quot;: [30.351662680734545, 59.757618091847455, 30.401106300000002, 59.80621479999999], &quot;features&quot;: [{&quot;bbox&quot;: [30.374979100000004, 59.80136269371152, 30.383308999999997, 59.8042752], &quot;geometry&quot;: {&quot;coordinates&quot;: [[[30.3831792, 59.80242950000001], [30.3830051, 59.80240310000001], [30.3825637, 59.80233739999996], [30.382085700000005, 59.80226729999998], [30.3811259, 59.8021381], [30.380391, 59.802034800000015], [30.3794432, 59.8018658], [30.3779986, 59.801626099999986], [30.377084600000003, 59.801514600000004], [30.376455600000003, 59.801448499999985], [30.3761155, 59.8014173], [30.375575799999996, 59.80136949999999], [30.37548234411007, 59.80136269371152], [30.3754531, 59.801451699999994], [30.375436500000003, 59.80152709999999], [30.3754085, 59.8016545], [30.3753769, 59.80180029999997], [30.3752194, 59.8025271], [30.375100499999995, 59.8030828], [30.375071200000004, 59.8032197], [30.375065200000005, 59.8032475], [30.3750412, 59.803361299999985], [30.375015799999996, 59.80348219999999], [30.375008200000003, 59.803518099999984], [30.374979100000004, 59.80360950000001], [30.375198500000003, 59.803632799999974], [30.376705599999998, 59.80379310000001], [30.3789193, 59.804028499999994], [30.381296799999998, 59.8042752], [30.3813846, 59.80412090000001], [30.3816069, 59.803963100000004], [30.3822768, 59.803482399999986], [30.3824505, 59.803343100000006], [30.382675, 59.80315789999999], [30.382918599999996, 59.80289109999999], [30.383015200000003, 59.80278519999999], [30.383207600000002, 59.802551600000015], [30.3832299, 59.80253150000001], [30.383308999999997, 59.8024494], [30.3831792, 59.80242950000001]]], &quot;type&quot;: &quot;Polygon&quot;}, &quot;id&quot;: &quot;6773&quot;, &quot;properties&quot;: {&quot;tags&quot;: &quot;[\\u0027RESIDENTIAL\\u0027]&quot;}, &quot;type&quot;: &quot;Feature&quot;}, {&quot;bbox&quot;: [30.368634400000005, 59.8007022, 30.37548234411007, 59.80621479999999], &quot;geometry&quot;: {&quot;coordinates&quot;: [[[30.3706951, 59.80582010000003], [30.3713376, 59.8058991], [30.3715413, 59.80592419999999], [30.371672000000004, 59.80594029999997], [30.372093700000004, 59.8059921], [30.372362600000002, 59.80602520000001], [30.3726058, 59.8060551], [30.3736487, 59.80618340000001], [30.3739043, 59.80621479999999], [30.373967800000003, 59.80606280000001], [30.3740514, 59.805862700000006], [30.3741197, 59.80569599999996], [30.3742739, 59.805319699999984], [30.3742842, 59.805294800000006], [30.374654700000004, 59.80439640000003], [30.3748085, 59.80402309999999], [30.3748797, 59.80385040000001], [30.374925199999996, 59.803739900000004], [30.3749438, 59.8036949], [30.374979100000004, 59.80360950000001], [30.375008200000003, 59.803518099999984], [30.375015799999996, 59.80348219999999], [30.3750412, 59.803361299999985], [30.375065200000005, 59.8032475], [30.375071200000004, 59.8032197], [30.375100499999995, 59.8030828], [30.3752194, 59.8025271], [30.3753769, 59.80180029999997], [30.3754085, 59.8016545], [30.375436500000003, 59.80152709999999], [30.3754531, 59.801451699999994], [30.37548234411007, 59.80136269371152], [30.3750307, 59.801329799999976], [30.3747701, 59.8013128], [30.373714599999996, 59.80118470000001], [30.3705186, 59.8007894], [30.3702389, 59.8007022], [30.3701708, 59.800876300000006], [30.370034199999996, 59.80120959999999], [30.369685999999998, 59.80221650000001], [30.3696351, 59.80240749999999], [30.3695412, 59.80276000000003], [30.369447499999996, 59.80306949999999], [30.3692556, 59.8036217], [30.3692463, 59.803651], [30.3691643, 59.80391009999997], [30.368984100000002, 59.80449740000001], [30.3689731, 59.80453309999999], [30.3688628, 59.80489469999999], [30.3687607, 59.80519509999996], [30.368634400000005, 59.80556669999999], [30.3688867, 59.80559769999997], [30.370319500000004, 59.805773900000005], [30.3706951, 59.80582010000003]]], &quot;type&quot;: &quot;Polygon&quot;}, &quot;id&quot;: &quot;4538&quot;, &quot;properties&quot;: {&quot;tags&quot;: &quot;[\\u0027RESIDENTIAL\\u0027]&quot;}, &quot;type&quot;: &quot;Feature&quot;}, {&quot;bbox&quot;: [30.3701794, 59.7876255, 30.389273400000004, 59.802160699999995], &quot;geometry&quot;: {&quot;coordinates&quot;: [[[30.370549799999996, 59.80071290000001], [30.374844499999995, 59.801256], [30.3751098, 59.80127590000001], [30.3754006, 59.8012976], [30.375501300000003, 59.80130500000001], [30.3761578, 59.8013585], [30.3764642, 59.801382199999985], [30.376885400000003, 59.80142159999996], [30.3772783, 59.80146160000001], [30.3777171, 59.80151020000001], [30.3780139, 59.8015456], [30.3785115, 59.8016225], [30.379487800000003, 59.801771], [30.380889300000003, 59.802001], [30.3819698, 59.802160699999995], [30.3823981, 59.80135740000001], [30.3824358, 59.8012871], [30.382652900000004, 59.8008825], [30.382702499999997, 59.80082249999998], [30.382791599999997, 59.80079019999997], [30.382877199999996, 59.80077009999999], [30.383574800000005, 59.80071199999998], [30.383723699999997, 59.800457699999995], [30.384551900000005, 59.7990435], [30.3850137, 59.798281700000004], [30.385195699999997, 59.797976600000005], [30.385306, 59.79779419999997], [30.3856829, 59.79716659999996], [30.3857117, 59.79706989999999], [30.385777599999997, 59.79701959999999], [30.385825899999997, 59.79684830000003], [30.3859761, 59.796590499999986], [30.3860727, 59.79645019999999], [30.386212199999996, 59.79627750000001], [30.3863329, 59.7960737], [30.386383799999997, 59.795971200000004], [30.386508200000005, 59.7957754], [30.386603799999996, 59.79559330000001], [30.386729799999998, 59.7952452], [30.387003400000005, 59.7946393], [30.387462900000003, 59.7938424], [30.3882319, 59.7921819], [30.389233500000003, 59.79039329999998], [30.389273400000004, 59.79032209999998], [30.384187100000002, 59.7895449], [30.374976400000005, 59.78800229999999], [30.3732805, 59.7876255], [30.372933099999997, 59.78834029999999], [30.3728937, 59.7884422], [30.372869499999997, 59.7885218], [30.3728543, 59.78860669999999], [30.3728534, 59.78873730000001], [30.3729132, 59.78915889999999], [30.3730608, 59.7897582], [30.373142, 59.79006150000001], [30.373184600000002, 59.790238699999996], [30.373195399999997, 59.79032759999999], [30.3731988, 59.79039850000001], [30.373180000000005, 59.7905072], [30.3731565, 59.7906185], [30.3731281, 59.7907203], [30.373068, 59.79091519999999], [30.372737, 59.791981800000016], [30.372691800000002, 59.79213310000001], [30.372238399999997, 59.79365459999997], [30.3718935, 59.794830699999984], [30.371829099999996, 59.7950473], [30.3716158, 59.7956575], [30.371542700000003, 59.79590069999999], [30.3715224, 59.7959684], [30.3714451, 59.796242999999976], [30.371361100000005, 59.796551900000004], [30.371269399999996, 59.7968889], [30.371159599999995, 59.797301099999984], [30.3710444, 59.7977293], [30.370721, 59.79867110000001], [30.3706281, 59.79893079999996], [30.3705597, 59.799155899999995], [30.370468100000004, 59.7995156], [30.3701794, 59.8005669], [30.3702389, 59.8007022], [30.370549799999996, 59.80071290000001]]], &quot;type&quot;: &quot;Polygon&quot;}, &quot;id&quot;: &quot;6071&quot;, &quot;properties&quot;: {&quot;tags&quot;: &quot;[\\u0027AGRICULTURAL\\u0027]&quot;}, &quot;type&quot;: &quot;Feature&quot;}, {&quot;bbox&quot;: [30.3819698, 59.79032209999998, 30.392783100000003, 59.8031574], &quot;geometry&quot;: {&quot;coordinates&quot;: [[[30.3926569, 59.791350800000025], [30.392783100000003, 59.790857199999984], [30.3919568, 59.790737199999995], [30.389273400000004, 59.79032209999998], [30.389233500000003, 59.79039329999998], [30.3882319, 59.7921819], [30.387462900000003, 59.7938424], [30.387003400000005, 59.7946393], [30.386729799999998, 59.7952452], [30.386603799999996, 59.79559330000001], [30.386508200000005, 59.7957754], [30.386383799999997, 59.795971200000004], [30.3863329, 59.7960737], [30.386212199999996, 59.79627750000001], [30.3860727, 59.79645019999999], [30.3859761, 59.796590499999986], [30.385825899999997, 59.79684830000003], [30.385777599999997, 59.79701959999999], [30.3857117, 59.79706989999999], [30.3856829, 59.79716659999996], [30.385306, 59.79779419999997], [30.385195699999997, 59.797976600000005], [30.3850137, 59.798281700000004], [30.384551900000005, 59.7990435], [30.383723699999997, 59.800457699999995], [30.383574800000005, 59.80071199999998], [30.382877199999996, 59.80077009999999], [30.382791599999997, 59.80079019999997], [30.382702499999997, 59.80082249999998], [30.382652900000004, 59.8008825], [30.3824358, 59.8012871], [30.3823981, 59.80135740000001], [30.3819698, 59.802160699999995], [30.382105300000003, 59.80218279999999], [30.3825719, 59.80225460000001], [30.382767099999995, 59.802283199999984], [30.384749, 59.80259460000002], [30.3877418, 59.8030414], [30.3885318, 59.80314369999999], [30.3886374, 59.8031574], [30.3892804, 59.8018516], [30.3895145, 59.80138329999998], [30.389709800000002, 59.80097090000001], [30.3900178, 59.80030989999999], [30.3903092, 59.79960349999999], [30.3905514, 59.79898029999999], [30.390795, 59.79830380000001], [30.3909096, 59.79798890000001], [30.391390299999998, 59.79632880000001], [30.391471600000003, 59.796028199999995], [30.3916972, 59.7951211], [30.391828, 59.7946079], [30.392117, 59.79347690000001], [30.3921865, 59.793224800000004], [30.392226900000004, 59.7930652], [30.3922602, 59.792920499999994], [30.3925287, 59.79184789999998], [30.3926569, 59.791350800000025]]], &quot;type&quot;: &quot;Polygon&quot;}, &quot;id&quot;: &quot;5504&quot;, &quot;properties&quot;: {&quot;tags&quot;: &quot;[\\u0027AGRICULTURAL\\u0027]&quot;}, &quot;type&quot;: &quot;Feature&quot;}, {&quot;bbox&quot;: [30.351662680734545, 59.7874542355213, 30.37303863557935, 59.80130754189574], &quot;geometry&quot;: {&quot;coordinates&quot;: [[[30.3608538519636, 59.790067530662235], [30.35995731225197, 59.789838012221594], [30.354331567077363, 59.7874542355213], [30.3542351, 59.787540500000006], [30.351662680734545, 59.78998491143474], [30.353946882398503, 59.79602761688648], [30.35176757524638, 59.80130754189574], [30.358909500000003, 59.800000700000005], [30.360396638657374, 59.80009683751907], [30.360768900000004, 59.80012089999999], [30.360908799999997, 59.8000827], [30.360958255803727, 59.79986615309458], [30.360998599999995, 59.799689499999985], [30.361021399999995, 59.799646700000004], [30.3610748, 59.79962100000001], [30.361494082744578, 59.79964605674991], [30.361501500000003, 59.79964650000001], [30.361933600000004, 59.79969220000002], [30.362775458702846, 59.79979640266044], [30.3629346, 59.79981609999998], [30.363210635675845, 59.79985070681968], [30.364831373696944, 59.800053886980216], [30.365425000000002, 59.800128299999976], [30.3660364, 59.8002046], [30.366253200000003, 59.80023169999999], [30.366586420393983, 59.800271525784694], [30.366845143154368, 59.80030244712643], [30.367169399999998, 59.80034120000002], [30.3680663, 59.8004484], [30.368125899999995, 59.8004562], [30.3699199, 59.8006896], [30.3702389, 59.8007022], [30.3701794, 59.8005669], [30.370264007847993, 59.80025880810862], [30.370468100000004, 59.7995156], [30.3705597, 59.799155899999995], [30.3706281, 59.79893079999996], [30.370721, 59.79867110000001], [30.370740954228086, 59.79861299126113], [30.370846155021397, 59.798306632330466], [30.3710444, 59.7977293], [30.371127131485935, 59.797421787098074], [30.371159599999995, 59.797301099999984], [30.371269399999996, 59.7968889], [30.37132391132514, 59.79668857026448], [30.371361100000005, 59.796551900000004], [30.3714451, 59.796242999999976], [30.37152224019839, 59.795968967683116], [30.3715224, 59.7959684], [30.371542700000003, 59.79590069999999], [30.3716158, 59.7956575], [30.371798655619973, 59.79513439549152], [30.371829099999996, 59.7950473], [30.3718935, 59.794830699999984], [30.372199411757745, 59.79378755328959], [30.372238399999997, 59.79365459999997], [30.372340111128302, 59.793313294996665], [30.372691800000002, 59.79213310000001], [30.372737, 59.791981800000016], [30.372782914309578, 59.79183385203408], [30.37303863557935, 59.79100982554666], [30.372001008634754, 59.790958743034686], [30.37084385761673, 59.79143178627298], [30.3608538519636, 59.790067530662235]]], &quot;type&quot;: &quot;Polygon&quot;}, &quot;id&quot;: &quot;484&quot;, &quot;properties&quot;: {&quot;tags&quot;: &quot;[\\u0027AGRICULTURAL\\u0027]&quot;}, &quot;type&quot;: &quot;Feature&quot;}, {&quot;bbox&quot;: [30.354331567077363, 59.77548395061871, 30.3818006, 59.79143178627298], &quot;geometry&quot;: {&quot;coordinates&quot;: [[[30.37303863557935, 59.79100982554666], [30.373068, 59.79091519999999], [30.3731281, 59.7907203], [30.3731565, 59.7906185], [30.373180000000005, 59.7905072], [30.3731988, 59.79039850000001], [30.373195399999997, 59.79032759999999], [30.373184600000002, 59.790238699999996], [30.373142, 59.79006150000001], [30.3730608, 59.7897582], [30.3729132, 59.78915889999999], [30.3728534, 59.78873730000001], [30.3728543, 59.78860669999999], [30.372869499999997, 59.7885218], [30.3728937, 59.7884422], [30.372933099999997, 59.78834029999999], [30.3732805, 59.7876255], [30.374407799999997, 59.78526900000001], [30.374665299999997, 59.7846845], [30.374769900000004, 59.7844739], [30.374839599999998, 59.784364599999975], [30.374934400000004, 59.78424950000001], [30.377981999999996, 59.7813125], [30.380387299999995, 59.778941499999995], [30.381772499999997, 59.7776344], [30.3818006, 59.7774854], [30.381554599999998, 59.777441], [30.373643400000002, 59.77647300000001], [30.3719856, 59.776265200000005], [30.3685843, 59.775828499999974], [30.3681005, 59.77575930000001], [30.3676528, 59.775685200000005], [30.3671699, 59.7755722], [30.3669145, 59.775489900000004], [30.366896680078266, 59.77548395061871], [30.366841700000002, 59.775536499999994], [30.361629852822755, 59.7805034784169], [30.354361800000003, 59.78742720000001], [30.354331567077363, 59.7874542355213], [30.35995731225197, 59.789838012221594], [30.3608538519636, 59.790067530662235], [30.37084385761673, 59.79143178627298], [30.372001008634754, 59.790958743034686], [30.37303863557935, 59.79100982554666]]], &quot;type&quot;: &quot;Polygon&quot;}, &quot;id&quot;: &quot;486&quot;, &quot;properties&quot;: {&quot;tags&quot;: &quot;[\\u0027AGRICULTURAL\\u0027]&quot;}, &quot;type&quot;: &quot;Feature&quot;}, {&quot;bbox&quot;: [30.366896680078266, 59.757618091847455, 30.401106300000002, 59.790857199999984], &quot;geometry&quot;: {&quot;coordinates&quot;: [[[30.3954022, 59.7607721], [30.395046, 59.760219], [30.393546800000003, 59.7579211], [30.393351950135045, 59.757618091847455], [30.392668399999998, 59.7577439], [30.391571800000005, 59.757962000000006], [30.3899049, 59.758330300000004], [30.388419, 59.7587063], [30.386898100000003, 59.759111], [30.3853854, 59.75954269999999], [30.3850473, 59.7596454], [30.3843802, 59.75983710000003], [30.383937699999997, 59.75996750000001], [30.383764820694388, 59.760020920757285], [30.3829322, 59.7602782], [30.3823426128238, 59.760466381753844], [30.382086000000005, 59.760898699999984], [30.381578699999995, 59.76145190000002], [30.381033699999996, 59.7619752], [30.3669548, 59.7754284], [30.366896680078266, 59.77548395061871], [30.3669145, 59.775489900000004], [30.3671699, 59.7755722], [30.3676528, 59.775685200000005], [30.3681005, 59.77575930000001], [30.3685843, 59.775828499999974], [30.3719856, 59.776265200000005], [30.373643400000002, 59.77647300000001], [30.381554599999998, 59.777441], [30.3818006, 59.7774854], [30.381772499999997, 59.7776344], [30.380387299999995, 59.778941499999995], [30.377981999999996, 59.7813125], [30.374934400000004, 59.78424950000001], [30.374839599999998, 59.784364599999975], [30.374769900000004, 59.7844739], [30.374665299999997, 59.7846845], [30.374407799999997, 59.78526900000001], [30.3732805, 59.7876255], [30.374976400000005, 59.78800229999999], [30.384187100000002, 59.7895449], [30.389273400000004, 59.79032209999998], [30.3919568, 59.790737199999995], [30.392783100000003, 59.790857199999984], [30.393018999999995, 59.78993409999999], [30.3934042, 59.78842219999997], [30.393696500000004, 59.78728279999994], [30.393870600000003, 59.7867492], [30.3941055, 59.7861309], [30.3944233, 59.785450999999995], [30.394651700000004, 59.7850217], [30.3951562, 59.784189600000005], [30.397973599999997, 59.78005599999999], [30.3989529, 59.7786251], [30.3996846, 59.7775009], [30.400018400000004, 59.7768876], [30.400496100000005, 59.77580050000001], [30.4007621, 59.7749964], [30.400868300000003, 59.774560699999995], [30.400990700000005, 59.77396170000001], [30.401055299999996, 59.7734967], [30.401105700000002, 59.772859100000005], [30.401106300000002, 59.7721277], [30.4010187, 59.77112150000001], [30.400923299999995, 59.7706196], [30.400792, 59.77004929999997], [30.4005053, 59.769156899999984], [30.399935900000003, 59.7678947], [30.3996734, 59.7674124], [30.3995752, 59.7672514], [30.3994384, 59.76702720000001], [30.3988944, 59.766174799999995], [30.398738, 59.76592019999999], [30.3975059, 59.7640367], [30.3965398, 59.76253029999998], [30.3954022, 59.7607721]]], &quot;type&quot;: &quot;Polygon&quot;}, &quot;id&quot;: &quot;4550&quot;, &quot;properties&quot;: {&quot;tags&quot;: &quot;[\\u0027AGRICULTURAL\\u0027]&quot;}, &quot;type&quot;: &quot;Feature&quot;}], &quot;type&quot;: &quot;FeatureCollection&quot;});\n",
       "\n",
       "        \n",
       "    \n",
       "    geo_json_0908ef24d8558d1d6a6eb506db679c3c.bindTooltip(\n",
       "    function(layer){\n",
       "    let div = L.DomUtil.create(&#x27;div&#x27;);\n",
       "    \n",
       "    let handleObject = feature=&gt;typeof(feature)==&#x27;object&#x27; ? JSON.stringify(feature) : feature;\n",
       "    let fields = [&quot;tags&quot;];\n",
       "    let aliases = [&quot;tags&quot;];\n",
       "    let table = &#x27;&lt;table&gt;&#x27; +\n",
       "        String(\n",
       "        fields.map(\n",
       "        (v,i)=&gt;\n",
       "        `&lt;tr&gt;\n",
       "            &lt;th&gt;${aliases[i]}&lt;/th&gt;\n",
       "            \n",
       "            &lt;td&gt;${handleObject(layer.feature.properties[v])}&lt;/td&gt;\n",
       "        &lt;/tr&gt;`).join(&#x27;&#x27;))\n",
       "    +&#x27;&lt;/table&gt;&#x27;;\n",
       "    div.innerHTML=table;\n",
       "    \n",
       "    return div\n",
       "    }\n",
       "    ,{&quot;className&quot;: &quot;foliumtooltip&quot;, &quot;sticky&quot;: true});\n",
       "                     \n",
       "&lt;/script&gt;\n",
       "&lt;/html&gt;\" style=\"position:absolute;width:100%;height:100%;left:0;top:0;border:none !important;\" allowfullscreen webkitallowfullscreen mozallowfullscreen></iframe></div></div>"
      ],
      "text/plain": [
       "<folium.folium.Map at 0x2aa0c6710c0>"
      ]
     },
     "execution_count": 21,
     "metadata": {},
     "output_type": "execute_result"
    }
   ],
   "source": [
    "selected_indices_2 = [6773, 4538,6071,5504,484,486,4550]\n",
    "# Извлечение полигонов с указанными индексами и столбцом 'tags'\n",
    "selected_polygons_2 = zoning_gdf.loc[selected_indices_2, ['geometry', 'tags']]\n",
    "\n",
    "# Шаг 2: Преобразуем столбец 'tags' в строковый тип, если это необходимо\n",
    "selected_polygons_2['tags'] = selected_polygons_2['tags'].astype(str)  # Преобразуем в строку\n",
    "# Убираем префикс 'Tag.' из значений в столбце 'tags'\n",
    "selected_polygons_2['tags'] = selected_polygons_2['tags'].str.replace('Tag.', '', regex=False)\n",
    "selected_polygons_2\n",
    "selected_polygons_2.to_file('selected_polygons_2.geojson', driver='GeoJSON')\n",
    "selected_polygons_2.explore()"
   ]
  },
  {
   "cell_type": "code",
   "execution_count": 23,
   "metadata": {},
   "outputs": [
    {
     "data": {
      "text/html": [
       "<div style=\"width:100%;\"><div style=\"position:relative;width:100%;height:0;padding-bottom:60%;\"><span style=\"color:#565656\">Make this Notebook Trusted to load map: File -> Trust Notebook</span><iframe srcdoc=\"&lt;!DOCTYPE html&gt;\n",
       "&lt;html&gt;\n",
       "&lt;head&gt;\n",
       "    \n",
       "    &lt;meta http-equiv=&quot;content-type&quot; content=&quot;text/html; charset=UTF-8&quot; /&gt;\n",
       "    \n",
       "        &lt;script&gt;\n",
       "            L_NO_TOUCH = false;\n",
       "            L_DISABLE_3D = false;\n",
       "        &lt;/script&gt;\n",
       "    \n",
       "    &lt;style&gt;html, body {width: 100%;height: 100%;margin: 0;padding: 0;}&lt;/style&gt;\n",
       "    &lt;style&gt;#map {position:absolute;top:0;bottom:0;right:0;left:0;}&lt;/style&gt;\n",
       "    &lt;script src=&quot;https://cdn.jsdelivr.net/npm/leaflet@1.9.3/dist/leaflet.js&quot;&gt;&lt;/script&gt;\n",
       "    &lt;script src=&quot;https://code.jquery.com/jquery-1.12.4.min.js&quot;&gt;&lt;/script&gt;\n",
       "    &lt;script src=&quot;https://cdn.jsdelivr.net/npm/bootstrap@5.2.2/dist/js/bootstrap.bundle.min.js&quot;&gt;&lt;/script&gt;\n",
       "    &lt;script src=&quot;https://cdnjs.cloudflare.com/ajax/libs/Leaflet.awesome-markers/2.0.2/leaflet.awesome-markers.js&quot;&gt;&lt;/script&gt;\n",
       "    &lt;link rel=&quot;stylesheet&quot; href=&quot;https://cdn.jsdelivr.net/npm/leaflet@1.9.3/dist/leaflet.css&quot;/&gt;\n",
       "    &lt;link rel=&quot;stylesheet&quot; href=&quot;https://cdn.jsdelivr.net/npm/bootstrap@5.2.2/dist/css/bootstrap.min.css&quot;/&gt;\n",
       "    &lt;link rel=&quot;stylesheet&quot; href=&quot;https://netdna.bootstrapcdn.com/bootstrap/3.0.0/css/bootstrap.min.css&quot;/&gt;\n",
       "    &lt;link rel=&quot;stylesheet&quot; href=&quot;https://cdn.jsdelivr.net/npm/@fortawesome/fontawesome-free@6.2.0/css/all.min.css&quot;/&gt;\n",
       "    &lt;link rel=&quot;stylesheet&quot; href=&quot;https://cdnjs.cloudflare.com/ajax/libs/Leaflet.awesome-markers/2.0.2/leaflet.awesome-markers.css&quot;/&gt;\n",
       "    &lt;link rel=&quot;stylesheet&quot; href=&quot;https://cdn.jsdelivr.net/gh/python-visualization/folium/folium/templates/leaflet.awesome.rotate.min.css&quot;/&gt;\n",
       "    \n",
       "            &lt;meta name=&quot;viewport&quot; content=&quot;width=device-width,\n",
       "                initial-scale=1.0, maximum-scale=1.0, user-scalable=no&quot; /&gt;\n",
       "            &lt;style&gt;\n",
       "                #map_10444d6a404d3d723890296fe7445470 {\n",
       "                    position: relative;\n",
       "                    width: 100.0%;\n",
       "                    height: 100.0%;\n",
       "                    left: 0.0%;\n",
       "                    top: 0.0%;\n",
       "                }\n",
       "                .leaflet-container { font-size: 1rem; }\n",
       "            &lt;/style&gt;\n",
       "        \n",
       "    \n",
       "                    &lt;style&gt;\n",
       "                        .foliumtooltip {\n",
       "                            \n",
       "                        }\n",
       "                       .foliumtooltip table{\n",
       "                            margin: auto;\n",
       "                        }\n",
       "                        .foliumtooltip tr{\n",
       "                            text-align: left;\n",
       "                        }\n",
       "                        .foliumtooltip th{\n",
       "                            padding: 2px; padding-right: 8px;\n",
       "                        }\n",
       "                    &lt;/style&gt;\n",
       "            \n",
       "&lt;/head&gt;\n",
       "&lt;body&gt;\n",
       "    \n",
       "    \n",
       "            &lt;div class=&quot;folium-map&quot; id=&quot;map_10444d6a404d3d723890296fe7445470&quot; &gt;&lt;/div&gt;\n",
       "        \n",
       "&lt;/body&gt;\n",
       "&lt;script&gt;\n",
       "    \n",
       "    \n",
       "            var map_10444d6a404d3d723890296fe7445470 = L.map(\n",
       "                &quot;map_10444d6a404d3d723890296fe7445470&quot;,\n",
       "                {\n",
       "                    center: [59.68682476258047, 30.38731504000393],\n",
       "                    crs: L.CRS.EPSG3857,\n",
       "                    zoom: 10,\n",
       "                    zoomControl: true,\n",
       "                    preferCanvas: false,\n",
       "                }\n",
       "            );\n",
       "            L.control.scale().addTo(map_10444d6a404d3d723890296fe7445470);\n",
       "\n",
       "            \n",
       "\n",
       "        \n",
       "    \n",
       "            var tile_layer_786008706420234f1b2c13163c0badc5 = L.tileLayer(\n",
       "                &quot;https://{s}.tile.openstreetmap.org/{z}/{x}/{y}.png&quot;,\n",
       "                {&quot;attribution&quot;: &quot;Data by \\u0026copy; \\u003ca target=\\&quot;_blank\\&quot; href=\\&quot;http://openstreetmap.org\\&quot;\\u003eOpenStreetMap\\u003c/a\\u003e, under \\u003ca target=\\&quot;_blank\\&quot; href=\\&quot;http://www.openstreetmap.org/copyright\\&quot;\\u003eODbL\\u003c/a\\u003e.&quot;, &quot;detectRetina&quot;: false, &quot;maxNativeZoom&quot;: 18, &quot;maxZoom&quot;: 18, &quot;minZoom&quot;: 0, &quot;noWrap&quot;: false, &quot;opacity&quot;: 1, &quot;subdomains&quot;: &quot;abc&quot;, &quot;tms&quot;: false}\n",
       "            ).addTo(map_10444d6a404d3d723890296fe7445470);\n",
       "        \n",
       "    \n",
       "            map_10444d6a404d3d723890296fe7445470.fitBounds(\n",
       "                [[59.671951925160926, 30.347603919181022], [59.70169760000001, 30.427026160826838]],\n",
       "                {}\n",
       "            );\n",
       "        \n",
       "    \n",
       "        function geo_json_bc6e54ec0c9145185bf349ecf1c44953_styler(feature) {\n",
       "            switch(feature.id) {\n",
       "                default:\n",
       "                    return {&quot;fillOpacity&quot;: 0.5, &quot;weight&quot;: 2};\n",
       "            }\n",
       "        }\n",
       "        function geo_json_bc6e54ec0c9145185bf349ecf1c44953_highlighter(feature) {\n",
       "            switch(feature.id) {\n",
       "                default:\n",
       "                    return {&quot;fillOpacity&quot;: 0.75};\n",
       "            }\n",
       "        }\n",
       "        function geo_json_bc6e54ec0c9145185bf349ecf1c44953_pointToLayer(feature, latlng) {\n",
       "            var opts = {&quot;bubblingMouseEvents&quot;: true, &quot;color&quot;: &quot;#3388ff&quot;, &quot;dashArray&quot;: null, &quot;dashOffset&quot;: null, &quot;fill&quot;: true, &quot;fillColor&quot;: &quot;#3388ff&quot;, &quot;fillOpacity&quot;: 0.2, &quot;fillRule&quot;: &quot;evenodd&quot;, &quot;lineCap&quot;: &quot;round&quot;, &quot;lineJoin&quot;: &quot;round&quot;, &quot;opacity&quot;: 1.0, &quot;radius&quot;: 2, &quot;stroke&quot;: true, &quot;weight&quot;: 3};\n",
       "            \n",
       "            let style = geo_json_bc6e54ec0c9145185bf349ecf1c44953_styler(feature)\n",
       "            Object.assign(opts, style)\n",
       "            \n",
       "            return new L.CircleMarker(latlng, opts)\n",
       "        }\n",
       "\n",
       "        function geo_json_bc6e54ec0c9145185bf349ecf1c44953_onEachFeature(feature, layer) {\n",
       "            layer.on({\n",
       "                mouseout: function(e) {\n",
       "                    if(typeof e.target.setStyle === &quot;function&quot;){\n",
       "                        geo_json_bc6e54ec0c9145185bf349ecf1c44953.resetStyle(e.target);\n",
       "                    }\n",
       "                },\n",
       "                mouseover: function(e) {\n",
       "                    if(typeof e.target.setStyle === &quot;function&quot;){\n",
       "                        const highlightStyle = geo_json_bc6e54ec0c9145185bf349ecf1c44953_highlighter(e.target.feature)\n",
       "                        e.target.setStyle(highlightStyle);\n",
       "                    }\n",
       "                },\n",
       "            });\n",
       "        };\n",
       "        var geo_json_bc6e54ec0c9145185bf349ecf1c44953 = L.geoJson(null, {\n",
       "                onEachFeature: geo_json_bc6e54ec0c9145185bf349ecf1c44953_onEachFeature,\n",
       "            \n",
       "                style: geo_json_bc6e54ec0c9145185bf349ecf1c44953_styler,\n",
       "                pointToLayer: geo_json_bc6e54ec0c9145185bf349ecf1c44953_pointToLayer\n",
       "        });\n",
       "\n",
       "        function geo_json_bc6e54ec0c9145185bf349ecf1c44953_add (data) {\n",
       "            geo_json_bc6e54ec0c9145185bf349ecf1c44953\n",
       "                .addData(data)\n",
       "                .addTo(map_10444d6a404d3d723890296fe7445470);\n",
       "        }\n",
       "            geo_json_bc6e54ec0c9145185bf349ecf1c44953_add({&quot;bbox&quot;: [30.347603919181022, 59.671951925160926, 30.427026160826838, 59.70169760000001], &quot;features&quot;: [{&quot;bbox&quot;: [30.3933978, 59.6756199, 30.41781506694217, 59.690083328448836], &quot;geometry&quot;: {&quot;coordinates&quot;: [[[30.393885957726116, 59.683783419200594], [30.39375019588087, 59.683807724520605], [30.3936928, 59.683817999999995], [30.3936124, 59.68389379999996], [30.393658, 59.68406980000002], [30.393711599999996, 59.68417680000001], [30.393941, 59.684499499999994], [30.39399737730848, 59.68456329116453], [30.3941372, 59.68472149999997], [30.3941279, 59.684807899999996], [30.394032399999997, 59.68488279999999], [30.393821735791587, 59.68499877370986], [30.3938186, 59.6850005], [30.393467335099864, 59.685180723890326], [30.3933978, 59.68521640000002], [30.393436400000002, 59.68528870000001], [30.3934885, 59.68538290000001], [30.3935359, 59.68547089999997], [30.3935861182651, 59.685565036927855], [30.3937264, 59.68582800000001], [30.393927425816738, 59.68619631653833], [30.3939296, 59.68620030000001], [30.393958, 59.68625240000001], [30.394037236069057, 59.686397565553285], [30.3941146, 59.686539300000014], [30.394254700000005, 59.68679619999999], [30.39435061650203, 59.68697204710253], [30.394369300000005, 59.6870063], [30.39439144058853, 59.6870468755062], [30.3945091, 59.6872625], [30.394578647912, 59.68738993658101], [30.394706638261788, 59.68762445798617], [30.394879723975443, 59.68794160398702], [30.395092299999998, 59.68833109999999], [30.3951366, 59.6884125], [30.395192800000004, 59.68842019999996], [30.395285, 59.6884329], [30.39543200321744, 59.68845314271993], [30.396650164562253, 59.68862087940555], [30.396781824528972, 59.68863900776114], [30.3970563, 59.6886768], [30.397612500000005, 59.688741099999994], [30.3978302, 59.6887445], [30.398107999999997, 59.68870849999998], [30.398439000000003, 59.688744], [30.399853900000004, 59.6889935], [30.40150161163971, 59.6893237562976], [30.4015158, 59.689326599999994], [30.4028024, 59.68960740000001], [30.4045186, 59.68995019999999], [30.4049897, 59.69002999999996], [30.405304646228945, 59.690083328448836], [30.406170805771303, 59.68794573068947], [30.407221515682995, 59.688159995816186], [30.4076495288167, 59.68813895364383], [30.408520493215565, 59.687611368555295], [30.408733347226427, 59.68718762313698], [30.4093772284839, 59.6872339182225], [30.412009108300325, 59.68552411330982], [30.41200615798563, 59.68545535402669], [30.41315524572594, 59.6852531224873], [30.414927919265182, 59.68482550220064], [30.416084795887617, 59.68448702516358], [30.41663554190137, 59.684303255690345], [30.41781506694217, 59.68357852437542], [30.4176236, 59.68338839999999], [30.417387, 59.68311520000001], [30.417025900000002, 59.68266819999999], [30.4167732, 59.6822231], [30.4166425, 59.6819665], [30.416533000000005, 59.681704800000006], [30.416368099999996, 59.6812244], [30.416048100000005, 59.6801761], [30.4158881, 59.679649399999995], [30.4157582, 59.67912200000001], [30.415719800000005, 59.67884339999998], [30.4157083, 59.6785657], [30.415759499999997, 59.6779915], [30.415826399999997, 59.6777049], [30.4159039, 59.67745749999999], [30.4159151, 59.6774219], [30.4159912, 59.67722569999998], [30.416020810216043, 59.67715695245831], [30.4159396, 59.6771496], [30.4157858, 59.67714019999999], [30.415631899999998, 59.67710799999998], [30.415511800000004, 59.677072], [30.415463000000003, 59.677017], [30.4153879, 59.6769658], [30.415297800000005, 59.676931700000004], [30.415173999999997, 59.676908999999995], [30.415072600000002, 59.6768995], [30.414959999999997, 59.6769223], [30.4148699, 59.67690710000001], [30.414746099999995, 59.67687870000001], [30.414663500000003, 59.67685399999998], [30.414558400000004, 59.676789600000006], [30.414490900000004, 59.67675739999999], [30.4144008, 59.67674220000001], [30.414350199999998, 59.6767138], [30.414320200000002, 59.67670170000001], [30.414293200000003, 59.67666990000001], [30.414257100000004, 59.6766471], [30.414209100000004, 59.6766244], [30.414185100000005, 59.676610800000006], [30.414191100000004, 59.676587999999995], [30.4142211, 59.67657439999996], [30.414191100000004, 59.6765547], [30.414131, 59.67655160000002], [30.41405, 59.67655920000001], [30.4139899, 59.67658039999997], [30.4139118, 59.67660769999999], [30.4138188, 59.676610800000006], [30.413734700000003, 59.67661679999999], [30.413647600000004, 59.676610800000006], [30.4135845, 59.67657889999999], [30.413521500000005, 59.6765441], [30.4134464, 59.6765168], [30.413365300000002, 59.6764925], [30.413272299999996, 59.676460699999986], [30.4131792, 59.6764243], [30.413110100000004, 59.676390899999994], [30.413038100000005, 59.676371199999984], [30.412975, 59.67635610000001], [30.4128849, 59.67635609999999], [30.412836899999995, 59.676357600000024], [30.412812899999995, 59.676384899999995], [30.4128189, 59.67642279999998], [30.4128249, 59.6764607], [30.412797800000003, 59.67649249999999], [30.412761800000002, 59.676518299999984], [30.412707799999996, 59.676540999999986], [30.412629700000004, 59.67653799999998], [30.412495900000003, 59.676553299999995], [30.412364500000002, 59.6765533], [30.4122782, 59.676538199999996], [30.4121881, 59.67652300000001], [30.412083000000003, 59.676521099999995], [30.4119892, 59.67652489999999], [30.4119441, 59.676526800000005], [30.4118803, 59.6765173], [30.4118428, 59.6764984], [30.4117377, 59.67648320000002], [30.4116852, 59.676483199999986], [30.411647599999995, 59.676502199999995], [30.4115988, 59.67651729999999], [30.411527500000002, 59.6765117], [30.411501300000005, 59.67647], [30.4114562, 59.676424499999996], [30.411414900000004, 59.6763809], [30.4113811, 59.676354399999994], [30.4113248, 59.6763316], [30.411268500000002, 59.676316500000006], [30.4111972, 59.67630509999999], [30.4110208, 59.67628239999998], [30.410949499999997, 59.67627479999999], [30.4108857, 59.676257699999994], [30.410829400000004, 59.676233100000005], [30.410791900000003, 59.6761876], [30.410803099999995, 59.6761308], [30.4108444, 59.676028399999986], [30.4108482, 59.67598289999999], [30.4108219, 59.67593750000001], [30.410758099999995, 59.67590709999999], [30.410698000000004, 59.675888200000024], [30.4106004, 59.67587300000001], [30.4104841, 59.675859799999984], [30.4103903, 59.675848399999985], [30.4102852, 59.675837], [30.4102101, 59.6758124], [30.4101163, 59.6757783], [30.4100487, 59.6757536], [30.409966100000002, 59.6757555], [30.4098761, 59.67575740000001], [30.4097897, 59.6757518], [30.4097072, 59.67573279999999], [30.4096133, 59.67570819999999], [30.4095307, 59.6756835], [30.4094332, 59.67566839999999], [30.409335600000002, 59.6756627], [30.409208000000003, 59.6756646], [30.409102900000004, 59.6756646], [30.408964000000005, 59.6756778], [30.4088139, 59.67570629999997], [30.40872, 59.67571379999998], [30.4085812, 59.67572330000001], [30.408491100000003, 59.6757366], [30.4083484, 59.67575930000003], [30.4082171, 59.675784], [30.4080895, 59.6757972], [30.407609000000004, 59.6758086], [30.4075452, 59.675810500000004], [30.4074964, 59.67578589999999], [30.407455100000004, 59.675764999999984], [30.407372600000002, 59.6757423], [30.407278700000003, 59.67570249999998], [30.407252000000003, 59.67568239999997], [30.4072184, 59.67565689999999], [30.407179999999997, 59.6756436], [30.4071391, 59.67562899999999], [30.407079100000004, 59.675623], [30.406934500000002, 59.6756199], [30.406891716468326, 59.675621984985916], [30.4067806, 59.67562740000002], [30.4066868, 59.675642600000025], [30.4066004, 59.67569000000001], [30.4065329, 59.67570129999999], [30.4064841, 59.675698099999984], [30.406464899999996, 59.67568719999998], [30.406373600000002, 59.6756847], [30.406287100000004, 59.6757066], [30.4062078, 59.67573689999998], [30.4061886, 59.67578780000001], [30.4061718, 59.67585700000001], [30.406143, 59.675899399999984], [30.406135800000005, 59.67593089999997], [30.406114200000005, 59.67595399999998], [30.406119, 59.6759964], [30.4061406, 59.67603519999998], [30.406135800000005, 59.6760741], [30.406114200000005, 59.67610679999999], [30.4060685, 59.67613229999999], [30.405989199999997, 59.676148], [30.405926799999996, 59.6761699], [30.405861899999998, 59.67616989999999], [30.405818699999998, 59.67616139999999], [30.405792299999998, 59.67613469999999], [30.405744200000004, 59.676118900000006], [30.4055472, 59.67611169999998], [30.405434300000003, 59.6761408], [30.405393500000002, 59.6761747], [30.405369500000003, 59.67619659999996], [30.405371900000002, 59.676222], [30.405407899999997, 59.676232899999995], [30.405470399999995, 59.6762451], [30.40548, 59.6762657], [30.405456, 59.67630689999997], [30.4053767, 59.676336000000006], [30.405304600000004, 59.676353], [30.4051701, 59.67636389999999], [30.405114900000004, 59.676366300000005], [30.40499, 59.676391800000005], [30.4049212, 59.676413700000005], [30.404873100000003, 59.67643429999999], [30.404839499999998, 59.67646699999995], [30.4048001, 59.67647909999998], [30.4047418, 59.676507699999995], [30.4031369, 59.677991], [30.403058100000003, 59.678040300000006], [30.402724, 59.6781388], [30.402052200000004, 59.67833399999999], [30.401395299999997, 59.67890239999999], [30.400509499999995, 59.67966419999998], [30.400457870177025, 59.67970017009678], [30.4004007, 59.67974], [30.400269299999998, 59.6797892], [30.400136900000003, 59.67981970000001], [30.400096814485376, 59.67982127136531], [30.400067600000003, 59.6799287], [30.4002562, 59.67998080000001], [30.4003313, 59.680043100000006], [30.400337286876287, 59.68009415480621], [30.4003421, 59.680135199999995], [30.4000094, 59.68127249999997], [30.3999102, 59.68149189999999], [30.3998592, 59.6817965], [30.39979840458036, 59.68185473814409], [30.399754600000005, 59.6818967], [30.3994907, 59.6819294], [30.399153200000004, 59.68200730000001], [30.398884399999996, 59.68203110000003], [30.3986729, 59.6820193], [30.3984152, 59.6820793], [30.3981426, 59.68217289999998], [30.397903900000003, 59.68223119999999], [30.3975928, 59.68226909999999], [30.397120700000002, 59.6823286], [30.3967667, 59.6823991], [30.39641072541748, 59.68250729600599], [30.3963482, 59.6825263], [30.396281794451447, 59.68255928335221], [30.39627313947862, 59.682563582232895], [30.3960156, 59.6826915], [30.395584023006553, 59.68295404851207], [30.395361200000004, 59.6830896], [30.39504373320601, 59.683270443813754], [30.394932439491697, 59.68333384122576], [30.39475638058099, 59.68343413082954], [30.3946102, 59.683517399999985], [30.3942132, 59.6836853], [30.3939503, 59.68377190000001], [30.393885957726116, 59.683783419200594]]], &quot;type&quot;: &quot;Polygon&quot;}, &quot;id&quot;: &quot;78&quot;, &quot;properties&quot;: {&quot;tags&quot;: &quot;[\\u0027ENGINEERING_AND_TRANSPORTATION\\u0027]&quot;}, &quot;type&quot;: &quot;Feature&quot;}, {&quot;bbox&quot;: [30.405304646228945, 59.68357852437542, 30.427026160826838, 59.69046348893324], &quot;geometry&quot;: {&quot;coordinates&quot;: [[[30.412009108300325, 59.68552411330982], [30.4093772284839, 59.6872339182225], [30.408733347226427, 59.68718762313698], [30.408520493215565, 59.687611368555295], [30.4076495288167, 59.68813895364383], [30.407221515682995, 59.688159995816186], [30.406170805771303, 59.68794573068947], [30.405304646228945, 59.690083328448836], [30.405497600000004, 59.69011599999999], [30.40554240780283, 59.69014677937634], [30.406333714902903, 59.68992351917829], [30.408991035395722, 59.689388777204236], [30.40908947119019, 59.689383410575694], [30.41016800316289, 59.689587401967884], [30.410797472749632, 59.689544099778345], [30.411208877109303, 59.68960365493123], [30.41209560226849, 59.689838393252636], [30.41227742966405, 59.68986970858882], [30.412986485899673, 59.68965039047182], [30.413024369440297, 59.68964814502684], [30.414487510510863, 59.68998416714404], [30.41468485137718, 59.689869299689256], [30.414838100736365, 59.689894398565286], [30.415213079706486, 59.68987689873591], [30.41521328194, 59.68987670454567], [30.41556802465287, 59.689871487211896], [30.41553323443586, 59.69002777197541], [30.41575875494717, 59.68999886932616], [30.416032499091198, 59.68979360216866], [30.41657965088303, 59.689902530727835], [30.41658153913877, 59.68990249861937], [30.416622740497388, 59.689890688283775], [30.41683913842239, 59.68995477939155], [30.417187401386492, 59.690007124382845], [30.417551296131155, 59.68999900357204], [30.417634576097445, 59.690072308919895], [30.41795472520102, 59.69003904725903], [30.4182229923951, 59.689847597297984], [30.41834892422994, 59.68992235142881], [30.41874833662989, 59.689855558447654], [30.419061625827908, 59.68992218180511], [30.41911724802536, 59.689918284432686], [30.419172236311358, 59.69000204607191], [30.41958183611279, 59.69010146551515], [30.419710079757536, 59.690081587218955], [30.41972491245894, 59.68999832425679], [30.41990677939617, 59.68989836970314], [30.420181656197467, 59.69004825274058], [30.420480883265327, 59.68981536620357], [30.420488705282562, 59.689813716797744], [30.420686029289087, 59.6899094129215], [30.421118306523645, 59.689929063864014], [30.421151030673688, 59.68993546198857], [30.42143107203204, 59.689898721655965], [30.421518121034655, 59.689945018331436], [30.422268255441736, 59.689922143982095], [30.42239385418244, 59.690032624368726], [30.422858847871623, 59.68999631091636], [30.423246973900927, 59.690089160590084], [30.42334998807622, 59.69012377613906], [30.42341860454953, 59.69013116254987], [30.42345087089084, 59.690124301169696], [30.424015719626794, 59.68992584234623], [30.424321746008275, 59.69040103822067], [30.42484392397554, 59.690320906054886], [30.42494492111131, 59.69043030783768], [30.42518340688511, 59.69046348893324], [30.427026160826838, 59.69002375523787], [30.426387, 59.68959360000001], [30.42582890332305, 59.689203385345195], [30.4257577, 59.6891536], [30.4248325, 59.688491400000004], [30.4244878632956, 59.68825168211213], [30.424177500000003, 59.6880358], [30.424025295040902, 59.68793419321924], [30.4233355, 59.6874737], [30.42329259504448, 59.68744489199096], [30.423202800000002, 59.687384599999966], [30.4229572, 59.687219], [30.42260206222829, 59.68698155383942], [30.42234925954824, 59.68681252661199], [30.421121800000005, 59.6859918], [30.42096328023188, 59.68588467463225], [30.42095359059219, 59.68587812648568], [30.420902500000004, 59.685843600000005], [30.4202449, 59.685405799999984], [30.4198329, 59.685131500000004], [30.419318941551268, 59.68477980242277], [30.418836699999996, 59.684449799999996], [30.418437800000003, 59.68414309999999], [30.417951399999996, 59.68371390000001], [30.41781506694217, 59.68357852437542], [30.41663554190137, 59.684303255690345], [30.416084795887617, 59.68448702516358], [30.414927919265182, 59.68482550220064], [30.41315524572594, 59.6852531224873], [30.41200615798563, 59.68545535402669], [30.412009108300325, 59.68552411330982]]], &quot;type&quot;: &quot;Polygon&quot;}, &quot;id&quot;: &quot;77&quot;, &quot;properties&quot;: {&quot;tags&quot;: &quot;[\\u0027ENGINEERING_AND_TRANSPORTATION\\u0027]&quot;}, &quot;type&quot;: &quot;Feature&quot;}, {&quot;bbox&quot;: [30.3942594, 59.68870849999998, 30.415109, 59.70169760000001], &quot;geometry&quot;: {&quot;coordinates&quot;: [[[30.3966508, 59.691209099999995], [30.3967403, 59.69140309999999], [30.3967745, 59.6915596], [30.396682800000004, 59.6919093], [30.3963565, 59.693118600000005], [30.396343000000005, 59.6931688], [30.3963252, 59.693233099999986], [30.396094600000005, 59.69406440000003], [30.3958295, 59.69497960000001], [30.395767299999996, 59.695164], [30.395708, 59.695332100000016], [30.3954167, 59.69641049999999], [30.3950612, 59.6976207], [30.3949215, 59.698132700000016], [30.3987159, 59.698420199999994], [30.3987426, 59.698428499999984], [30.3987591, 59.69844499999997], [30.398762800000004, 59.69848029999999], [30.3986189, 59.699005099999994], [30.398468100000002, 59.699582], [30.398442200000005, 59.6997455], [30.398421300000003, 59.69985119999999], [30.398364399999995, 59.70006839999999], [30.3983512, 59.7001042], [30.3983231, 59.700138900000006], [30.3982693, 59.70015839999999], [30.3981964, 59.7001661], [30.396832000000003, 59.70005539999998], [30.3957992, 59.6999716], [30.394578500000005, 59.69983519999998], [30.3944514, 59.69982729999996], [30.3943834, 59.700074900000004], [30.3943659, 59.70014039999999], [30.394345300000005, 59.700219899999986], [30.394270099999996, 59.70057210000001], [30.3942683, 59.7005945], [30.3942594, 59.700723599999996], [30.3945252, 59.7007584], [30.394728099999995, 59.7007876], [30.3954913, 59.7009067], [30.3976619, 59.701259600000014], [30.397966000000004, 59.70130949999999], [30.3982021, 59.70134829999999], [30.3984631, 59.7013901], [30.3986795, 59.701426799999986], [30.3988608, 59.70145710000001], [30.399062099999995, 59.7014907], [30.399350100000003, 59.70153790000002], [30.3999739, 59.70164], [30.400326000000003, 59.70169760000001], [30.400408800000005, 59.701576599999996], [30.400425099999996, 59.7015528], [30.4007018, 59.701142299999994], [30.4009545, 59.70079429999999], [30.401474, 59.7000785], [30.402007499999996, 59.6993436], [30.4020533, 59.699293600000004], [30.402111899999998, 59.699250199999994], [30.4018186, 59.6989322], [30.4019567, 59.69900189999999], [30.402078800000005, 59.6990391], [30.4023457, 59.6990872], [30.402473100000005, 59.6991014], [30.4026088, 59.69910729999999], [30.4033992, 59.698922399999994], [30.4042433, 59.69872589999999], [30.404327800000004, 59.6987032], [30.404390200000005, 59.698683199999984], [30.404444500000004, 59.698659899999974], [30.4045162, 59.698617299999995], [30.4045719, 59.6985733], [30.4046175, 59.69851540000001], [30.404693600000005, 59.69841450000002], [30.404878500000002, 59.69844940000001], [30.404937600000004, 59.69846050000001], [30.406190600000002, 59.698694799999984], [30.4064166, 59.6987363], [30.407704299999995, 59.6989783], [30.407787099999997, 59.69899920000001], [30.407843500000002, 59.699029799999984], [30.408604100000005, 59.69911739999998], [30.4097184, 59.6992383], [30.409788700000004, 59.6992507], [30.4099383, 59.6992772], [30.4100142, 59.699176400000006], [30.4109637, 59.697897100000006], [30.411019199999995, 59.6978239], [30.4114965, 59.697194800000005], [30.411678, 59.696935800000006], [30.4118013, 59.6967599], [30.411865, 59.696674800000004], [30.412078199999996, 59.69637959999999], [30.412232099999997, 59.69616650000001], [30.4123448, 59.69601730000001], [30.412564000000003, 59.6957271], [30.4126505, 59.6956125], [30.4126763, 59.6955767], [30.412718200000004, 59.69551950000002], [30.4128232, 59.69538450000001], [30.412913000000003, 59.69527060000003], [30.412925099999995, 59.695253900000004], [30.4130305, 59.69510949999999], [30.414298500000005, 59.6933707], [30.414373699999995, 59.69325990000001], [30.414611099999995, 59.692913], [30.414702599999995, 59.69278199999999], [30.415109, 59.6922393], [30.4132223, 59.6918632], [30.412670200000004, 59.691753699999985], [30.411466, 59.69152069999999], [30.4112875, 59.69148619999999], [30.409490000000005, 59.691121499999994], [30.407631600000002, 59.69074450000001], [30.4075032, 59.6907185], [30.406495800000002, 59.69051409999996], [30.4060773, 59.69042899999998], [30.405849900000003, 59.690357999999954], [30.405497600000004, 59.69011599999999], [30.4049897, 59.69002999999996], [30.4045186, 59.68995019999999], [30.4028024, 59.68960740000001], [30.4015158, 59.689326599999994], [30.399853900000004, 59.6889935], [30.398439000000003, 59.688744], [30.398107999999997, 59.68870849999998], [30.397823799999998, 59.690714199999995], [30.397784, 59.69075239999999], [30.3971512, 59.691106500000004], [30.3970128, 59.69113489999999], [30.396701700000005, 59.6911987], [30.3966508, 59.691209099999995]]], &quot;type&quot;: &quot;Polygon&quot;}, &quot;id&quot;: &quot;2831&quot;, &quot;properties&quot;: {&quot;tags&quot;: &quot;[\\u0027RESIDENTIAL\\u0027]&quot;}, &quot;type&quot;: &quot;Feature&quot;}, {&quot;bbox&quot;: [30.3951366, 59.6884125, 30.398107999999997, 59.691209099999995], &quot;geometry&quot;: {&quot;coordinates&quot;: [[[30.3955306, 59.68914500000002], [30.396034300000004, 59.69007320000001], [30.3966508, 59.691209099999995], [30.396701700000005, 59.6911987], [30.3970128, 59.69113489999999], [30.3971512, 59.691106500000004], [30.397784, 59.69075239999999], [30.397823799999998, 59.690714199999995], [30.398107999999997, 59.68870849999998], [30.3978302, 59.6887445], [30.397612500000005, 59.688741099999994], [30.3970563, 59.6886768], [30.395285, 59.6884329], [30.395192800000004, 59.68842019999996], [30.3951366, 59.6884125], [30.3955306, 59.68914500000002]]], &quot;type&quot;: &quot;Polygon&quot;}, &quot;id&quot;: &quot;2832&quot;, &quot;properties&quot;: {&quot;tags&quot;: &quot;[\\u0027RESIDENTIAL\\u0027]&quot;}, &quot;type&quot;: &quot;Feature&quot;}, {&quot;bbox&quot;: [30.369001200000003, 59.68538290000001, 30.3967745, 59.70082629999999], &quot;geometry&quot;: {&quot;coordinates&quot;: [[[30.380569900000005, 59.70082629999999], [30.3807684, 59.7007673], [30.3809717, 59.70069549999999], [30.3814377, 59.7005519], [30.3816969, 59.7004963], [30.3819866, 59.700462900000005], [30.382784000000004, 59.70044519999999], [30.384804699999997, 59.7004973], [30.385834300000003, 59.7005246], [30.386613600000004, 59.7005449], [30.3874656, 59.70056639999999], [30.3882441, 59.70058499999993], [30.388476900000004, 59.7005899], [30.388671100000003, 59.7005939], [30.3889092, 59.70059880000001], [30.389574100000004, 59.7006118], [30.3906136, 59.70063339999999], [30.3940055, 59.7007058], [30.3942594, 59.700723599999996], [30.3942683, 59.7005945], [30.394270099999996, 59.70057210000001], [30.394345300000005, 59.700219899999986], [30.3937239, 59.7002411], [30.3935756, 59.7002273], [30.3935472, 59.7001919], [30.3933132, 59.699919099999995], [30.392720300000004, 59.6992276], [30.392328, 59.698765], [30.3920149, 59.6983885], [30.3912515, 59.69747060000001], [30.3908169, 59.696947999999985], [30.389750300000003, 59.69572519999999], [30.3898167, 59.69558040000001], [30.3901039, 59.69526139999997], [30.390276000000004, 59.69512370000002], [30.3904545, 59.6950463], [30.3906051, 59.69499259999999], [30.390976499999997, 59.694981299999995], [30.3920624, 59.6950533], [30.3952681, 59.6952565], [30.395512100000005, 59.6952914], [30.395708, 59.695332100000016], [30.395767299999996, 59.695164], [30.3958295, 59.69497960000001], [30.396094600000005, 59.69406440000003], [30.3963252, 59.693233099999986], [30.396343000000005, 59.6931688], [30.3963565, 59.693118600000005], [30.396682800000004, 59.6919093], [30.3967745, 59.6915596], [30.3967403, 59.69140309999999], [30.3966508, 59.691209099999995], [30.396034300000004, 59.69007320000001], [30.3955306, 59.68914500000002], [30.3951366, 59.6884125], [30.395092299999998, 59.68833109999999], [30.3945091, 59.6872625], [30.394369300000005, 59.6870063], [30.394254700000005, 59.68679619999999], [30.3941146, 59.686539300000014], [30.393958, 59.68625240000001], [30.3939296, 59.68620030000001], [30.3937264, 59.68582800000001], [30.3935359, 59.68547089999997], [30.3934885, 59.68538290000001], [30.393153300000005, 59.68554149999999], [30.3926461, 59.68581129999998], [30.391773800000003, 59.68623000000001], [30.3907843, 59.68662050000001], [30.3897901, 59.6869737], [30.388696300000003, 59.68731080000001], [30.380104499999998, 59.68964510000002], [30.373726, 59.691413000000004], [30.3724781, 59.6917546], [30.3720137, 59.6919189], [30.371474300000003, 59.692172799999945], [30.3710661, 59.6924207], [30.3707468, 59.69269319999999], [30.369196200000005, 59.69434390000001], [30.3690531, 59.694552], [30.369001200000003, 59.69462370000001], [30.369149, 59.6947024], [30.371098900000003, 59.69574100000002], [30.3717826, 59.69610519999999], [30.3740173, 59.697295399999994], [30.376821800000002, 59.69880330000001], [30.3796525, 59.70033329999999], [30.3803588, 59.7007323], [30.380569900000005, 59.70082629999999]]], &quot;type&quot;: &quot;Polygon&quot;}, &quot;id&quot;: &quot;2483&quot;, &quot;properties&quot;: {&quot;tags&quot;: &quot;[\\u0027SPECIAL_PURPOSE\\u0027]&quot;}, &quot;type&quot;: &quot;Feature&quot;}, {&quot;bbox&quot;: [30.347603919181022, 59.68209363712319, 30.3934885, 59.69314713523514], &quot;geometry&quot;: {&quot;coordinates&quot;: [[[30.374891448036145, 59.685473537605354], [30.373482200000005, 59.6855647], [30.371192, 59.68571250000001], [30.3708809, 59.68572730000001], [30.370500700000004, 59.685716400000004], [30.3704251, 59.68569719999999], [30.370281100000003, 59.6856608], [30.369540400000005, 59.68540749999998], [30.366047299999998, 59.6841944], [30.3659347, 59.6841483], [30.365871899999995, 59.6840985], [30.3656511, 59.68403329999999], [30.364023400000004, 59.68348480000001], [30.363711100000003, 59.6833631], [30.363422331445012, 59.68318209762986], [30.3634, 59.68316810000001], [30.362895700000003, 59.682929800000004], [30.3623378, 59.6827104], [30.3616351, 59.6825994], [30.361313200000005, 59.6825317], [30.361136200000004, 59.682466700000006], [30.360809, 59.682155299999984], [30.36075938225847, 59.68209363712319], [30.355274004118968, 59.682530841085644], [30.3498887697247, 59.68330677225998], [30.3482794957998, 59.68505434317851], [30.347603919181022, 59.686650620303006], [30.347867750878436, 59.68784011098637], [30.348349326560232, 59.689259104975264], [30.34920899599595, 59.68913581089087], [30.359176876972835, 59.6873572567468], [30.35846192363194, 59.688984428269656], [30.362020471989155, 59.69261964923305], [30.36264126491458, 59.69305863178151], [30.36327803179659, 59.69314713523514], [30.364448063336496, 59.69250395651934], [30.364928776308147, 59.692607023681425], [30.368414867507322, 59.69107232129915], [30.368415288484876, 59.69110195185274], [30.3689406370992, 59.691443708974525], [30.37042286997477, 59.69211244060852], [30.37063075514766, 59.69214839220442], [30.371441178920517, 59.69219291462905], [30.371474300000003, 59.692172799999945], [30.3720137, 59.6919189], [30.3724781, 59.6917546], [30.373726, 59.691413000000004], [30.37605574876564, 59.690767332019206], [30.377641240748307, 59.69032788967772], [30.380104499999998, 59.68964510000002], [30.381185820898914, 59.68935136585033], [30.384649131240778, 59.688410483710534], [30.38482073304313, 59.68836386064482], [30.38605662489863, 59.688028066538024], [30.387485939163852, 59.687639696146405], [30.388696300000003, 59.68731080000001], [30.3897901, 59.6869737], [30.3907843, 59.68662050000001], [30.391110560919987, 59.68649174500969], [30.391773800000003, 59.68623000000001], [30.391940910135254, 59.686149789172745], [30.3926461, 59.68581129999998], [30.393153300000005, 59.68554149999999], [30.3934885, 59.68538290000001], [30.393436400000002, 59.68528870000001], [30.3933978, 59.68521640000002], [30.393045300000004, 59.6845283], [30.392949099999996, 59.68442719999999], [30.392818, 59.684362099999994], [30.392650799999995, 59.684326999999975], [30.392524400000003, 59.68432389999997], [30.392278999999995, 59.68433189999998], [30.3895761, 59.68451559999999], [30.38920983169227, 59.684540497581956], [30.387509, 59.6846561], [30.385252583571447, 59.68480943214386], [30.383941599999996, 59.68489850000001], [30.383117432828612, 59.68495449055709], [30.382621200000003, 59.6849882], [30.382441261395204, 59.68499976556081], [30.3793238, 59.6852001], [30.379084899999995, 59.685215400000004], [30.37730639049453, 59.685322842761884], [30.376015700000004, 59.685400799999975], [30.374891448036145, 59.685473537605354]]], &quot;type&quot;: &quot;Polygon&quot;}, &quot;id&quot;: &quot;210&quot;, &quot;properties&quot;: {&quot;tags&quot;: &quot;[\\u0027ENGINEERING_AND_TRANSPORTATION\\u0027]&quot;}, &quot;type&quot;: &quot;Feature&quot;}, {&quot;bbox&quot;: [30.361551200000005, 59.671951925160926, 30.401514885697438, 59.68521640000002], &quot;geometry&quot;: {&quot;coordinates&quot;: [[[30.399849, 59.67987070000001], [30.400011899999996, 59.6798246], [30.400096814485376, 59.67982127136531], [30.4004377, 59.67856770000001], [30.400990729750454, 59.67662031745874], [30.401514885697438, 59.67255933431616], [30.400504279881446, 59.6721628015976], [30.39775929216276, 59.6720176130725], [30.393775585953904, 59.671951925160926], [30.38900267448499, 59.67660269133267], [30.3847366564803, 59.676285399914846], [30.378006528644647, 59.675565320411735], [30.376513408962346, 59.6757132766158], [30.37510292114964, 59.67590292076835], [30.373652665974337, 59.67608399015498], [30.367559531777204, 59.677020994165645], [30.36638361198964, 59.677235094276206], [30.36167361945287, 59.67844675924003], [30.3615517, 59.67891069999999], [30.361551200000005, 59.679040400000005], [30.3615895, 59.67910609999999], [30.361659600000003, 59.67916029999999], [30.3620696, 59.679414800000025], [30.3645917, 59.680923799999995], [30.3648296, 59.68108699999996], [30.3650467, 59.681280300000005], [30.3651553, 59.681501499999996], [30.365390337241276, 59.6827937699192], [30.38194686088884, 59.68392152141598], [30.38236837204434, 59.683801290334024], [30.38250425561276, 59.68381140682576], [30.383194666166354, 59.68351735528856], [30.38352802668615, 59.6828099174774], [30.384137045057553, 59.68384631617783], [30.38718202240645, 59.68467832187645], [30.387509, 59.6846561], [30.3895761, 59.68451559999999], [30.392278999999995, 59.68433189999998], [30.392524400000003, 59.68432389999997], [30.392650799999995, 59.684326999999975], [30.392818, 59.684362099999994], [30.392949099999996, 59.68442719999999], [30.393045300000004, 59.6845283], [30.3933978, 59.68521640000002], [30.3938186, 59.6850005], [30.394032399999997, 59.68488279999999], [30.3941279, 59.684807899999996], [30.3941372, 59.68472149999997], [30.393941, 59.684499499999994], [30.393711599999996, 59.68417680000001], [30.393658, 59.68406980000002], [30.393523900000005, 59.68395610000001], [30.393266400000005, 59.6838613], [30.392874800000005, 59.68376380000001], [30.3923196, 59.68365550000001], [30.392228400000004, 59.6835865], [30.3921731, 59.683445799999966], [30.392035200000002, 59.683341399999996], [30.3917482, 59.68325339999999], [30.3915589, 59.683176299999985], [30.391319100000004, 59.68292710000001], [30.3911608, 59.682883799999985], [30.3908401, 59.68285939999996], [30.390353499999996, 59.6826631], [30.390093299999997, 59.682473500000015], [30.3897404, 59.682384199999994], [30.38967251413441, 59.68233043887799], [30.3897649, 59.682299199999996], [30.3909545, 59.68190090000002], [30.391288500000005, 59.681809999999984], [30.3914649, 59.68175879999999], [30.3916338, 59.681739900000004], [30.3918328, 59.68175119999995], [30.3928199, 59.681825100000005], [30.3931464, 59.6818555], [30.393442900000004, 59.6818649], [30.393656900000003, 59.68184410000001], [30.3938971, 59.68180050000001], [30.3970124, 59.68132679999999], [30.3972376, 59.68129460000001], [30.3973333, 59.68125130000001], [30.39881190611927, 59.680447305936376], [30.3997851, 59.67991810000001], [30.399849, 59.67987070000001]]], &quot;type&quot;: &quot;Polygon&quot;}, &quot;id&quot;: &quot;190&quot;, &quot;properties&quot;: {&quot;tags&quot;: &quot;[\\u0027AGRICULTURAL\\u0027]&quot;}, &quot;type&quot;: &quot;Feature&quot;}, {&quot;bbox&quot;: [30.38967251413441, 59.67982127136531, 30.4003421, 59.68406980000002], &quot;geometry&quot;: {&quot;coordinates&quot;: [[[30.38967251413441, 59.68233043887799], [30.3897404, 59.682384199999994], [30.390093299999997, 59.682473500000015], [30.390353499999996, 59.6826631], [30.3908401, 59.68285939999996], [30.3911608, 59.682883799999985], [30.391319100000004, 59.68292710000001], [30.3915589, 59.683176299999985], [30.3917482, 59.68325339999999], [30.392035200000002, 59.683341399999996], [30.3921731, 59.683445799999966], [30.392228400000004, 59.6835865], [30.3923196, 59.68365550000001], [30.392874800000005, 59.68376380000001], [30.393266400000005, 59.6838613], [30.393523900000005, 59.68395610000001], [30.393658, 59.68406980000002], [30.3936124, 59.68389379999996], [30.3936928, 59.683817999999995], [30.3939503, 59.68377190000001], [30.3942132, 59.6836853], [30.3946102, 59.683517399999985], [30.395361200000004, 59.6830896], [30.3960156, 59.6826915], [30.3963482, 59.6825263], [30.3967667, 59.6823991], [30.397120700000002, 59.6823286], [30.3975928, 59.68226909999999], [30.397903900000003, 59.68223119999999], [30.3981426, 59.68217289999998], [30.3984152, 59.6820793], [30.3986729, 59.6820193], [30.398884399999996, 59.68203110000003], [30.399153200000004, 59.68200730000001], [30.3994907, 59.6819294], [30.399754600000005, 59.6818967], [30.3998592, 59.6817965], [30.3999102, 59.68149189999999], [30.4000094, 59.68127249999997], [30.4003421, 59.680135199999995], [30.4003313, 59.680043100000006], [30.4002562, 59.67998080000001], [30.400067600000003, 59.6799287], [30.400096814485376, 59.67982127136531], [30.400011899999996, 59.6798246], [30.399849, 59.67987070000001], [30.3997851, 59.67991810000001], [30.3973333, 59.68125130000001], [30.3972376, 59.68129460000001], [30.3970124, 59.68132679999999], [30.3938971, 59.68180050000001], [30.393656900000003, 59.68184410000001], [30.393442900000004, 59.6818649], [30.3931464, 59.6818555], [30.3928199, 59.681825100000005], [30.3918328, 59.68175119999995], [30.3916338, 59.681739900000004], [30.3914649, 59.68175879999999], [30.391288500000005, 59.681809999999984], [30.3909545, 59.68190090000002], [30.3897649, 59.682299199999996], [30.38967251413441, 59.68233043887799]]], &quot;type&quot;: &quot;Polygon&quot;}, &quot;id&quot;: &quot;8121&quot;, &quot;properties&quot;: {&quot;tags&quot;: &quot;[\\u0027RESIDENTIAL\\u0027]&quot;}, &quot;type&quot;: &quot;Feature&quot;}, {&quot;bbox&quot;: [30.400096814485376, 59.67629199999998, 30.4048001, 59.67982127136531], &quot;geometry&quot;: {&quot;coordinates&quot;: [[[30.401072346037008, 59.67633290189715], [30.4004377, 59.67856770000001], [30.400096814485376, 59.67982127136531], [30.400136900000003, 59.67981970000001], [30.400269299999998, 59.6797892], [30.4004007, 59.67974], [30.400509499999995, 59.67966419999998], [30.401395299999997, 59.67890239999999], [30.402052200000004, 59.67833399999999], [30.402724, 59.6781388], [30.403058100000003, 59.678040300000006], [30.4031369, 59.677991], [30.4047418, 59.676507699999995], [30.4048001, 59.67647909999998], [30.4046482, 59.67644209999997], [30.4014917, 59.676321900000005], [30.401215400000005, 59.67629199999998], [30.4011064, 59.67633329999999], [30.401072346037008, 59.67633290189715]]], &quot;type&quot;: &quot;Polygon&quot;}, &quot;id&quot;: &quot;8794&quot;, &quot;properties&quot;: {&quot;tags&quot;: &quot;[\\u0027RESIDENTIAL\\u0027]&quot;}, &quot;type&quot;: &quot;Feature&quot;}, {&quot;bbox&quot;: [30.401072346037008, 59.672693799999976, 30.41003759310828, 59.67647909999998], &quot;geometry&quot;: {&quot;coordinates&quot;: [[[30.40495774502717, 59.67295655761678], [30.4044564054709, 59.67291121540908], [30.402052800000003, 59.672693799999976], [30.40160182513532, 59.67436842904149], [30.401079900000003, 59.67630629999996], [30.401072346037008, 59.67633290189715], [30.4011064, 59.67633329999999], [30.401215400000005, 59.67629199999998], [30.4014917, 59.676321900000005], [30.401638081923736, 59.67632747594284], [30.4046482, 59.67644209999997], [30.4048001, 59.67647909999998], [30.404839499999998, 59.67646699999995], [30.404873100000003, 59.67643429999999], [30.4049212, 59.676413700000005], [30.40499, 59.676391800000005], [30.405114900000004, 59.676366300000005], [30.4051701, 59.67636389999999], [30.405304600000004, 59.676353], [30.4053767, 59.676336000000006], [30.405456, 59.67630689999997], [30.40548, 59.6762657], [30.405470399999995, 59.6762451], [30.405407899999997, 59.676232899999995], [30.405371900000002, 59.676222], [30.405369500000003, 59.67619659999996], [30.405393500000002, 59.6761747], [30.405434300000003, 59.6761408], [30.4055472, 59.67611169999998], [30.405716267427422, 59.67611787913228], [30.405744200000004, 59.676118900000006], [30.405792299999998, 59.67613469999999], [30.405818699999998, 59.67616139999999], [30.405861899999998, 59.67616989999999], [30.405926799999996, 59.6761699], [30.405989199999997, 59.676148], [30.4060685, 59.67613229999999], [30.406114200000005, 59.67610679999999], [30.406135800000005, 59.6760741], [30.4061406, 59.67603519999998], [30.406119, 59.6759964], [30.406114200000005, 59.67595399999998], [30.406135800000005, 59.67593089999997], [30.406143, 59.675899399999984], [30.4061718, 59.67585700000001], [30.4061886, 59.67578780000001], [30.4062078, 59.67573689999998], [30.406287100000004, 59.6757066], [30.406373600000002, 59.6756847], [30.406464899999996, 59.67568719999998], [30.4064841, 59.675698099999984], [30.4065329, 59.67570129999999], [30.4066004, 59.67569000000001], [30.40660648652775, 59.675686660869566], [30.4066868, 59.675642600000025], [30.4067806, 59.67562740000002], [30.406934500000002, 59.6756199], [30.40695299100709, 59.67562029642747], [30.407079100000004, 59.675623], [30.4071391, 59.67562899999999], [30.407179999999997, 59.6756436], [30.4072184, 59.67565689999999], [30.407252000000003, 59.67568239999997], [30.407278700000003, 59.67570249999998], [30.407372600000002, 59.6757423], [30.407455100000004, 59.675764999999984], [30.4074964, 59.67578589999999], [30.4075452, 59.675810500000004], [30.407609000000004, 59.6758086], [30.4080895, 59.6757972], [30.4082171, 59.675784], [30.4083484, 59.67575930000003], [30.408491100000003, 59.6757366], [30.4085812, 59.67572330000001], [30.40872, 59.67571379999998], [30.4088139, 59.67570629999997], [30.408964000000005, 59.6756778], [30.409060029329602, 59.675668674119414], [30.40921694849282, 59.675142562482485], [30.409245366201663, 59.67512302204195], [30.40936998271331, 59.674800227533794], [30.409552345385542, 59.674754706130805], [30.40999963572014, 59.67449966608234], [30.409649914936402, 59.67425822765434], [30.40956617908374, 59.674144644579], [30.409815455594213, 59.67389780333231], [30.409813782959745, 59.67368487455454], [30.41003759310828, 59.67344930788518], [30.40849468710723, 59.67329318134773], [30.407754174045266, 59.67321824194413], [30.4069376, 59.67313560000001], [30.40495774502717, 59.67295655761678]]], &quot;type&quot;: &quot;Polygon&quot;}, &quot;id&quot;: &quot;491&quot;, &quot;properties&quot;: {&quot;tags&quot;: &quot;[\\u0027RESIDENTIAL\\u0027]&quot;}, &quot;type&quot;: &quot;Feature&quot;}, {&quot;bbox&quot;: [30.409060029329602, 59.674754706130805, 30.417489033416604, 59.67715695245831], &quot;geometry&quot;: {&quot;coordinates&quot;: [[[30.411765155541207, 59.6748710996006], [30.41166714759678, 59.67501370279104], [30.411515999753043, 59.67509298387683], [30.41069313385544, 59.67504387939019], [30.410688347288488, 59.675049174489246], [30.41020888432532, 59.67518378380988], [30.410005112189957, 59.675170318888135], [30.409552345385542, 59.674754706130805], [30.40936998271331, 59.674800227533794], [30.409245366201663, 59.67512302204195], [30.40921694849282, 59.675142562482485], [30.409060029329602, 59.675668674119414], [30.409102900000004, 59.6756646], [30.409208000000003, 59.6756646], [30.409335600000002, 59.6756627], [30.40936935497696, 59.675664671354404], [30.4094332, 59.67566839999999], [30.409494938101798, 59.67567796150058], [30.4095307, 59.6756835], [30.4096133, 59.67570819999999], [30.4097072, 59.67573279999999], [30.4097897, 59.6757518], [30.4098761, 59.67575740000001], [30.409966100000002, 59.6757555], [30.4100487, 59.6757536], [30.410112723137587, 59.67577699307126], [30.4101163, 59.6757783], [30.4102101, 59.6758124], [30.4102852, 59.675837], [30.4103903, 59.675848399999985], [30.4104841, 59.675859799999984], [30.4106004, 59.67587300000001], [30.410698000000004, 59.675888200000024], [30.41073567287163, 59.67590004721489], [30.410758099999995, 59.67590709999999], [30.4108219, 59.67593750000001], [30.41083016665956, 59.67595177021672], [30.4108482, 59.67598289999999], [30.4108444, 59.676028399999986], [30.410803099999995, 59.6761308], [30.410791900000003, 59.6761876], [30.410829400000004, 59.676233100000005], [30.4108857, 59.676257699999994], [30.410949499999997, 59.67627479999999], [30.4110208, 59.67628239999998], [30.41115590966121, 59.67629978658464], [30.4111972, 59.67630509999999], [30.411268500000002, 59.676316500000006], [30.4113248, 59.6763316], [30.4113811, 59.676354399999994], [30.411414900000004, 59.6763809], [30.4114562, 59.676424499999996], [30.411501300000005, 59.67647], [30.411527500000002, 59.6765117], [30.4115988, 59.67651729999999], [30.411625198474557, 59.67650913162352], [30.411647599999995, 59.676502199999995], [30.4116852, 59.676483199999986], [30.4117377, 59.67648320000002], [30.4118428, 59.6764984], [30.411879528615913, 59.67651691122276], [30.4118803, 59.6765173], [30.4119441, 59.676526800000005], [30.4119892, 59.67652489999999], [30.412083000000003, 59.676521099999995], [30.412127697265404, 59.67652190804842], [30.4121881, 59.67652300000001], [30.412238759396185, 59.676531546322515], [30.4122782, 59.676538199999996], [30.412364500000002, 59.6765533], [30.412495900000003, 59.676553299999995], [30.412629700000004, 59.67653799999998], [30.412707799999996, 59.676540999999986], [30.412761800000002, 59.676518299999984], [30.412797800000003, 59.67649249999999], [30.4128249, 59.6764607], [30.4128189, 59.67642279999998], [30.412812899999995, 59.676384899999995], [30.412836899999995, 59.676357600000024], [30.4128849, 59.67635609999999], [30.412975, 59.67635610000001], [30.413038100000005, 59.676371199999984], [30.413073137422053, 59.67638078663576], [30.413110100000004, 59.676390899999994], [30.4131792, 59.6764243], [30.413218532061965, 59.67643967796662], [30.413272299999996, 59.676460699999986], [30.413365300000002, 59.6764925], [30.4134464, 59.6765168], [30.413521500000005, 59.6765441], [30.4135845, 59.67657889999999], [30.413647600000004, 59.676610800000006], [30.413734700000003, 59.67661679999999], [30.4138188, 59.676610800000006], [30.4139118, 59.67660769999999], [30.4139899, 59.67658039999997], [30.41405, 59.67655920000001], [30.414131, 59.67655160000002], [30.414191100000004, 59.6765547], [30.4142211, 59.67657439999996], [30.414191100000004, 59.676587999999995], [30.414185100000005, 59.676610800000006], [30.414209100000004, 59.6766244], [30.414257100000004, 59.6766471], [30.414293200000003, 59.67666990000001], [30.414320200000002, 59.67670170000001], [30.414350199999998, 59.6767138], [30.4144008, 59.67674220000001], [30.414490900000004, 59.67675739999999], [30.41449670937377, 59.67676017129019], [30.414558400000004, 59.676789600000006], [30.414559059698938, 59.67679000423139], [30.414663500000003, 59.67685399999998], [30.414746099999995, 59.67687870000001], [30.4148699, 59.67690710000001], [30.414959999999997, 59.6769223], [30.415072600000002, 59.6768995], [30.415173999999997, 59.676908999999995], [30.415297800000005, 59.676931700000004], [30.4153879, 59.6769658], [30.415463000000003, 59.677017], [30.415511800000004, 59.677072], [30.415631899999998, 59.67710799999998], [30.4157858, 59.67714019999999], [30.4159396, 59.6771496], [30.416020810216043, 59.67715695245831], [30.4160459, 59.6770987], [30.4161032, 59.67696930000001], [30.416395300000005, 59.67642669999995], [30.4167727, 59.675893599999974], [30.416797260909142, 59.675864302178695], [30.417239300000002, 59.675336999999985], [30.417489033416604, 59.67508656078254], [30.416464209268977, 59.67476312314643], [30.416224884186125, 59.67475783287307], [30.4162194, 59.674912799999994], [30.4161939, 59.67505640000001], [30.416149899999997, 59.675153699999996], [30.4160732, 59.6752731], [30.415925700000003, 59.675399000000006], [30.415808040759146, 59.675503783413006], [30.4156735, 59.675623599999945], [30.415417399999995, 59.6758188], [30.415390105396973, 59.67584326418636], [30.41536212820684, 59.675868340132816], [30.4152149, 59.67600029999999], [30.414883100000004, 59.67624790000001], [30.414794300000004, 59.676138300000005], [30.41479275186075, 59.676101001633384], [30.41479131340412, 59.67606634573195], [30.41477959022451, 59.67578390413454], [30.414769729887862, 59.6755463407017], [30.414759965936756, 59.67531109719905], [30.41474877029058, 59.675041356994655], [30.414430229926147, 59.6750386861146], [30.414388507720393, 59.674962021793576], [30.413957042378076, 59.6749664933731], [30.413960539125394, 59.67511823868667], [30.413419228712186, 59.675082931241775], [30.41339673230055, 59.67496838715275], [30.41317114692291, 59.67492311426971], [30.41296634389165, 59.67497963368122], [30.41246128679217, 59.674867520279165], [30.412394203448102, 59.674888235420184], [30.41238807950855, 59.67488695488812], [30.411765155541207, 59.6748710996006]]], &quot;type&quot;: &quot;Polygon&quot;}, &quot;id&quot;: &quot;494&quot;, &quot;properties&quot;: {&quot;tags&quot;: &quot;[\\u0027RESIDENTIAL\\u0027]&quot;}, &quot;type&quot;: &quot;Feature&quot;}, {&quot;bbox&quot;: [30.4158962, 59.677172755956775, 30.42508003858275, 59.68590864856013], &quot;geometry&quot;: {&quot;coordinates&quot;: [[[30.4177412, 59.6777712], [30.4176286, 59.677771199999974], [30.417564800000005, 59.6777693], [30.417504800000003, 59.67773710000001], [30.4174522, 59.67771239999997], [30.4173697, 59.6776689], [30.4172758, 59.67762530000001], [30.4171745, 59.677577899999996], [30.417073200000004, 59.677553300000014], [30.4169681, 59.6775324], [30.416885499999996, 59.6775002], [30.416830800000003, 59.67747579999999], [30.4167415, 59.6774361], [30.4166468, 59.6773811], [30.416566500000002, 59.67730569999999], [30.4164909, 59.67723399999999], [30.416413700000003, 59.67720729999999], [30.416304100000005, 59.677182599999995], [30.416195366824756, 59.677172755956775], [30.416164000000002, 59.6772467], [30.416090100000005, 59.677433399999984], [30.416062899999996, 59.67752600000001], [30.416008200000004, 59.67771269999999], [30.4159471, 59.67800390000003], [30.4158962, 59.6785674], [30.415906200000002, 59.67883520000001], [30.4159397, 59.679109499999996], [30.4160581, 59.6796348], [30.416139449295926, 59.679897894399915], [30.4162217, 59.68016389999997], [30.4165513, 59.681211700000006], [30.416718000000003, 59.68168959999998], [30.4168202, 59.681942400000004], [30.416902410017077, 59.68210023647595], [30.416956300000002, 59.682203699999995], [30.41700217114213, 59.68228748187618], [30.417188499999998, 59.68262779999999], [30.417555, 59.68308189999999], [30.4177868, 59.68334639999997], [30.41802384185225, 59.683587559897006], [30.418109200000004, 59.683674400000015], [30.418430036307672, 59.68395210279603], [30.4185949, 59.684094800000004], [30.418964799999998, 59.684408899999994], [30.41936803258063, 59.68467221274451], [30.4200253, 59.6851014], [30.420426900000002, 59.685369699999995], [30.4210713, 59.685800099999994], [30.42123311236418, 59.68590864856013], [30.42180635631129, 59.685595827933284], [30.421581566834387, 59.68517578462269], [30.421181600000004, 59.685250599999996], [30.4210395, 59.6852772], [30.420899800000004, 59.68527710000003], [30.4208241, 59.685263599999985], [30.420765699999997, 59.68524529999996], [30.420725200000003, 59.6852199], [30.420524099999998, 59.68502589999999], [30.42004686535551, 59.68459220016549], [30.4198773, 59.6844381], [30.419785899170478, 59.68436276317651], [30.419754400000002, 59.68433679999999], [30.419778400000002, 59.68429879999999], [30.419791841563608, 59.68428894058598], [30.4198178, 59.6842699], [30.4198611, 59.68424479999997], [30.4199147, 59.6842275], [30.4204571, 59.6841359], [30.420596800000002, 59.68410409999997], [30.4206523, 59.6840789], [30.4206899, 59.6840485], [30.420744803877376, 59.68398290497232], [30.42112773661331, 59.68352539778738], [30.4211962, 59.68344359999999], [30.4212598, 59.68347490000001], [30.4213209, 59.68351270000002], [30.4214095, 59.68360199999999], [30.42152487722869, 59.68373520821699], [30.421767811530135, 59.683524711343374], [30.42226174294526, 59.68358148751569], [30.42227045187019, 59.683568965266176], [30.422108985873177, 59.68317090052805], [30.421821173689686, 59.682977238248995], [30.42177829656189, 59.68275421516965], [30.421843182559286, 59.68265322201155], [30.42246099805218, 59.68239020103038], [30.42269746741076, 59.68217537481893], [30.422862882703242, 59.682109603868604], [30.42356760662258, 59.68074855016356], [30.423981484016398, 59.680507990689414], [30.424514942542217, 59.68036267993363], [30.42508003858275, 59.679150421304584], [30.4249617, 59.679160799999984], [30.424452, 59.67907009999999], [30.424189599999995, 59.6790174], [30.424017900000003, 59.6789991], [30.4237839, 59.678896899999934], [30.4237296, 59.6788156], [30.4236987, 59.67875130000001], [30.4236813, 59.6787168], [30.423657100000003, 59.6786599], [30.423592800000005, 59.6786098], [30.423457600000003, 59.678633399999995], [30.423352500000004, 59.67865799999999], [30.4232774, 59.678690199999984], [30.423202400000005, 59.6787205], [30.4231573, 59.678729999999995], [30.4230973, 59.6787243], [30.423037199999996, 59.678699699999996], [30.422954599999997, 59.67868639999999], [30.4227693, 59.67868020000001], [30.4226097, 59.67871339999999], [30.422439400000002, 59.67869919999998], [30.422274500000004, 59.6786592], [30.4221793, 59.67860169999999], [30.422072000000004, 59.6785096], [30.422026400000004, 59.678458099999986], [30.421957999999997, 59.67840870000003], [30.4218774, 59.67835669999999], [30.421761099999998, 59.6782885], [30.4216447, 59.678233500000005], [30.4215284, 59.67817290000001], [30.421355700000003, 59.6781236], [30.4212544, 59.678100900000004], [30.4211943, 59.678082], [30.4211418, 59.678076299999994], [30.421081700000002, 59.67808569999998], [30.421066699999997, 59.678104699999956], [30.421081700000002, 59.6781312], [30.421104200000002, 59.6781559], [30.421096700000003, 59.6781767], [30.421055500000005, 59.67818620000001], [30.4209804, 59.67816340000001], [30.420822700000002, 59.678114199999996], [30.4206614, 59.6780649], [30.4205788, 59.67805919999997], [30.420511200000004, 59.67806109999998], [30.420466200000003, 59.67809139999999], [30.4204399, 59.678144499999995], [30.420428600000005, 59.6781994], [30.4204024, 59.678216499999984], [30.4203536, 59.67822029999999], [30.420301, 59.67821079999998], [30.4202485, 59.6781824], [30.4201884, 59.67814450000001], [30.4201209, 59.678112299999974], [30.420072799999996, 59.678096100000005], [30.419940699999998, 59.67805919999997], [30.4198469, 59.678013699999994], [30.4197605, 59.6779986], [30.419663, 59.67800429999999], [30.4195541, 59.67802319999999], [30.4194603, 59.67802319999999], [30.4193815, 59.6779815], [30.4193214, 59.67792659999999], [30.4192726, 59.67789059999999], [30.419193800000002, 59.67786209999999], [30.419156074764153, 59.67785594787992], [30.418822200000005, 59.67780149999999], [30.418668300000004, 59.67777689999999], [30.418495700000005, 59.67777310000001], [30.418319299999997, 59.67776360000001], [30.41827051098989, 59.67775911095339], [30.418195400000002, 59.6777522], [30.418052799999998, 59.6777541], [30.4178876, 59.67775029999998], [30.4177412, 59.6777712]]], &quot;type&quot;: &quot;Polygon&quot;}, &quot;id&quot;: &quot;107&quot;, &quot;properties&quot;: {&quot;tags&quot;: &quot;[\\u0027ENGINEERING_AND_TRANSPORTATION\\u0027]&quot;}, &quot;type&quot;: &quot;Feature&quot;}], &quot;type&quot;: &quot;FeatureCollection&quot;});\n",
       "\n",
       "        \n",
       "    \n",
       "    geo_json_bc6e54ec0c9145185bf349ecf1c44953.bindTooltip(\n",
       "    function(layer){\n",
       "    let div = L.DomUtil.create(&#x27;div&#x27;);\n",
       "    \n",
       "    let handleObject = feature=&gt;typeof(feature)==&#x27;object&#x27; ? JSON.stringify(feature) : feature;\n",
       "    let fields = [&quot;tags&quot;];\n",
       "    let aliases = [&quot;tags&quot;];\n",
       "    let table = &#x27;&lt;table&gt;&#x27; +\n",
       "        String(\n",
       "        fields.map(\n",
       "        (v,i)=&gt;\n",
       "        `&lt;tr&gt;\n",
       "            &lt;th&gt;${aliases[i]}&lt;/th&gt;\n",
       "            \n",
       "            &lt;td&gt;${handleObject(layer.feature.properties[v])}&lt;/td&gt;\n",
       "        &lt;/tr&gt;`).join(&#x27;&#x27;))\n",
       "    +&#x27;&lt;/table&gt;&#x27;;\n",
       "    div.innerHTML=table;\n",
       "    \n",
       "    return div\n",
       "    }\n",
       "    ,{&quot;className&quot;: &quot;foliumtooltip&quot;, &quot;sticky&quot;: true});\n",
       "                     \n",
       "&lt;/script&gt;\n",
       "&lt;/html&gt;\" style=\"position:absolute;width:100%;height:100%;left:0;top:0;border:none !important;\" allowfullscreen webkitallowfullscreen mozallowfullscreen></iframe></div></div>"
      ],
      "text/plain": [
       "<folium.folium.Map at 0x2aa0c6a3fa0>"
      ]
     },
     "execution_count": 23,
     "metadata": {},
     "output_type": "execute_result"
    }
   ],
   "source": [
    "selected_indices_3 = [78, 77,2831,2832,2483,210,190,8121,8794,491,494,107]\n",
    "# Извлечение полигонов с указанными индексами и столбцом 'tags'\n",
    "selected_polygons_3 = zoning_gdf.loc[selected_indices_3, ['geometry', 'tags']]\n",
    "\n",
    "# Шаг 2: Преобразуем столбец 'tags' в строковый тип, если это необходимо\n",
    "selected_polygons_3['tags'] = selected_polygons_3['tags'].astype(str)  # Преобразуем в строку\n",
    "# Убираем префикс 'Tag.' из значений в столбце 'tags'\n",
    "selected_polygons_3['tags'] = selected_polygons_3['tags'].str.replace('Tag.', '', regex=False)\n",
    "selected_polygons_3\n",
    "selected_polygons_3.to_file('selected_polygons_3.geojson', driver='GeoJSON')\n",
    "selected_polygons_3.explore()"
   ]
  },
  {
   "cell_type": "code",
   "execution_count": 112,
   "metadata": {},
   "outputs": [],
   "source": [
    "import geopandas as gpd\n",
    "\n",
    "poly_prob = gpd.read_file('selected_polygons_prob.geojson')"
   ]
  },
  {
   "cell_type": "code",
   "execution_count": 113,
   "metadata": {},
   "outputs": [
    {
     "data": {
      "text/html": [
       "<div>\n",
       "<style scoped>\n",
       "    .dataframe tbody tr th:only-of-type {\n",
       "        vertical-align: middle;\n",
       "    }\n",
       "\n",
       "    .dataframe tbody tr th {\n",
       "        vertical-align: top;\n",
       "    }\n",
       "\n",
       "    .dataframe thead th {\n",
       "        text-align: right;\n",
       "    }\n",
       "</style>\n",
       "<table border=\"1\" class=\"dataframe\">\n",
       "  <thead>\n",
       "    <tr style=\"text-align: right;\">\n",
       "      <th></th>\n",
       "      <th>tags</th>\n",
       "      <th>probability</th>\n",
       "      <th>geometry</th>\n",
       "    </tr>\n",
       "  </thead>\n",
       "  <tbody>\n",
       "    <tr>\n",
       "      <th>0</th>\n",
       "      <td>[RESIDENTIAL]</td>\n",
       "      <td>1.000</td>\n",
       "      <td>POLYGON ((29.85953 59.88851, 29.85988 59.88901...</td>\n",
       "    </tr>\n",
       "    <tr>\n",
       "      <th>1</th>\n",
       "      <td>[RECREATIONAL]</td>\n",
       "      <td>0.349</td>\n",
       "      <td>POLYGON ((29.86344 59.87999, 29.86373 59.87990...</td>\n",
       "    </tr>\n",
       "    <tr>\n",
       "      <th>2</th>\n",
       "      <td>[RECREATIONAL]</td>\n",
       "      <td>0.349</td>\n",
       "      <td>POLYGON ((29.83909 59.88509, 29.83881 59.88515...</td>\n",
       "    </tr>\n",
       "    <tr>\n",
       "      <th>3</th>\n",
       "      <td>[RESIDENTIAL]</td>\n",
       "      <td>1.000</td>\n",
       "      <td>POLYGON ((29.85856 59.88719, 29.85850 59.88712...</td>\n",
       "    </tr>\n",
       "    <tr>\n",
       "      <th>4</th>\n",
       "      <td>[RESIDENTIAL]</td>\n",
       "      <td>1.000</td>\n",
       "      <td>POLYGON ((29.86149 59.89121, 29.86134 59.89099...</td>\n",
       "    </tr>\n",
       "    <tr>\n",
       "      <th>5</th>\n",
       "      <td>[RECREATIONAL]</td>\n",
       "      <td>0.349</td>\n",
       "      <td>POLYGON ((29.85786 59.89350, 29.85804 59.89437...</td>\n",
       "    </tr>\n",
       "  </tbody>\n",
       "</table>\n",
       "</div>"
      ],
      "text/plain": [
       "             tags   probability  \\\n",
       "0   [RESIDENTIAL]         1.000   \n",
       "1  [RECREATIONAL]         0.349   \n",
       "2  [RECREATIONAL]         0.349   \n",
       "3   [RESIDENTIAL]         1.000   \n",
       "4   [RESIDENTIAL]         1.000   \n",
       "5  [RECREATIONAL]         0.349   \n",
       "\n",
       "                                            geometry  \n",
       "0  POLYGON ((29.85953 59.88851, 29.85988 59.88901...  \n",
       "1  POLYGON ((29.86344 59.87999, 29.86373 59.87990...  \n",
       "2  POLYGON ((29.83909 59.88509, 29.83881 59.88515...  \n",
       "3  POLYGON ((29.85856 59.88719, 29.85850 59.88712...  \n",
       "4  POLYGON ((29.86149 59.89121, 29.86134 59.89099...  \n",
       "5  POLYGON ((29.85786 59.89350, 29.85804 59.89437...  "
      ]
     },
     "execution_count": 113,
     "metadata": {},
     "output_type": "execute_result"
    }
   ],
   "source": [
    "poly_prob"
   ]
  },
  {
   "cell_type": "code",
   "execution_count": 103,
   "metadata": {},
   "outputs": [],
   "source": [
    "import pandas as pd\n",
    "import geopandas as gpd\n",
    "\n",
    "selected_polygons\n",
    "compatibility_matrix = pd.read_csv('matrix.csv', index_col=0)\n",
    "\n",
    "# Шаг 3: Найдем тег полигона с ID 13600\n",
    "target_polygon_id = 13600\n",
    "target_polygon = selected_polygons[selected_polygons.index == target_polygon_id]  # выбираем полигон с ID 13600\n",
    "if not target_polygon.empty:\n",
    "    target_tag = target_polygon['tags'].iloc[0][0]  # предполагаем, что это список, и берем первый элемент\n",
    "else:\n",
    "    raise ValueError(f\"Полигон с ID {target_polygon_id} не найден!\")\n",
    "\n",
    "# Шаг 4: Добавим столбец 'probability' для всех полигонов в GDF\n",
    "probabilities = []\n",
    "\n",
    "for idx, row in selected_polygons.iterrows():\n",
    "    zone = row['tags'][0]  # извлекаем зону для текущего полигона\n",
    "    # Извлекаем значение вероятности из матрицы сочетания для текущего полигона и целевого полигона\n",
    "    if target_tag in compatibility_matrix.columns and zone in compatibility_matrix.index:\n",
    "        probability = compatibility_matrix.loc[zone, target_tag]\n",
    "    else:\n",
    "        probability = 0  # Если сочетание не найдено в матрице, присваиваем 0\n",
    "    probabilities.append(probability)\n",
    "# Шаг 5: Добавим новый столбец 'probability' в GeoDataFrame\n",
    "selected_polygons['probability'] = probabilities\n",
    "# Шаг 6: Сохраним результат в новый файл GeoJSON\n",
    "selected_polygons.to_file('output_with_probabilities.geojson', driver='GeoJSON')\n",
    "\n",
    "# Выводим первые строки для проверки\n",
    "print(selected_polygons[['tags', 'probability']].head())"
   ]
  }
 ],
 "metadata": {
  "kernelspec": {
   "display_name": "Python 3",
   "language": "python",
   "name": "python3"
  },
  "language_info": {
   "codemirror_mode": {
    "name": "ipython",
    "version": 3
   },
   "file_extension": ".py",
   "mimetype": "text/x-python",
   "name": "python",
   "nbconvert_exporter": "python",
   "pygments_lexer": "ipython3",
   "version": "3.10.6"
  }
 },
 "nbformat": 4,
 "nbformat_minor": 2
}
